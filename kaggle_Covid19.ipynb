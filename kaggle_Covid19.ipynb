{
  "nbformat": 4,
  "nbformat_minor": 0,
  "metadata": {
    "colab": {
      "name": "ID5059 - Practical 3",
      "provenance": [],
      "collapsed_sections": []
    },
    "kernelspec": {
      "name": "python3",
      "display_name": "Python 3"
    }
  },
  "cells": [
    {
      "cell_type": "markdown",
      "metadata": {
        "id": "aRE6lVcn-z9-",
        "colab_type": "text"
      },
      "source": [
        "*I confirm that this is my own work, except where clearly indicated*"
      ]
    },
    {
      "cell_type": "markdown",
      "metadata": {
        "id": "minAyMVh-zaL",
        "colab_type": "text"
      },
      "source": [
        "## Covid-19 Global Forecasting (Week 2)"
      ]
    },
    {
      "cell_type": "markdown",
      "metadata": {
        "id": "FuwOBI9b_7vK",
        "colab_type": "text"
      },
      "source": [
        "#### Framing the problem:\n",
        "\n",
        "Forecasting **confirmed cases** and **fatalities** betwen April 1  April 30 by region and identify **factors** that impact transmission rate of Covid-19\n",
        "\n",
        "Predicting specific values based on labeled training examples\n",
        "<br>\n",
        "=> Supervised Learning Task & Mutlivariate Regression Problem"
      ]
    },
    {
      "cell_type": "markdown",
      "metadata": {
        "id": "tW2JyMBJBFeM",
        "colab_type": "text"
      },
      "source": [
        "#### Performance Measure\n",
        "\n",
        "**Root Mean Sqaure Error (RMSE)** : Indicates how much error the system typically makes in its predictions, with higher weight for larger errors \n",
        "\n",
        "**Root Mean Squared Log Error (RMSLE)** : Performance measure used by kaggle - more robust performance measure when outliers come into play \n",
        "= Provides relative error between predicted and actual error (larger penalty for underestimationg of actual variable than overestimation)\n",
        "\n",
        "**Case: Covid-19 Forecasting** <br>\n",
        "RMSLE usueful for Covid-19 case where the underestimation of target variable is not acceptable while overestimation can be tolerated"
      ]
    },
    {
      "cell_type": "code",
      "metadata": {
        "id": "Q3k1bTQNCc3_",
        "colab_type": "code",
        "colab": {}
      },
      "source": [
        "#Loading packages \n",
        "\n",
        "#Data Exploration\n",
        "import pandas as pd \n",
        "import numpy as np\n",
        "import matplotlib.pyplot as plt\n",
        "import seaborn as sns\n",
        "import plotly.graph_objects as go\n",
        "import plotly.express as px\n",
        "#Data Preparation\n",
        "import datetime\n",
        "from sklearn.impute import SimpleImputer\n",
        "from sklearn.pipeline import Pipeline\n",
        "from sklearn.model_selection import train_test_split\n",
        "from sklearn.preprocessing import StandardScaler, OneHotEncoder, MinMaxScaler\n",
        "from sklearn import preprocessing \n",
        "from sklearn.compose import ColumnTransformer\n",
        "#Model Testing\n",
        "import tensorflow as tf\n",
        "from tensorflow import keras\n",
        "from sklearn.linear_model import LinearRegression\n",
        "from sklearn.ensemble import RandomForestRegressor\n",
        "from sklearn.multioutput import MultiOutputRegressor\n",
        "from sklearn.tree import DecisionTreeRegressor\n",
        "#from sklearn.model_selection import RepeatedKFold\n",
        "#Model evaluation\n",
        "from sklearn.metrics import mean_squared_error, mean_squared_log_error\n",
        "from sklearn.model_selection import cross_val_score, GridSearchCV\n",
        "from sklearn.metrics import r2_score\n",
        "#from sklearn.model_selection import cross_val_predict\n",
        "from numpy import absolute\n",
        "from numpy import mean\n",
        "from numpy import std"
      ],
      "execution_count": 0,
      "outputs": []
    },
    {
      "cell_type": "code",
      "metadata": {
        "id": "o9p2r2KcEhQg",
        "colab_type": "code",
        "colab": {
          "resources": {
            "http://localhost:8080/nbextensions/google.colab/files.js": {
              "data": "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",
              "ok": true,
              "headers": [
                [
                  "content-type",
                  "application/javascript"
                ]
              ],
              "status": 200,
              "status_text": ""
            }
          },
          "base_uri": "https://localhost:8080/",
          "height": 74
        },
        "outputId": "33018617-4bc3-4463-a546-a7641a76ec19"
      },
      "source": [
        "# Colab library to upload files to notebook\n",
        "from google.colab import files\n",
        "\n",
        "# Install Kaggle library\n",
        "!pip install -q kaggle\n",
        "\n",
        "# Upload kaggle API key file\n",
        "uploaded = files.upload()"
      ],
      "execution_count": 4,
      "outputs": [
        {
          "output_type": "display_data",
          "data": {
            "text/html": [
              "\n",
              "     <input type=\"file\" id=\"files-3235beb8-be75-4437-b566-e1fc3182fedb\" name=\"files[]\" multiple disabled />\n",
              "     <output id=\"result-3235beb8-be75-4437-b566-e1fc3182fedb\">\n",
              "      Upload widget is only available when the cell has been executed in the\n",
              "      current browser session. Please rerun this cell to enable.\n",
              "      </output>\n",
              "      <script src=\"/nbextensions/google.colab/files.js\"></script> "
            ],
            "text/plain": [
              "<IPython.core.display.HTML object>"
            ]
          },
          "metadata": {
            "tags": []
          }
        },
        {
          "output_type": "stream",
          "text": [
            "Saving kaggle.json to kaggle.json\n"
          ],
          "name": "stdout"
        }
      ]
    },
    {
      "cell_type": "code",
      "metadata": {
        "id": "_2oP9BUeFBH5",
        "colab_type": "code",
        "colab": {
          "base_uri": "https://localhost:8080/",
          "height": 212
        },
        "outputId": "913c6852-1f66-4ae2-a2e8-fb7bc8d3ed30"
      },
      "source": [
        "!mkdir -p ~/.kaggle\n",
        "!cp kaggle.json ~/.kaggle/\n",
        "!ls ~/.kaggle\n",
        "!chmod 600 /root/.kaggle/kaggle.json\n",
        "\n",
        "#Data-API\n",
        "!kaggle competitions download -c covid19-global-forecasting-week-2"
      ],
      "execution_count": 5,
      "outputs": [
        {
          "output_type": "stream",
          "text": [
            "kaggle.json\n",
            "Warning: Looks like you're using an outdated API Version, please consider updating (server 1.5.6 / client 1.5.4)\n",
            "Downloading train.csv to /content\n",
            "  0% 0.00/765k [00:00<?, ?B/s]\n",
            "100% 765k/765k [00:00<00:00, 52.2MB/s]\n",
            "Downloading test.csv to /content\n",
            "  0% 0.00/357k [00:00<?, ?B/s]\n",
            "100% 357k/357k [00:00<00:00, 48.8MB/s]\n",
            "Downloading submission.csv to /content\n",
            "  0% 0.00/113k [00:00<?, ?B/s]\n",
            "100% 113k/113k [00:00<00:00, 39.7MB/s]\n"
          ],
          "name": "stdout"
        }
      ]
    },
    {
      "cell_type": "markdown",
      "metadata": {
        "id": "1jH3cUAaFiVS",
        "colab_type": "text"
      },
      "source": [
        "Additional dataset: **population by country (2020)** <br>\n",
        "* Description: sortable list of countries by their population- 2020. There are 235 countries along with their population. And there are 11 columns each representing different features of countries.\n",
        "\n",
        "* Columns: <br>\n",
        "  * Country (or dependency)This column contains different country's name (235 countries) \n",
        "  * Population (2020)This columns contains the population of different countries\n",
        "  * Yearly ChangeThis columns contains the population change by yearly\n",
        "  * Net ChangeThis columns contains the net change of the population\n",
        "  * Density (P/Km²)The column contains the density of the population\n",
        "  * Land Area (Km²)This column contain the land area in terms of kilometer square\n",
        "  * Migrants (net)This column represents the migrants of the countries\n",
        "  * Fert. RateThis column represents the fertility or the growth rate of individual countries\n",
        " * Med. AgeThis column represents the median age (Middle Age or the average age) lifespan of the country\n",
        "  * Urban Pop %This column represents the urban population\n",
        " * World ShareThis column represents the population contributed to the world's share by individual country\n"
      ]
    },
    {
      "cell_type": "code",
      "metadata": {
        "id": "i1XuqMZ5Fdus",
        "colab_type": "code",
        "colab": {
          "resources": {
            "http://localhost:8080/nbextensions/google.colab/files.js": {
              "data": "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",
              "ok": true,
              "headers": [
                [
                  "content-type",
                  "application/javascript"
                ]
              ],
              "status": 200,
              "status_text": ""
            }
          },
          "base_uri": "https://localhost:8080/",
          "height": 74
        },
        "outputId": "a970696a-0248-4a1f-e87f-8aab06222104"
      },
      "source": [
        "uploaded = files.upload()"
      ],
      "execution_count": 6,
      "outputs": [
        {
          "output_type": "display_data",
          "data": {
            "text/html": [
              "\n",
              "     <input type=\"file\" id=\"files-8c48a830-6e48-4f41-81a4-1c7733b83dfb\" name=\"files[]\" multiple disabled />\n",
              "     <output id=\"result-8c48a830-6e48-4f41-81a4-1c7733b83dfb\">\n",
              "      Upload widget is only available when the cell has been executed in the\n",
              "      current browser session. Please rerun this cell to enable.\n",
              "      </output>\n",
              "      <script src=\"/nbextensions/google.colab/files.js\"></script> "
            ],
            "text/plain": [
              "<IPython.core.display.HTML object>"
            ]
          },
          "metadata": {
            "tags": []
          }
        },
        {
          "output_type": "stream",
          "text": [
            "Saving population_by_country_2020.csv to population_by_country_2020.csv\n"
          ],
          "name": "stdout"
        }
      ]
    },
    {
      "cell_type": "code",
      "metadata": {
        "id": "_8wbF74zFLqa",
        "colab_type": "code",
        "colab": {}
      },
      "source": [
        "# Import the test and train datasets into pandas dataframe\n",
        "train = pd.read_csv('train.csv')\n",
        "test = pd.read_csv('test.csv')"
      ],
      "execution_count": 0,
      "outputs": []
    },
    {
      "cell_type": "code",
      "metadata": {
        "id": "jFKO8cz4G051",
        "colab_type": "code",
        "colab": {}
      },
      "source": [
        "#import countryinfo and covidtest datasets into pandas dataframe\n",
        "df_population = pd.read_csv('population_by_country_2020.csv')"
      ],
      "execution_count": 0,
      "outputs": []
    },
    {
      "cell_type": "markdown",
      "metadata": {
        "id": "SZm3YmvuHWoi",
        "colab_type": "text"
      },
      "source": [
        "##Explore and Clean Data\n"
      ]
    },
    {
      "cell_type": "code",
      "metadata": {
        "id": "_9xosXePHDFk",
        "colab_type": "code",
        "colab": {
          "base_uri": "https://localhost:8080/",
          "height": 365
        },
        "outputId": "f9d1d84e-6cd5-4581-c5fb-10e65299c02b"
      },
      "source": [
        "#print first and last rows of datasets\n",
        "print(\"TRAIN:\", train.shape)\n",
        "train.iloc[np.r_[0:5, -6:-1], :]\n",
        "#target: ConfirmedCases and Fatalities"
      ],
      "execution_count": 10,
      "outputs": [
        {
          "output_type": "stream",
          "text": [
            "TRAIN: (20580, 6)\n"
          ],
          "name": "stdout"
        },
        {
          "output_type": "execute_result",
          "data": {
            "text/html": [
              "<div>\n",
              "<style scoped>\n",
              "    .dataframe tbody tr th:only-of-type {\n",
              "        vertical-align: middle;\n",
              "    }\n",
              "\n",
              "    .dataframe tbody tr th {\n",
              "        vertical-align: top;\n",
              "    }\n",
              "\n",
              "    .dataframe thead th {\n",
              "        text-align: right;\n",
              "    }\n",
              "</style>\n",
              "<table border=\"1\" class=\"dataframe\">\n",
              "  <thead>\n",
              "    <tr style=\"text-align: right;\">\n",
              "      <th></th>\n",
              "      <th>Id</th>\n",
              "      <th>Province_State</th>\n",
              "      <th>Country_Region</th>\n",
              "      <th>Date</th>\n",
              "      <th>ConfirmedCases</th>\n",
              "      <th>Fatalities</th>\n",
              "    </tr>\n",
              "  </thead>\n",
              "  <tbody>\n",
              "    <tr>\n",
              "      <th>0</th>\n",
              "      <td>1</td>\n",
              "      <td>NaN</td>\n",
              "      <td>Afghanistan</td>\n",
              "      <td>2020-01-22</td>\n",
              "      <td>0.0</td>\n",
              "      <td>0.0</td>\n",
              "    </tr>\n",
              "    <tr>\n",
              "      <th>1</th>\n",
              "      <td>2</td>\n",
              "      <td>NaN</td>\n",
              "      <td>Afghanistan</td>\n",
              "      <td>2020-01-23</td>\n",
              "      <td>0.0</td>\n",
              "      <td>0.0</td>\n",
              "    </tr>\n",
              "    <tr>\n",
              "      <th>2</th>\n",
              "      <td>3</td>\n",
              "      <td>NaN</td>\n",
              "      <td>Afghanistan</td>\n",
              "      <td>2020-01-24</td>\n",
              "      <td>0.0</td>\n",
              "      <td>0.0</td>\n",
              "    </tr>\n",
              "    <tr>\n",
              "      <th>3</th>\n",
              "      <td>4</td>\n",
              "      <td>NaN</td>\n",
              "      <td>Afghanistan</td>\n",
              "      <td>2020-01-25</td>\n",
              "      <td>0.0</td>\n",
              "      <td>0.0</td>\n",
              "    </tr>\n",
              "    <tr>\n",
              "      <th>4</th>\n",
              "      <td>5</td>\n",
              "      <td>NaN</td>\n",
              "      <td>Afghanistan</td>\n",
              "      <td>2020-01-26</td>\n",
              "      <td>0.0</td>\n",
              "      <td>0.0</td>\n",
              "    </tr>\n",
              "    <tr>\n",
              "      <th>20574</th>\n",
              "      <td>29365</td>\n",
              "      <td>NaN</td>\n",
              "      <td>Zimbabwe</td>\n",
              "      <td>2020-03-26</td>\n",
              "      <td>3.0</td>\n",
              "      <td>1.0</td>\n",
              "    </tr>\n",
              "    <tr>\n",
              "      <th>20575</th>\n",
              "      <td>29366</td>\n",
              "      <td>NaN</td>\n",
              "      <td>Zimbabwe</td>\n",
              "      <td>2020-03-27</td>\n",
              "      <td>5.0</td>\n",
              "      <td>1.0</td>\n",
              "    </tr>\n",
              "    <tr>\n",
              "      <th>20576</th>\n",
              "      <td>29367</td>\n",
              "      <td>NaN</td>\n",
              "      <td>Zimbabwe</td>\n",
              "      <td>2020-03-28</td>\n",
              "      <td>7.0</td>\n",
              "      <td>1.0</td>\n",
              "    </tr>\n",
              "    <tr>\n",
              "      <th>20577</th>\n",
              "      <td>29368</td>\n",
              "      <td>NaN</td>\n",
              "      <td>Zimbabwe</td>\n",
              "      <td>2020-03-29</td>\n",
              "      <td>7.0</td>\n",
              "      <td>1.0</td>\n",
              "    </tr>\n",
              "    <tr>\n",
              "      <th>20578</th>\n",
              "      <td>29369</td>\n",
              "      <td>NaN</td>\n",
              "      <td>Zimbabwe</td>\n",
              "      <td>2020-03-30</td>\n",
              "      <td>7.0</td>\n",
              "      <td>1.0</td>\n",
              "    </tr>\n",
              "  </tbody>\n",
              "</table>\n",
              "</div>"
            ],
            "text/plain": [
              "          Id Province_State  ... ConfirmedCases Fatalities\n",
              "0          1            NaN  ...            0.0        0.0\n",
              "1          2            NaN  ...            0.0        0.0\n",
              "2          3            NaN  ...            0.0        0.0\n",
              "3          4            NaN  ...            0.0        0.0\n",
              "4          5            NaN  ...            0.0        0.0\n",
              "20574  29365            NaN  ...            3.0        1.0\n",
              "20575  29366            NaN  ...            5.0        1.0\n",
              "20576  29367            NaN  ...            7.0        1.0\n",
              "20577  29368            NaN  ...            7.0        1.0\n",
              "20578  29369            NaN  ...            7.0        1.0\n",
              "\n",
              "[10 rows x 6 columns]"
            ]
          },
          "metadata": {
            "tags": []
          },
          "execution_count": 10
        }
      ]
    },
    {
      "cell_type": "code",
      "metadata": {
        "id": "SkoPKAd8Hlic",
        "colab_type": "code",
        "colab": {
          "base_uri": "https://localhost:8080/",
          "height": 365
        },
        "outputId": "b928db0b-fb4c-4e71-b5a5-b344937591ff"
      },
      "source": [
        "print(\"TEST:\", test.shape)\n",
        "test.iloc[np.r_[0:5, -6:-1], :]"
      ],
      "execution_count": 11,
      "outputs": [
        {
          "output_type": "stream",
          "text": [
            "TEST: (12642, 4)\n"
          ],
          "name": "stdout"
        },
        {
          "output_type": "execute_result",
          "data": {
            "text/html": [
              "<div>\n",
              "<style scoped>\n",
              "    .dataframe tbody tr th:only-of-type {\n",
              "        vertical-align: middle;\n",
              "    }\n",
              "\n",
              "    .dataframe tbody tr th {\n",
              "        vertical-align: top;\n",
              "    }\n",
              "\n",
              "    .dataframe thead th {\n",
              "        text-align: right;\n",
              "    }\n",
              "</style>\n",
              "<table border=\"1\" class=\"dataframe\">\n",
              "  <thead>\n",
              "    <tr style=\"text-align: right;\">\n",
              "      <th></th>\n",
              "      <th>ForecastId</th>\n",
              "      <th>Province_State</th>\n",
              "      <th>Country_Region</th>\n",
              "      <th>Date</th>\n",
              "    </tr>\n",
              "  </thead>\n",
              "  <tbody>\n",
              "    <tr>\n",
              "      <th>0</th>\n",
              "      <td>1</td>\n",
              "      <td>NaN</td>\n",
              "      <td>Afghanistan</td>\n",
              "      <td>2020-03-19</td>\n",
              "    </tr>\n",
              "    <tr>\n",
              "      <th>1</th>\n",
              "      <td>2</td>\n",
              "      <td>NaN</td>\n",
              "      <td>Afghanistan</td>\n",
              "      <td>2020-03-20</td>\n",
              "    </tr>\n",
              "    <tr>\n",
              "      <th>2</th>\n",
              "      <td>3</td>\n",
              "      <td>NaN</td>\n",
              "      <td>Afghanistan</td>\n",
              "      <td>2020-03-21</td>\n",
              "    </tr>\n",
              "    <tr>\n",
              "      <th>3</th>\n",
              "      <td>4</td>\n",
              "      <td>NaN</td>\n",
              "      <td>Afghanistan</td>\n",
              "      <td>2020-03-22</td>\n",
              "    </tr>\n",
              "    <tr>\n",
              "      <th>4</th>\n",
              "      <td>5</td>\n",
              "      <td>NaN</td>\n",
              "      <td>Afghanistan</td>\n",
              "      <td>2020-03-23</td>\n",
              "    </tr>\n",
              "    <tr>\n",
              "      <th>12636</th>\n",
              "      <td>12637</td>\n",
              "      <td>NaN</td>\n",
              "      <td>Zimbabwe</td>\n",
              "      <td>2020-04-25</td>\n",
              "    </tr>\n",
              "    <tr>\n",
              "      <th>12637</th>\n",
              "      <td>12638</td>\n",
              "      <td>NaN</td>\n",
              "      <td>Zimbabwe</td>\n",
              "      <td>2020-04-26</td>\n",
              "    </tr>\n",
              "    <tr>\n",
              "      <th>12638</th>\n",
              "      <td>12639</td>\n",
              "      <td>NaN</td>\n",
              "      <td>Zimbabwe</td>\n",
              "      <td>2020-04-27</td>\n",
              "    </tr>\n",
              "    <tr>\n",
              "      <th>12639</th>\n",
              "      <td>12640</td>\n",
              "      <td>NaN</td>\n",
              "      <td>Zimbabwe</td>\n",
              "      <td>2020-04-28</td>\n",
              "    </tr>\n",
              "    <tr>\n",
              "      <th>12640</th>\n",
              "      <td>12641</td>\n",
              "      <td>NaN</td>\n",
              "      <td>Zimbabwe</td>\n",
              "      <td>2020-04-29</td>\n",
              "    </tr>\n",
              "  </tbody>\n",
              "</table>\n",
              "</div>"
            ],
            "text/plain": [
              "       ForecastId Province_State Country_Region        Date\n",
              "0               1            NaN    Afghanistan  2020-03-19\n",
              "1               2            NaN    Afghanistan  2020-03-20\n",
              "2               3            NaN    Afghanistan  2020-03-21\n",
              "3               4            NaN    Afghanistan  2020-03-22\n",
              "4               5            NaN    Afghanistan  2020-03-23\n",
              "12636       12637            NaN       Zimbabwe  2020-04-25\n",
              "12637       12638            NaN       Zimbabwe  2020-04-26\n",
              "12638       12639            NaN       Zimbabwe  2020-04-27\n",
              "12639       12640            NaN       Zimbabwe  2020-04-28\n",
              "12640       12641            NaN       Zimbabwe  2020-04-29"
            ]
          },
          "metadata": {
            "tags": []
          },
          "execution_count": 11
        }
      ]
    },
    {
      "cell_type": "code",
      "metadata": {
        "id": "_4KmE_vFHs94",
        "colab_type": "code",
        "colab": {
          "base_uri": "https://localhost:8080/",
          "height": 365
        },
        "outputId": "f2af04b7-d7d9-4235-8c8c-3cc2cfc89f36"
      },
      "source": [
        "print(\"POPULATION INFO:\", df_population.shape)\n",
        "df_population.iloc[np.r_[0:5, -6:-1], :]"
      ],
      "execution_count": 12,
      "outputs": [
        {
          "output_type": "stream",
          "text": [
            "POPULATION INFO: (235, 11)\n"
          ],
          "name": "stdout"
        },
        {
          "output_type": "execute_result",
          "data": {
            "text/html": [
              "<div>\n",
              "<style scoped>\n",
              "    .dataframe tbody tr th:only-of-type {\n",
              "        vertical-align: middle;\n",
              "    }\n",
              "\n",
              "    .dataframe tbody tr th {\n",
              "        vertical-align: top;\n",
              "    }\n",
              "\n",
              "    .dataframe thead th {\n",
              "        text-align: right;\n",
              "    }\n",
              "</style>\n",
              "<table border=\"1\" class=\"dataframe\">\n",
              "  <thead>\n",
              "    <tr style=\"text-align: right;\">\n",
              "      <th></th>\n",
              "      <th>Country (or dependency)</th>\n",
              "      <th>Population (2020)</th>\n",
              "      <th>Yearly Change</th>\n",
              "      <th>Net Change</th>\n",
              "      <th>Density (P/Km²)</th>\n",
              "      <th>Land Area (Km²)</th>\n",
              "      <th>Migrants (net)</th>\n",
              "      <th>Fert. Rate</th>\n",
              "      <th>Med. Age</th>\n",
              "      <th>Urban Pop %</th>\n",
              "      <th>World Share</th>\n",
              "    </tr>\n",
              "  </thead>\n",
              "  <tbody>\n",
              "    <tr>\n",
              "      <th>0</th>\n",
              "      <td>China</td>\n",
              "      <td>1438207241</td>\n",
              "      <td>0.39 %</td>\n",
              "      <td>5540090</td>\n",
              "      <td>153</td>\n",
              "      <td>9388211</td>\n",
              "      <td>-348399.0</td>\n",
              "      <td>1.7</td>\n",
              "      <td>38</td>\n",
              "      <td>61 %</td>\n",
              "      <td>18.47 %</td>\n",
              "    </tr>\n",
              "    <tr>\n",
              "      <th>1</th>\n",
              "      <td>India</td>\n",
              "      <td>1377233523</td>\n",
              "      <td>0.99 %</td>\n",
              "      <td>13586631</td>\n",
              "      <td>464</td>\n",
              "      <td>2973190</td>\n",
              "      <td>-532687.0</td>\n",
              "      <td>2.2</td>\n",
              "      <td>28</td>\n",
              "      <td>35 %</td>\n",
              "      <td>17.70 %</td>\n",
              "    </tr>\n",
              "    <tr>\n",
              "      <th>2</th>\n",
              "      <td>United States</td>\n",
              "      <td>330610570</td>\n",
              "      <td>0.59 %</td>\n",
              "      <td>1937734</td>\n",
              "      <td>36</td>\n",
              "      <td>9147420</td>\n",
              "      <td>954806.0</td>\n",
              "      <td>1.8</td>\n",
              "      <td>38</td>\n",
              "      <td>83 %</td>\n",
              "      <td>4.25 %</td>\n",
              "    </tr>\n",
              "    <tr>\n",
              "      <th>3</th>\n",
              "      <td>Indonesia</td>\n",
              "      <td>272931713</td>\n",
              "      <td>1.07 %</td>\n",
              "      <td>2898047</td>\n",
              "      <td>151</td>\n",
              "      <td>1811570</td>\n",
              "      <td>-98955.0</td>\n",
              "      <td>2.3</td>\n",
              "      <td>30</td>\n",
              "      <td>56 %</td>\n",
              "      <td>3.51 %</td>\n",
              "    </tr>\n",
              "    <tr>\n",
              "      <th>4</th>\n",
              "      <td>Pakistan</td>\n",
              "      <td>219992900</td>\n",
              "      <td>2.00 %</td>\n",
              "      <td>4327022</td>\n",
              "      <td>287</td>\n",
              "      <td>770880</td>\n",
              "      <td>-233379.0</td>\n",
              "      <td>3.6</td>\n",
              "      <td>23</td>\n",
              "      <td>35 %</td>\n",
              "      <td>2.83 %</td>\n",
              "    </tr>\n",
              "    <tr>\n",
              "      <th>229</th>\n",
              "      <td>Saint Pierre &amp; Miquelon</td>\n",
              "      <td>5800</td>\n",
              "      <td>-0.48 %</td>\n",
              "      <td>-28</td>\n",
              "      <td>25</td>\n",
              "      <td>230</td>\n",
              "      <td>NaN</td>\n",
              "      <td>N.A.</td>\n",
              "      <td>N.A.</td>\n",
              "      <td>100 %</td>\n",
              "      <td>0.00 %</td>\n",
              "    </tr>\n",
              "    <tr>\n",
              "      <th>230</th>\n",
              "      <td>Montserrat</td>\n",
              "      <td>4991</td>\n",
              "      <td>0.06 %</td>\n",
              "      <td>3</td>\n",
              "      <td>50</td>\n",
              "      <td>100</td>\n",
              "      <td>NaN</td>\n",
              "      <td>N.A.</td>\n",
              "      <td>N.A.</td>\n",
              "      <td>10 %</td>\n",
              "      <td>0.00 %</td>\n",
              "    </tr>\n",
              "    <tr>\n",
              "      <th>231</th>\n",
              "      <td>Falkland Islands</td>\n",
              "      <td>3458</td>\n",
              "      <td>3.05 %</td>\n",
              "      <td>103</td>\n",
              "      <td>0</td>\n",
              "      <td>12170</td>\n",
              "      <td>NaN</td>\n",
              "      <td>N.A.</td>\n",
              "      <td>N.A.</td>\n",
              "      <td>66 %</td>\n",
              "      <td>0.00 %</td>\n",
              "    </tr>\n",
              "    <tr>\n",
              "      <th>232</th>\n",
              "      <td>Niue</td>\n",
              "      <td>1624</td>\n",
              "      <td>0.68 %</td>\n",
              "      <td>11</td>\n",
              "      <td>6</td>\n",
              "      <td>260</td>\n",
              "      <td>NaN</td>\n",
              "      <td>N.A.</td>\n",
              "      <td>N.A.</td>\n",
              "      <td>46 %</td>\n",
              "      <td>0.00 %</td>\n",
              "    </tr>\n",
              "    <tr>\n",
              "      <th>233</th>\n",
              "      <td>Tokelau</td>\n",
              "      <td>1354</td>\n",
              "      <td>1.27 %</td>\n",
              "      <td>17</td>\n",
              "      <td>136</td>\n",
              "      <td>10</td>\n",
              "      <td>NaN</td>\n",
              "      <td>N.A.</td>\n",
              "      <td>N.A.</td>\n",
              "      <td>0 %</td>\n",
              "      <td>0.00 %</td>\n",
              "    </tr>\n",
              "  </tbody>\n",
              "</table>\n",
              "</div>"
            ],
            "text/plain": [
              "     Country (or dependency)  Population (2020)  ... Urban Pop %  World Share\n",
              "0                      China         1438207241  ...        61 %      18.47 %\n",
              "1                      India         1377233523  ...        35 %      17.70 %\n",
              "2              United States          330610570  ...        83 %       4.25 %\n",
              "3                  Indonesia          272931713  ...        56 %       3.51 %\n",
              "4                   Pakistan          219992900  ...        35 %       2.83 %\n",
              "229  Saint Pierre & Miquelon               5800  ...       100 %       0.00 %\n",
              "230               Montserrat               4991  ...        10 %       0.00 %\n",
              "231         Falkland Islands               3458  ...        66 %       0.00 %\n",
              "232                     Niue               1624  ...        46 %       0.00 %\n",
              "233                  Tokelau               1354  ...         0 %       0.00 %\n",
              "\n",
              "[10 rows x 11 columns]"
            ]
          },
          "metadata": {
            "tags": []
          },
          "execution_count": 12
        }
      ]
    },
    {
      "cell_type": "code",
      "metadata": {
        "id": "6thSybua-ufH",
        "colab_type": "code",
        "colab": {
          "base_uri": "https://localhost:8080/",
          "height": 141
        },
        "outputId": "5568284f-e67b-4abe-9d3e-a231a6eb6675"
      },
      "source": [
        "print('POPULATION COLUMN NAMES', df_population.columns)\n",
        "print('COVID DATA COLUMN NAMES', train.columns)"
      ],
      "execution_count": 13,
      "outputs": [
        {
          "output_type": "stream",
          "text": [
            "POPULATION COLUMN NAMES Index(['Country (or dependency)', 'Population (2020)', 'Yearly Change',\n",
            "       'Net Change', 'Density (P/Km²)', 'Land Area (Km²)', 'Migrants (net)',\n",
            "       'Fert. Rate', 'Med. Age', 'Urban Pop %', 'World Share'],\n",
            "      dtype='object')\n",
            "COVID DATA COLUMN NAMES Index(['Id', 'Province_State', 'Country_Region', 'Date', 'ConfirmedCases',\n",
            "       'Fatalities'],\n",
            "      dtype='object')\n"
          ],
          "name": "stdout"
        }
      ]
    },
    {
      "cell_type": "markdown",
      "metadata": {
        "id": "9vs7y4wXNCsl",
        "colab_type": "text"
      },
      "source": [
        "## Transform Population Data to match Train/Test data"
      ]
    },
    {
      "cell_type": "code",
      "metadata": {
        "id": "o1YONaVtIYSF",
        "colab_type": "code",
        "colab": {}
      },
      "source": [
        "#rename columns\n",
        "train.rename(columns={'Country_Region':'Country'}, inplace=True)\n",
        "test.rename(columns={'Country_Region':'Country'}, inplace=True)\n",
        "df_population.rename(columns={'Country (or dependency)':'Country'}, inplace=True)"
      ],
      "execution_count": 0,
      "outputs": []
    },
    {
      "cell_type": "code",
      "metadata": {
        "id": "cgvRENcBI9JW",
        "colab_type": "code",
        "colab": {
          "base_uri": "https://localhost:8080/",
          "height": 391
        },
        "outputId": "5b091dee-27ad-42be-a4d0-796e3503fb0c"
      },
      "source": [
        "#Top 20 overview of target variables\n",
        "train.loc[:, ['Country', 'ConfirmedCases', 'Fatalities']].groupby(['Country']).max().sort_values(by = 'ConfirmedCases', ascending=False).reset_index()[:20].style.background_gradient()"
      ],
      "execution_count": 15,
      "outputs": [
        {
          "output_type": "execute_result",
          "data": {
            "text/html": [
              "<style  type=\"text/css\" >\n",
              "    #T_9de4d356_950e_11ea_986a_0242ac1c0002row0_col1 {\n",
              "            background-color:  #023858;\n",
              "            color:  #f1f1f1;\n",
              "        }    #T_9de4d356_950e_11ea_986a_0242ac1c0002row0_col2 {\n",
              "            background-color:  #023858;\n",
              "            color:  #f1f1f1;\n",
              "        }    #T_9de4d356_950e_11ea_986a_0242ac1c0002row1_col1 {\n",
              "            background-color:  #045280;\n",
              "            color:  #f1f1f1;\n",
              "        }    #T_9de4d356_950e_11ea_986a_0242ac1c0002row1_col2 {\n",
              "            background-color:  #2081b9;\n",
              "            color:  #000000;\n",
              "        }    #T_9de4d356_950e_11ea_986a_0242ac1c0002row2_col1 {\n",
              "            background-color:  #167bb6;\n",
              "            color:  #000000;\n",
              "        }    #T_9de4d356_950e_11ea_986a_0242ac1c0002row2_col2 {\n",
              "            background-color:  #ede7f2;\n",
              "            color:  #000000;\n",
              "        }    #T_9de4d356_950e_11ea_986a_0242ac1c0002row3_col1 {\n",
              "            background-color:  #2685bb;\n",
              "            color:  #000000;\n",
              "        }    #T_9de4d356_950e_11ea_986a_0242ac1c0002row3_col2 {\n",
              "            background-color:  #f6eff7;\n",
              "            color:  #000000;\n",
              "        }    #T_9de4d356_950e_11ea_986a_0242ac1c0002row4_col1 {\n",
              "            background-color:  #358fc0;\n",
              "            color:  #000000;\n",
              "        }    #T_9de4d356_950e_11ea_986a_0242ac1c0002row4_col2 {\n",
              "            background-color:  #ced0e6;\n",
              "            color:  #000000;\n",
              "        }    #T_9de4d356_950e_11ea_986a_0242ac1c0002row5_col1 {\n",
              "            background-color:  #80aed2;\n",
              "            color:  #000000;\n",
              "        }    #T_9de4d356_950e_11ea_986a_0242ac1c0002row5_col2 {\n",
              "            background-color:  #c5cce3;\n",
              "            color:  #000000;\n",
              "        }    #T_9de4d356_950e_11ea_986a_0242ac1c0002row6_col1 {\n",
              "            background-color:  #9ebad9;\n",
              "            color:  #000000;\n",
              "        }    #T_9de4d356_950e_11ea_986a_0242ac1c0002row6_col2 {\n",
              "            background-color:  #d4d4e8;\n",
              "            color:  #000000;\n",
              "        }    #T_9de4d356_950e_11ea_986a_0242ac1c0002row7_col1 {\n",
              "            background-color:  #dad9ea;\n",
              "            color:  #000000;\n",
              "        }    #T_9de4d356_950e_11ea_986a_0242ac1c0002row7_col2 {\n",
              "            background-color:  #e8e4f0;\n",
              "            color:  #000000;\n",
              "        }    #T_9de4d356_950e_11ea_986a_0242ac1c0002row8_col1 {\n",
              "            background-color:  #ede7f2;\n",
              "            color:  #000000;\n",
              "        }    #T_9de4d356_950e_11ea_986a_0242ac1c0002row8_col2 {\n",
              "            background-color:  #faf3f9;\n",
              "            color:  #000000;\n",
              "        }    #T_9de4d356_950e_11ea_986a_0242ac1c0002row9_col1 {\n",
              "            background-color:  #f1ebf5;\n",
              "            color:  #000000;\n",
              "        }    #T_9de4d356_950e_11ea_986a_0242ac1c0002row9_col2 {\n",
              "            background-color:  #fdf5fa;\n",
              "            color:  #000000;\n",
              "        }    #T_9de4d356_950e_11ea_986a_0242ac1c0002row10_col1 {\n",
              "            background-color:  #f2ecf5;\n",
              "            color:  #000000;\n",
              "        }    #T_9de4d356_950e_11ea_986a_0242ac1c0002row10_col2 {\n",
              "            background-color:  #f7f0f7;\n",
              "            color:  #000000;\n",
              "        }    #T_9de4d356_950e_11ea_986a_0242ac1c0002row11_col1 {\n",
              "            background-color:  #f2ecf5;\n",
              "            color:  #000000;\n",
              "        }    #T_9de4d356_950e_11ea_986a_0242ac1c0002row11_col2 {\n",
              "            background-color:  #f2ecf5;\n",
              "            color:  #000000;\n",
              "        }    #T_9de4d356_950e_11ea_986a_0242ac1c0002row12_col1 {\n",
              "            background-color:  #f6eff7;\n",
              "            color:  #000000;\n",
              "        }    #T_9de4d356_950e_11ea_986a_0242ac1c0002row12_col2 {\n",
              "            background-color:  #fef6fa;\n",
              "            color:  #000000;\n",
              "        }    #T_9de4d356_950e_11ea_986a_0242ac1c0002row13_col1 {\n",
              "            background-color:  #f7f0f7;\n",
              "            color:  #000000;\n",
              "        }    #T_9de4d356_950e_11ea_986a_0242ac1c0002row13_col2 {\n",
              "            background-color:  #fef6fa;\n",
              "            color:  #000000;\n",
              "        }    #T_9de4d356_950e_11ea_986a_0242ac1c0002row14_col1 {\n",
              "            background-color:  #faf3f9;\n",
              "            color:  #000000;\n",
              "        }    #T_9de4d356_950e_11ea_986a_0242ac1c0002row14_col2 {\n",
              "            background-color:  #fef6fa;\n",
              "            color:  #000000;\n",
              "        }    #T_9de4d356_950e_11ea_986a_0242ac1c0002row15_col1 {\n",
              "            background-color:  #fdf5fa;\n",
              "            color:  #000000;\n",
              "        }    #T_9de4d356_950e_11ea_986a_0242ac1c0002row15_col2 {\n",
              "            background-color:  #fdf5fa;\n",
              "            color:  #000000;\n",
              "        }    #T_9de4d356_950e_11ea_986a_0242ac1c0002row16_col1 {\n",
              "            background-color:  #fdf5fa;\n",
              "            color:  #000000;\n",
              "        }    #T_9de4d356_950e_11ea_986a_0242ac1c0002row16_col2 {\n",
              "            background-color:  #fff7fb;\n",
              "            color:  #000000;\n",
              "        }    #T_9de4d356_950e_11ea_986a_0242ac1c0002row17_col1 {\n",
              "            background-color:  #fef6fb;\n",
              "            color:  #000000;\n",
              "        }    #T_9de4d356_950e_11ea_986a_0242ac1c0002row17_col2 {\n",
              "            background-color:  #fff7fb;\n",
              "            color:  #000000;\n",
              "        }    #T_9de4d356_950e_11ea_986a_0242ac1c0002row18_col1 {\n",
              "            background-color:  #fff7fb;\n",
              "            color:  #000000;\n",
              "        }    #T_9de4d356_950e_11ea_986a_0242ac1c0002row18_col2 {\n",
              "            background-color:  #fdf5fa;\n",
              "            color:  #000000;\n",
              "        }    #T_9de4d356_950e_11ea_986a_0242ac1c0002row19_col1 {\n",
              "            background-color:  #fff7fb;\n",
              "            color:  #000000;\n",
              "        }    #T_9de4d356_950e_11ea_986a_0242ac1c0002row19_col2 {\n",
              "            background-color:  #fff7fb;\n",
              "            color:  #000000;\n",
              "        }</style><table id=\"T_9de4d356_950e_11ea_986a_0242ac1c0002\" ><thead>    <tr>        <th class=\"blank level0\" ></th>        <th class=\"col_heading level0 col0\" >Country</th>        <th class=\"col_heading level0 col1\" >ConfirmedCases</th>        <th class=\"col_heading level0 col2\" >Fatalities</th>    </tr></thead><tbody>\n",
              "                <tr>\n",
              "                        <th id=\"T_9de4d356_950e_11ea_986a_0242ac1c0002level0_row0\" class=\"row_heading level0 row0\" >0</th>\n",
              "                        <td id=\"T_9de4d356_950e_11ea_986a_0242ac1c0002row0_col0\" class=\"data row0 col0\" >Italy</td>\n",
              "                        <td id=\"T_9de4d356_950e_11ea_986a_0242ac1c0002row0_col1\" class=\"data row0 col1\" >105792.000000</td>\n",
              "                        <td id=\"T_9de4d356_950e_11ea_986a_0242ac1c0002row0_col2\" class=\"data row0 col2\" >12428.000000</td>\n",
              "            </tr>\n",
              "            <tr>\n",
              "                        <th id=\"T_9de4d356_950e_11ea_986a_0242ac1c0002level0_row1\" class=\"row_heading level0 row1\" >1</th>\n",
              "                        <td id=\"T_9de4d356_950e_11ea_986a_0242ac1c0002row1_col0\" class=\"data row1 col0\" >Spain</td>\n",
              "                        <td id=\"T_9de4d356_950e_11ea_986a_0242ac1c0002row1_col1\" class=\"data row1 col1\" >95923.000000</td>\n",
              "                        <td id=\"T_9de4d356_950e_11ea_986a_0242ac1c0002row1_col2\" class=\"data row1 col2\" >8464.000000</td>\n",
              "            </tr>\n",
              "            <tr>\n",
              "                        <th id=\"T_9de4d356_950e_11ea_986a_0242ac1c0002level0_row2\" class=\"row_heading level0 row2\" >2</th>\n",
              "                        <td id=\"T_9de4d356_950e_11ea_986a_0242ac1c0002row2_col0\" class=\"data row2 col0\" >US</td>\n",
              "                        <td id=\"T_9de4d356_950e_11ea_986a_0242ac1c0002row2_col1\" class=\"data row2 col1\" >75833.000000</td>\n",
              "                        <td id=\"T_9de4d356_950e_11ea_986a_0242ac1c0002row2_col2\" class=\"data row2 col2\" >1550.000000</td>\n",
              "            </tr>\n",
              "            <tr>\n",
              "                        <th id=\"T_9de4d356_950e_11ea_986a_0242ac1c0002level0_row3\" class=\"row_heading level0 row3\" >3</th>\n",
              "                        <td id=\"T_9de4d356_950e_11ea_986a_0242ac1c0002row3_col0\" class=\"data row3 col0\" >Germany</td>\n",
              "                        <td id=\"T_9de4d356_950e_11ea_986a_0242ac1c0002row3_col1\" class=\"data row3 col1\" >71808.000000</td>\n",
              "                        <td id=\"T_9de4d356_950e_11ea_986a_0242ac1c0002row3_col2\" class=\"data row3 col2\" >775.000000</td>\n",
              "            </tr>\n",
              "            <tr>\n",
              "                        <th id=\"T_9de4d356_950e_11ea_986a_0242ac1c0002level0_row4\" class=\"row_heading level0 row4\" >4</th>\n",
              "                        <td id=\"T_9de4d356_950e_11ea_986a_0242ac1c0002row4_col0\" class=\"data row4 col0\" >China</td>\n",
              "                        <td id=\"T_9de4d356_950e_11ea_986a_0242ac1c0002row4_col1\" class=\"data row4 col1\" >67801.000000</td>\n",
              "                        <td id=\"T_9de4d356_950e_11ea_986a_0242ac1c0002row4_col2\" class=\"data row4 col2\" >3187.000000</td>\n",
              "            </tr>\n",
              "            <tr>\n",
              "                        <th id=\"T_9de4d356_950e_11ea_986a_0242ac1c0002level0_row5\" class=\"row_heading level0 row5\" >5</th>\n",
              "                        <td id=\"T_9de4d356_950e_11ea_986a_0242ac1c0002row5_col0\" class=\"data row5 col0\" >France</td>\n",
              "                        <td id=\"T_9de4d356_950e_11ea_986a_0242ac1c0002row5_col1\" class=\"data row5 col1\" >52128.000000</td>\n",
              "                        <td id=\"T_9de4d356_950e_11ea_986a_0242ac1c0002row5_col2\" class=\"data row5 col2\" >3523.000000</td>\n",
              "            </tr>\n",
              "            <tr>\n",
              "                        <th id=\"T_9de4d356_950e_11ea_986a_0242ac1c0002level0_row6\" class=\"row_heading level0 row6\" >6</th>\n",
              "                        <td id=\"T_9de4d356_950e_11ea_986a_0242ac1c0002row6_col0\" class=\"data row6 col0\" >Iran</td>\n",
              "                        <td id=\"T_9de4d356_950e_11ea_986a_0242ac1c0002row6_col1\" class=\"data row6 col1\" >44605.000000</td>\n",
              "                        <td id=\"T_9de4d356_950e_11ea_986a_0242ac1c0002row6_col2\" class=\"data row6 col2\" >2898.000000</td>\n",
              "            </tr>\n",
              "            <tr>\n",
              "                        <th id=\"T_9de4d356_950e_11ea_986a_0242ac1c0002level0_row7\" class=\"row_heading level0 row7\" >7</th>\n",
              "                        <td id=\"T_9de4d356_950e_11ea_986a_0242ac1c0002row7_col0\" class=\"data row7 col0\" >United Kingdom</td>\n",
              "                        <td id=\"T_9de4d356_950e_11ea_986a_0242ac1c0002row7_col1\" class=\"data row7 col1\" >25150.000000</td>\n",
              "                        <td id=\"T_9de4d356_950e_11ea_986a_0242ac1c0002row7_col2\" class=\"data row7 col2\" >1789.000000</td>\n",
              "            </tr>\n",
              "            <tr>\n",
              "                        <th id=\"T_9de4d356_950e_11ea_986a_0242ac1c0002level0_row8\" class=\"row_heading level0 row8\" >8</th>\n",
              "                        <td id=\"T_9de4d356_950e_11ea_986a_0242ac1c0002row8_col0\" class=\"data row8 col0\" >Switzerland</td>\n",
              "                        <td id=\"T_9de4d356_950e_11ea_986a_0242ac1c0002row8_col1\" class=\"data row8 col1\" >16605.000000</td>\n",
              "                        <td id=\"T_9de4d356_950e_11ea_986a_0242ac1c0002row8_col2\" class=\"data row8 col2\" >433.000000</td>\n",
              "            </tr>\n",
              "            <tr>\n",
              "                        <th id=\"T_9de4d356_950e_11ea_986a_0242ac1c0002level0_row9\" class=\"row_heading level0 row9\" >9</th>\n",
              "                        <td id=\"T_9de4d356_950e_11ea_986a_0242ac1c0002row9_col0\" class=\"data row9 col0\" >Turkey</td>\n",
              "                        <td id=\"T_9de4d356_950e_11ea_986a_0242ac1c0002row9_col1\" class=\"data row9 col1\" >13531.000000</td>\n",
              "                        <td id=\"T_9de4d356_950e_11ea_986a_0242ac1c0002row9_col2\" class=\"data row9 col2\" >214.000000</td>\n",
              "            </tr>\n",
              "            <tr>\n",
              "                        <th id=\"T_9de4d356_950e_11ea_986a_0242ac1c0002level0_row10\" class=\"row_heading level0 row10\" >10</th>\n",
              "                        <td id=\"T_9de4d356_950e_11ea_986a_0242ac1c0002row10_col0\" class=\"data row10 col0\" >Belgium</td>\n",
              "                        <td id=\"T_9de4d356_950e_11ea_986a_0242ac1c0002row10_col1\" class=\"data row10 col1\" >12775.000000</td>\n",
              "                        <td id=\"T_9de4d356_950e_11ea_986a_0242ac1c0002row10_col2\" class=\"data row10 col2\" >705.000000</td>\n",
              "            </tr>\n",
              "            <tr>\n",
              "                        <th id=\"T_9de4d356_950e_11ea_986a_0242ac1c0002level0_row11\" class=\"row_heading level0 row11\" >11</th>\n",
              "                        <td id=\"T_9de4d356_950e_11ea_986a_0242ac1c0002row11_col0\" class=\"data row11 col0\" >Netherlands</td>\n",
              "                        <td id=\"T_9de4d356_950e_11ea_986a_0242ac1c0002row11_col1\" class=\"data row11 col1\" >12595.000000</td>\n",
              "                        <td id=\"T_9de4d356_950e_11ea_986a_0242ac1c0002row11_col2\" class=\"data row11 col2\" >1039.000000</td>\n",
              "            </tr>\n",
              "            <tr>\n",
              "                        <th id=\"T_9de4d356_950e_11ea_986a_0242ac1c0002level0_row12\" class=\"row_heading level0 row12\" >12</th>\n",
              "                        <td id=\"T_9de4d356_950e_11ea_986a_0242ac1c0002row12_col0\" class=\"data row12 col0\" >Austria</td>\n",
              "                        <td id=\"T_9de4d356_950e_11ea_986a_0242ac1c0002row12_col1\" class=\"data row12 col1\" >10180.000000</td>\n",
              "                        <td id=\"T_9de4d356_950e_11ea_986a_0242ac1c0002row12_col2\" class=\"data row12 col2\" >128.000000</td>\n",
              "            </tr>\n",
              "            <tr>\n",
              "                        <th id=\"T_9de4d356_950e_11ea_986a_0242ac1c0002level0_row13\" class=\"row_heading level0 row13\" >13</th>\n",
              "                        <td id=\"T_9de4d356_950e_11ea_986a_0242ac1c0002row13_col0\" class=\"data row13 col0\" >Korea, South</td>\n",
              "                        <td id=\"T_9de4d356_950e_11ea_986a_0242ac1c0002row13_col1\" class=\"data row13 col1\" >9786.000000</td>\n",
              "                        <td id=\"T_9de4d356_950e_11ea_986a_0242ac1c0002row13_col2\" class=\"data row13 col2\" >162.000000</td>\n",
              "            </tr>\n",
              "            <tr>\n",
              "                        <th id=\"T_9de4d356_950e_11ea_986a_0242ac1c0002level0_row14\" class=\"row_heading level0 row14\" >14</th>\n",
              "                        <td id=\"T_9de4d356_950e_11ea_986a_0242ac1c0002row14_col0\" class=\"data row14 col0\" >Portugal</td>\n",
              "                        <td id=\"T_9de4d356_950e_11ea_986a_0242ac1c0002row14_col1\" class=\"data row14 col1\" >7443.000000</td>\n",
              "                        <td id=\"T_9de4d356_950e_11ea_986a_0242ac1c0002row14_col2\" class=\"data row14 col2\" >160.000000</td>\n",
              "            </tr>\n",
              "            <tr>\n",
              "                        <th id=\"T_9de4d356_950e_11ea_986a_0242ac1c0002level0_row15\" class=\"row_heading level0 row15\" >15</th>\n",
              "                        <td id=\"T_9de4d356_950e_11ea_986a_0242ac1c0002row15_col0\" class=\"data row15 col0\" >Brazil</td>\n",
              "                        <td id=\"T_9de4d356_950e_11ea_986a_0242ac1c0002row15_col1\" class=\"data row15 col1\" >5717.000000</td>\n",
              "                        <td id=\"T_9de4d356_950e_11ea_986a_0242ac1c0002row15_col2\" class=\"data row15 col2\" >201.000000</td>\n",
              "            </tr>\n",
              "            <tr>\n",
              "                        <th id=\"T_9de4d356_950e_11ea_986a_0242ac1c0002level0_row16\" class=\"row_heading level0 row16\" >16</th>\n",
              "                        <td id=\"T_9de4d356_950e_11ea_986a_0242ac1c0002row16_col0\" class=\"data row16 col0\" >Israel</td>\n",
              "                        <td id=\"T_9de4d356_950e_11ea_986a_0242ac1c0002row16_col1\" class=\"data row16 col1\" >5358.000000</td>\n",
              "                        <td id=\"T_9de4d356_950e_11ea_986a_0242ac1c0002row16_col2\" class=\"data row16 col2\" >20.000000</td>\n",
              "            </tr>\n",
              "            <tr>\n",
              "                        <th id=\"T_9de4d356_950e_11ea_986a_0242ac1c0002level0_row17\" class=\"row_heading level0 row17\" >17</th>\n",
              "                        <td id=\"T_9de4d356_950e_11ea_986a_0242ac1c0002row17_col0\" class=\"data row17 col0\" >Norway</td>\n",
              "                        <td id=\"T_9de4d356_950e_11ea_986a_0242ac1c0002row17_col1\" class=\"data row17 col1\" >4641.000000</td>\n",
              "                        <td id=\"T_9de4d356_950e_11ea_986a_0242ac1c0002row17_col2\" class=\"data row17 col2\" >39.000000</td>\n",
              "            </tr>\n",
              "            <tr>\n",
              "                        <th id=\"T_9de4d356_950e_11ea_986a_0242ac1c0002level0_row18\" class=\"row_heading level0 row18\" >18</th>\n",
              "                        <td id=\"T_9de4d356_950e_11ea_986a_0242ac1c0002row18_col0\" class=\"data row18 col0\" >Sweden</td>\n",
              "                        <td id=\"T_9de4d356_950e_11ea_986a_0242ac1c0002row18_col1\" class=\"data row18 col1\" >4435.000000</td>\n",
              "                        <td id=\"T_9de4d356_950e_11ea_986a_0242ac1c0002row18_col2\" class=\"data row18 col2\" >180.000000</td>\n",
              "            </tr>\n",
              "            <tr>\n",
              "                        <th id=\"T_9de4d356_950e_11ea_986a_0242ac1c0002level0_row19\" class=\"row_heading level0 row19\" >19</th>\n",
              "                        <td id=\"T_9de4d356_950e_11ea_986a_0242ac1c0002row19_col0\" class=\"data row19 col0\" >Canada</td>\n",
              "                        <td id=\"T_9de4d356_950e_11ea_986a_0242ac1c0002row19_col1\" class=\"data row19 col1\" >4162.000000</td>\n",
              "                        <td id=\"T_9de4d356_950e_11ea_986a_0242ac1c0002row19_col2\" class=\"data row19 col2\" >33.000000</td>\n",
              "            </tr>\n",
              "    </tbody></table>"
            ],
            "text/plain": [
              "<pandas.io.formats.style.Styler at 0x7f6ffcdcc4a8>"
            ]
          },
          "metadata": {
            "tags": []
          },
          "execution_count": 15
        }
      ]
    },
    {
      "cell_type": "code",
      "metadata": {
        "id": "2V9yIfx8JLY5",
        "colab_type": "code",
        "colab": {}
      },
      "source": [
        "# top_10_countries = train.groupby('country')['Date', 'ConfirmedCases', 'Fatalities'].max().sort_values(by='ConfirmedCases', ascending=False).reset_index().loc[:, 'country'][:10]\n",
        "# df_plot = train.loc[train.country.isin(top_10_countries), ['Date', 'country', 'ConfirmedCases', 'Fatalities']].groupby(['Date', 'country']).max().reset_index()\n",
        "\n",
        "# fig = px.line(df_plot, x=\"Date\", y=\"ConfirmedCases\", color='country')\n",
        "# fig.update_layout(title='No.of Confirmed Cases per Day for Top 20 Countries',\n",
        "#                    xaxis_title='Date',\n",
        "#                    yaxis_title='No.of Confirmed Cases')\n",
        "# fig.show()"
      ],
      "execution_count": 0,
      "outputs": []
    },
    {
      "cell_type": "markdown",
      "metadata": {
        "id": "NB91EVkWNMu1",
        "colab_type": "text"
      },
      "source": [
        "**Country Names**"
      ]
    },
    {
      "cell_type": "code",
      "metadata": {
        "id": "EPBXnSiNQOZN",
        "colab_type": "code",
        "colab": {
          "base_uri": "https://localhost:8080/",
          "height": 194
        },
        "outputId": "46d02385-47e5-424b-c9c8-bc745c4fe33f"
      },
      "source": [
        "#check if country names match\n",
        "train_countries = train.Country.unique().tolist()\n",
        "pop_countries = df_population.Country.unique().tolist()\n",
        "for country in train_countries:\n",
        "  if country not in pop_countries:\n",
        "    print(country) \n"
      ],
      "execution_count": 16,
      "outputs": [
        {
          "output_type": "stream",
          "text": [
            "Congo (Brazzaville)\n",
            "Congo (Kinshasa)\n",
            "Cote d'Ivoire\n",
            "Czechia\n",
            "Diamond Princess\n",
            "Korea, South\n",
            "Saint Kitts and Nevis\n",
            "Saint Vincent and the Grenadines\n",
            "Taiwan*\n",
            "US\n"
          ],
          "name": "stdout"
        }
      ]
    },
    {
      "cell_type": "markdown",
      "metadata": {
        "id": "8YsJeK2FJQSN",
        "colab_type": "text"
      },
      "source": [
        "**note**: Diamond Princess is not a country but a *cruise* "
      ]
    },
    {
      "cell_type": "code",
      "metadata": {
        "id": "a3eOoz6H_71q",
        "colab_type": "code",
        "colab": {}
      },
      "source": [
        "#check the country names used in df_population (commented out bc it's a long alphabetical list)\n",
        "\n",
        "#pop_countries"
      ],
      "execution_count": 0,
      "outputs": []
    },
    {
      "cell_type": "code",
      "metadata": {
        "id": "T8eoQP-V_w2F",
        "colab_type": "code",
        "colab": {}
      },
      "source": [
        "#replace the ones with matching names (only missing Diamond Princess)\n",
        "matchCountrywithPop = {\n",
        "    \"Congo (Brazzaville)\": \"Congo\",\n",
        "    \"Congo (Kinshasa)\": \"Congo\",\n",
        "    \"Cote d'Ivoire\": \"Côte d'Ivoire\",\n",
        "    \"Czechia\": \"Czech Republic (Czechia)\",\n",
        "    \"Korea, South\": \"South Korea\",\n",
        "    \"Saint Kitts and Nevis\": \"Saint Kitts & Nevis\",\n",
        "    \"Saint Vincent and the Grenadines\": \"St. Vincent & Grenadines\",\n",
        "    \"Taiwan*\": \"Taiwan\",\n",
        "    \"US\": \"United States\"\n",
        "}\n",
        "\n",
        "train.replace({'Country': matchCountrywithPop}, inplace=True)\n",
        "test.replace({'Country': matchCountrywithPop}, inplace=True)"
      ],
      "execution_count": 0,
      "outputs": []
    },
    {
      "cell_type": "code",
      "metadata": {
        "id": "JgzEoWBAaiCC",
        "colab_type": "code",
        "colab": {
          "base_uri": "https://localhost:8080/",
          "height": 287
        },
        "outputId": "11ad23ae-6486-4e6b-af88-9ceb3e5862a3"
      },
      "source": [
        "df_population.describe()"
      ],
      "execution_count": 19,
      "outputs": [
        {
          "output_type": "execute_result",
          "data": {
            "text/html": [
              "<div>\n",
              "<style scoped>\n",
              "    .dataframe tbody tr th:only-of-type {\n",
              "        vertical-align: middle;\n",
              "    }\n",
              "\n",
              "    .dataframe tbody tr th {\n",
              "        vertical-align: top;\n",
              "    }\n",
              "\n",
              "    .dataframe thead th {\n",
              "        text-align: right;\n",
              "    }\n",
              "</style>\n",
              "<table border=\"1\" class=\"dataframe\">\n",
              "  <thead>\n",
              "    <tr style=\"text-align: right;\">\n",
              "      <th></th>\n",
              "      <th>Population (2020)</th>\n",
              "      <th>Net Change</th>\n",
              "      <th>Density (P/Km²)</th>\n",
              "      <th>Land Area (Km²)</th>\n",
              "      <th>Migrants (net)</th>\n",
              "    </tr>\n",
              "  </thead>\n",
              "  <tbody>\n",
              "    <tr>\n",
              "      <th>count</th>\n",
              "      <td>2.350000e+02</td>\n",
              "      <td>2.350000e+02</td>\n",
              "      <td>235.000000</td>\n",
              "      <td>2.350000e+02</td>\n",
              "      <td>201.000000</td>\n",
              "    </tr>\n",
              "    <tr>\n",
              "      <th>mean</th>\n",
              "      <td>3.309773e+07</td>\n",
              "      <td>3.460878e+05</td>\n",
              "      <td>475.770213</td>\n",
              "      <td>5.535918e+05</td>\n",
              "      <td>6.283582</td>\n",
              "    </tr>\n",
              "    <tr>\n",
              "      <th>std</th>\n",
              "      <td>1.349417e+08</td>\n",
              "      <td>1.128260e+06</td>\n",
              "      <td>2331.285935</td>\n",
              "      <td>1.687796e+06</td>\n",
              "      <td>123291.887548</td>\n",
              "    </tr>\n",
              "    <tr>\n",
              "      <th>min</th>\n",
              "      <td>8.010000e+02</td>\n",
              "      <td>-3.838400e+05</td>\n",
              "      <td>0.000000</td>\n",
              "      <td>0.000000e+00</td>\n",
              "      <td>-653249.000000</td>\n",
              "    </tr>\n",
              "    <tr>\n",
              "      <th>25%</th>\n",
              "      <td>3.981150e+05</td>\n",
              "      <td>4.240000e+02</td>\n",
              "      <td>37.000000</td>\n",
              "      <td>2.545000e+03</td>\n",
              "      <td>-10047.000000</td>\n",
              "    </tr>\n",
              "    <tr>\n",
              "      <th>50%</th>\n",
              "      <td>5.459116e+06</td>\n",
              "      <td>3.917000e+04</td>\n",
              "      <td>95.000000</td>\n",
              "      <td>7.724000e+04</td>\n",
              "      <td>-852.000000</td>\n",
              "    </tr>\n",
              "    <tr>\n",
              "      <th>75%</th>\n",
              "      <td>2.045283e+07</td>\n",
              "      <td>2.496600e+05</td>\n",
              "      <td>239.500000</td>\n",
              "      <td>4.038200e+05</td>\n",
              "      <td>9741.000000</td>\n",
              "    </tr>\n",
              "    <tr>\n",
              "      <th>max</th>\n",
              "      <td>1.438207e+09</td>\n",
              "      <td>1.358663e+07</td>\n",
              "      <td>26337.000000</td>\n",
              "      <td>1.637687e+07</td>\n",
              "      <td>954806.000000</td>\n",
              "    </tr>\n",
              "  </tbody>\n",
              "</table>\n",
              "</div>"
            ],
            "text/plain": [
              "       Population (2020)    Net Change  ...  Land Area (Km²)  Migrants (net)\n",
              "count       2.350000e+02  2.350000e+02  ...     2.350000e+02      201.000000\n",
              "mean        3.309773e+07  3.460878e+05  ...     5.535918e+05        6.283582\n",
              "std         1.349417e+08  1.128260e+06  ...     1.687796e+06   123291.887548\n",
              "min         8.010000e+02 -3.838400e+05  ...     0.000000e+00  -653249.000000\n",
              "25%         3.981150e+05  4.240000e+02  ...     2.545000e+03   -10047.000000\n",
              "50%         5.459116e+06  3.917000e+04  ...     7.724000e+04     -852.000000\n",
              "75%         2.045283e+07  2.496600e+05  ...     4.038200e+05     9741.000000\n",
              "max         1.438207e+09  1.358663e+07  ...     1.637687e+07   954806.000000\n",
              "\n",
              "[8 rows x 5 columns]"
            ]
          },
          "metadata": {
            "tags": []
          },
          "execution_count": 19
        }
      ]
    },
    {
      "cell_type": "markdown",
      "metadata": {
        "id": "gEL1ZtvhNQcZ",
        "colab_type": "text"
      },
      "source": [
        "**Null/NaN values**"
      ]
    },
    {
      "cell_type": "code",
      "metadata": {
        "id": "3pojBzhZBkMK",
        "colab_type": "code",
        "colab": {
          "base_uri": "https://localhost:8080/",
          "height": 230
        },
        "outputId": "ba0ae33b-0f09-4308-a9fb-97912699cb8b"
      },
      "source": [
        "df_population.isnull().sum() # null values in migrants"
      ],
      "execution_count": 20,
      "outputs": [
        {
          "output_type": "execute_result",
          "data": {
            "text/plain": [
              "Country               0\n",
              "Population (2020)     0\n",
              "Yearly Change         0\n",
              "Net Change            0\n",
              "Density (P/Km²)       0\n",
              "Land Area (Km²)       0\n",
              "Migrants (net)       34\n",
              "Fert. Rate            0\n",
              "Med. Age              0\n",
              "Urban Pop %           0\n",
              "World Share           0\n",
              "dtype: int64"
            ]
          },
          "metadata": {
            "tags": []
          },
          "execution_count": 20
        }
      ]
    },
    {
      "cell_type": "code",
      "metadata": {
        "id": "Ml2qcEtUCGTp",
        "colab_type": "code",
        "colab": {
          "base_uri": "https://localhost:8080/",
          "height": 318
        },
        "outputId": "4e099c87-69ec-49fd-9a39-ca1a3d4dbab8"
      },
      "source": [
        "#check NaN values \n",
        "print(\n",
        "    df_population.loc[df_population['Population (2020)'] =='N.A.', 'Population (2020)'].value_counts(), '\\n',\n",
        "    df_population.loc[df_population['Yearly Change'] =='N.A.', 'Yearly Change'].value_counts(), '\\n',\n",
        "    df_population.loc[df_population['Net Change'] =='N.A.', 'Net Change'].value_counts(), '\\n',\n",
        "    df_population.loc[df_population['Density (P/Km²)'] =='N.A.', 'Density (P/Km²)'].value_counts(), '\\n',\n",
        "    df_population.loc[df_population['Land Area (Km²)'] =='N.A.', 'Land Area (Km²)'].value_counts(), '\\n',\n",
        "    df_population.loc[df_population['Migrants (net)'] =='N.A.', 'Migrants (net)'].value_counts(), '\\n',\n",
        "    df_population.loc[df_population['Fert. Rate'] =='N.A.', 'Fert. Rate'].value_counts(), '\\n',\n",
        "    df_population.loc[df_population['Med. Age'] =='N.A.', 'Med. Age'].value_counts(), '\\n',\n",
        "    df_population.loc[df_population['Urban Pop %'] =='N.A.', 'Urban Pop %'].value_counts(), '\\n',\n",
        "    df_population.loc[df_population['World Share'] =='N.A.', 'World Share'].value_counts())\n",
        "#NaN values in fert rate, med age and urban pop"
      ],
      "execution_count": 21,
      "outputs": [
        {
          "output_type": "stream",
          "text": [
            "Series([], Name: Population (2020), dtype: int64) \n",
            " Series([], Name: Yearly Change, dtype: int64) \n",
            " Series([], Name: Net Change, dtype: int64) \n",
            " Series([], Name: Density (P/Km²), dtype: int64) \n",
            " Series([], Name: Land Area (Km²), dtype: int64) \n",
            " Series([], Name: Migrants (net), dtype: int64) \n",
            " N.A.    34\n",
            "Name: Fert. Rate, dtype: int64 \n",
            " N.A.    34\n",
            "Name: Med. Age, dtype: int64 \n",
            " N.A.    13\n",
            "Name: Urban Pop %, dtype: int64 \n",
            " Series([], Name: World Share, dtype: int64)\n"
          ],
          "name": "stdout"
        },
        {
          "output_type": "stream",
          "text": [
            "/usr/local/lib/python3.6/dist-packages/pandas/core/ops/array_ops.py:253: FutureWarning:\n",
            "\n",
            "elementwise comparison failed; returning scalar instead, but in the future will perform elementwise comparison\n",
            "\n"
          ],
          "name": "stderr"
        }
      ]
    },
    {
      "cell_type": "code",
      "metadata": {
        "id": "lKNaJyXZCs3p",
        "colab_type": "code",
        "colab": {}
      },
      "source": [
        "#dealing with null values : Replace NaN with mode and migrants null values with 0\n",
        "\n",
        "#The mode of a set of values is the value that appears most often. \n",
        "#axis [0]: get mode of each column\n",
        "df_population.loc[df_population['Fert. Rate']=='N.A.', 'Fert. Rate'] = df_population.loc[df_population['Fert. Rate']!='N.A.', 'Fert. Rate'].mode()[0]\n",
        "df_population.loc[df_population['Urban Pop %']=='N.A.', 'Urban Pop %'] = df_population.loc[df_population['Urban Pop %']!='N.A.', 'Urban Pop %'].mode()[0]\n",
        "df_population.loc[df_population['Med. Age']=='N.A.', 'Med. Age'] = df_population.loc[df_population['Med. Age']!='N.A.', 'Med. Age'].mode()[0]\n",
        "\n",
        "df_population.loc[:, 'Migrants (net)'] = df_population.loc[:, 'Migrants (net)'].fillna(0)\n"
      ],
      "execution_count": 0,
      "outputs": []
    },
    {
      "cell_type": "code",
      "metadata": {
        "id": "lV_K1LxRGKd-",
        "colab_type": "code",
        "colab": {}
      },
      "source": [
        "#df_population.iloc[np.r_[0:5, -6:-1], :]"
      ],
      "execution_count": 0,
      "outputs": []
    },
    {
      "cell_type": "code",
      "metadata": {
        "id": "ZXCw1VhzHotd",
        "colab_type": "code",
        "colab": {}
      },
      "source": [
        "#remove characters in data '%'\n",
        "\n",
        "df_population['Yearly Change'] = df_population['Yearly Change'].str.rstrip('%')\n",
        "df_population['World Share'] = df_population['World Share'].str.rstrip('%')\n",
        "df_population['Urban Pop %'] = df_population['Urban Pop %'].str.rstrip('%')"
      ],
      "execution_count": 0,
      "outputs": []
    },
    {
      "cell_type": "code",
      "metadata": {
        "id": "yWWWF89BH3lw",
        "colab_type": "code",
        "colab": {
          "base_uri": "https://localhost:8080/",
          "height": 336
        },
        "outputId": "aaa14383-8e04-41c2-9c26-ee5654b96dc2"
      },
      "source": [
        "df_population.info()"
      ],
      "execution_count": 24,
      "outputs": [
        {
          "output_type": "stream",
          "text": [
            "<class 'pandas.core.frame.DataFrame'>\n",
            "RangeIndex: 235 entries, 0 to 234\n",
            "Data columns (total 11 columns):\n",
            " #   Column             Non-Null Count  Dtype  \n",
            "---  ------             --------------  -----  \n",
            " 0   Country            235 non-null    object \n",
            " 1   Population (2020)  235 non-null    int64  \n",
            " 2   Yearly Change      235 non-null    object \n",
            " 3   Net Change         235 non-null    int64  \n",
            " 4   Density (P/Km²)    235 non-null    int64  \n",
            " 5   Land Area (Km²)    235 non-null    int64  \n",
            " 6   Migrants (net)     235 non-null    float64\n",
            " 7   Fert. Rate         235 non-null    object \n",
            " 8   Med. Age           235 non-null    object \n",
            " 9   Urban Pop %        235 non-null    object \n",
            " 10  World Share        235 non-null    object \n",
            "dtypes: float64(1), int64(4), object(6)\n",
            "memory usage: 20.3+ KB\n"
          ],
          "name": "stdout"
        }
      ]
    },
    {
      "cell_type": "code",
      "metadata": {
        "id": "UsfEx_AUH9si",
        "colab_type": "code",
        "colab": {}
      },
      "source": [
        "#adapt dtype - obj into float or int\n",
        "df_population = df_population.astype({\"Net Change\": int,\"Density (P/Km²)\": int,\"Population (2020)\": int,\"Land Area (Km²)\": int,\"Yearly Change\": float,\"Urban Pop %\": int,\"Fert. Rate\": float,\"Med. Age\": int,\"World Share\": float, \"Migrants (net)\": float,})"
      ],
      "execution_count": 0,
      "outputs": []
    },
    {
      "cell_type": "code",
      "metadata": {
        "id": "2TR-dFIsIFzD",
        "colab_type": "code",
        "colab": {
          "base_uri": "https://localhost:8080/",
          "height": 336
        },
        "outputId": "919b3647-74fa-48e3-e527-eeaae27e0bf8"
      },
      "source": [
        "df_population.info()"
      ],
      "execution_count": 26,
      "outputs": [
        {
          "output_type": "stream",
          "text": [
            "<class 'pandas.core.frame.DataFrame'>\n",
            "RangeIndex: 235 entries, 0 to 234\n",
            "Data columns (total 11 columns):\n",
            " #   Column             Non-Null Count  Dtype  \n",
            "---  ------             --------------  -----  \n",
            " 0   Country            235 non-null    object \n",
            " 1   Population (2020)  235 non-null    int64  \n",
            " 2   Yearly Change      235 non-null    float64\n",
            " 3   Net Change         235 non-null    int64  \n",
            " 4   Density (P/Km²)    235 non-null    int64  \n",
            " 5   Land Area (Km²)    235 non-null    int64  \n",
            " 6   Migrants (net)     235 non-null    float64\n",
            " 7   Fert. Rate         235 non-null    float64\n",
            " 8   Med. Age           235 non-null    int64  \n",
            " 9   Urban Pop %        235 non-null    int64  \n",
            " 10  World Share        235 non-null    float64\n",
            "dtypes: float64(4), int64(6), object(1)\n",
            "memory usage: 20.3+ KB\n"
          ],
          "name": "stdout"
        }
      ]
    },
    {
      "cell_type": "markdown",
      "metadata": {
        "id": "CjwGIDHyNXMz",
        "colab_type": "text"
      },
      "source": [
        "**Diamond Princess**"
      ]
    },
    {
      "cell_type": "code",
      "metadata": {
        "id": "r052qF8hIadG",
        "colab_type": "code",
        "colab": {
          "base_uri": "https://localhost:8080/",
          "height": 477
        },
        "outputId": "f963bf57-a1a1-4311-9a47-5617950f066c"
      },
      "source": [
        "train[train.eq('Diamond Princess').any(1)]"
      ],
      "execution_count": 27,
      "outputs": [
        {
          "output_type": "stream",
          "text": [
            "/usr/local/lib/python3.6/dist-packages/pandas/core/ops/array_ops.py:253: FutureWarning:\n",
            "\n",
            "elementwise comparison failed; returning scalar instead, but in the future will perform elementwise comparison\n",
            "\n"
          ],
          "name": "stderr"
        },
        {
          "output_type": "execute_result",
          "data": {
            "text/html": [
              "<div>\n",
              "<style scoped>\n",
              "    .dataframe tbody tr th:only-of-type {\n",
              "        vertical-align: middle;\n",
              "    }\n",
              "\n",
              "    .dataframe tbody tr th {\n",
              "        vertical-align: top;\n",
              "    }\n",
              "\n",
              "    .dataframe thead th {\n",
              "        text-align: right;\n",
              "    }\n",
              "</style>\n",
              "<table border=\"1\" class=\"dataframe\">\n",
              "  <thead>\n",
              "    <tr style=\"text-align: right;\">\n",
              "      <th></th>\n",
              "      <th>Id</th>\n",
              "      <th>Province_State</th>\n",
              "      <th>Country</th>\n",
              "      <th>Date</th>\n",
              "      <th>ConfirmedCases</th>\n",
              "      <th>Fatalities</th>\n",
              "    </tr>\n",
              "  </thead>\n",
              "  <tbody>\n",
              "    <tr>\n",
              "      <th>6580</th>\n",
              "      <td>9401</td>\n",
              "      <td>NaN</td>\n",
              "      <td>Diamond Princess</td>\n",
              "      <td>2020-01-22</td>\n",
              "      <td>0.0</td>\n",
              "      <td>0.0</td>\n",
              "    </tr>\n",
              "    <tr>\n",
              "      <th>6581</th>\n",
              "      <td>9402</td>\n",
              "      <td>NaN</td>\n",
              "      <td>Diamond Princess</td>\n",
              "      <td>2020-01-23</td>\n",
              "      <td>0.0</td>\n",
              "      <td>0.0</td>\n",
              "    </tr>\n",
              "    <tr>\n",
              "      <th>6582</th>\n",
              "      <td>9403</td>\n",
              "      <td>NaN</td>\n",
              "      <td>Diamond Princess</td>\n",
              "      <td>2020-01-24</td>\n",
              "      <td>0.0</td>\n",
              "      <td>0.0</td>\n",
              "    </tr>\n",
              "    <tr>\n",
              "      <th>6583</th>\n",
              "      <td>9404</td>\n",
              "      <td>NaN</td>\n",
              "      <td>Diamond Princess</td>\n",
              "      <td>2020-01-25</td>\n",
              "      <td>0.0</td>\n",
              "      <td>0.0</td>\n",
              "    </tr>\n",
              "    <tr>\n",
              "      <th>6584</th>\n",
              "      <td>9405</td>\n",
              "      <td>NaN</td>\n",
              "      <td>Diamond Princess</td>\n",
              "      <td>2020-01-26</td>\n",
              "      <td>0.0</td>\n",
              "      <td>0.0</td>\n",
              "    </tr>\n",
              "    <tr>\n",
              "      <th>...</th>\n",
              "      <td>...</td>\n",
              "      <td>...</td>\n",
              "      <td>...</td>\n",
              "      <td>...</td>\n",
              "      <td>...</td>\n",
              "      <td>...</td>\n",
              "    </tr>\n",
              "    <tr>\n",
              "      <th>6645</th>\n",
              "      <td>9466</td>\n",
              "      <td>NaN</td>\n",
              "      <td>Diamond Princess</td>\n",
              "      <td>2020-03-27</td>\n",
              "      <td>712.0</td>\n",
              "      <td>10.0</td>\n",
              "    </tr>\n",
              "    <tr>\n",
              "      <th>6646</th>\n",
              "      <td>9467</td>\n",
              "      <td>NaN</td>\n",
              "      <td>Diamond Princess</td>\n",
              "      <td>2020-03-28</td>\n",
              "      <td>712.0</td>\n",
              "      <td>10.0</td>\n",
              "    </tr>\n",
              "    <tr>\n",
              "      <th>6647</th>\n",
              "      <td>9468</td>\n",
              "      <td>NaN</td>\n",
              "      <td>Diamond Princess</td>\n",
              "      <td>2020-03-29</td>\n",
              "      <td>712.0</td>\n",
              "      <td>10.0</td>\n",
              "    </tr>\n",
              "    <tr>\n",
              "      <th>6648</th>\n",
              "      <td>9469</td>\n",
              "      <td>NaN</td>\n",
              "      <td>Diamond Princess</td>\n",
              "      <td>2020-03-30</td>\n",
              "      <td>712.0</td>\n",
              "      <td>10.0</td>\n",
              "    </tr>\n",
              "    <tr>\n",
              "      <th>6649</th>\n",
              "      <td>9470</td>\n",
              "      <td>NaN</td>\n",
              "      <td>Diamond Princess</td>\n",
              "      <td>2020-03-31</td>\n",
              "      <td>712.0</td>\n",
              "      <td>10.0</td>\n",
              "    </tr>\n",
              "  </tbody>\n",
              "</table>\n",
              "<p>70 rows × 6 columns</p>\n",
              "</div>"
            ],
            "text/plain": [
              "        Id Province_State  ... ConfirmedCases Fatalities\n",
              "6580  9401            NaN  ...            0.0        0.0\n",
              "6581  9402            NaN  ...            0.0        0.0\n",
              "6582  9403            NaN  ...            0.0        0.0\n",
              "6583  9404            NaN  ...            0.0        0.0\n",
              "6584  9405            NaN  ...            0.0        0.0\n",
              "...    ...            ...  ...            ...        ...\n",
              "6645  9466            NaN  ...          712.0       10.0\n",
              "6646  9467            NaN  ...          712.0       10.0\n",
              "6647  9468            NaN  ...          712.0       10.0\n",
              "6648  9469            NaN  ...          712.0       10.0\n",
              "6649  9470            NaN  ...          712.0       10.0\n",
              "\n",
              "[70 rows x 6 columns]"
            ]
          },
          "metadata": {
            "tags": []
          },
          "execution_count": 27
        }
      ]
    },
    {
      "cell_type": "code",
      "metadata": {
        "id": "23pA_7msI6mb",
        "colab_type": "code",
        "colab": {}
      },
      "source": [
        "#Dealing with Diamond Princess - add data\n",
        "#https://en.wikipedia.org/wiki/COVID-19_pandemic_on_cruise_ships\n",
        "#https://en.wikipedia.org/wiki/COVID-19_pandemic_on_Diamond_Princess#Demographics\n",
        "#https://cmmid.github.io/topics/covid19/diamond_cruise_cfr_estimates.html \n",
        "#only data available: number of passengers, median age of passengers, fertility rate\n",
        "\n",
        "df_population = df_population.append(pd.Series(['Diamond Princess', 3711, 0, 0, 0, 0, 0.0, 1, 69, 0, 0.0], index=df_population.columns ), ignore_index=True)"
      ],
      "execution_count": 0,
      "outputs": []
    },
    {
      "cell_type": "code",
      "metadata": {
        "id": "enOwoE_9LaFy",
        "colab_type": "code",
        "colab": {
          "base_uri": "https://localhost:8080/",
          "height": 287
        },
        "outputId": "9af8c3b3-31c2-4443-af15-be02edbc0e35"
      },
      "source": [
        "df_population.describe()"
      ],
      "execution_count": 29,
      "outputs": [
        {
          "output_type": "execute_result",
          "data": {
            "text/html": [
              "<div>\n",
              "<style scoped>\n",
              "    .dataframe tbody tr th:only-of-type {\n",
              "        vertical-align: middle;\n",
              "    }\n",
              "\n",
              "    .dataframe tbody tr th {\n",
              "        vertical-align: top;\n",
              "    }\n",
              "\n",
              "    .dataframe thead th {\n",
              "        text-align: right;\n",
              "    }\n",
              "</style>\n",
              "<table border=\"1\" class=\"dataframe\">\n",
              "  <thead>\n",
              "    <tr style=\"text-align: right;\">\n",
              "      <th></th>\n",
              "      <th>Population (2020)</th>\n",
              "      <th>Yearly Change</th>\n",
              "      <th>Net Change</th>\n",
              "      <th>Density (P/Km²)</th>\n",
              "      <th>Land Area (Km²)</th>\n",
              "      <th>Migrants (net)</th>\n",
              "      <th>Fert. Rate</th>\n",
              "      <th>Med. Age</th>\n",
              "      <th>Urban Pop %</th>\n",
              "      <th>World Share</th>\n",
              "    </tr>\n",
              "  </thead>\n",
              "  <tbody>\n",
              "    <tr>\n",
              "      <th>count</th>\n",
              "      <td>2.360000e+02</td>\n",
              "      <td>236.000000</td>\n",
              "      <td>2.360000e+02</td>\n",
              "      <td>236.000000</td>\n",
              "      <td>2.360000e+02</td>\n",
              "      <td>236.000000</td>\n",
              "      <td>236.000000</td>\n",
              "      <td>236.000000</td>\n",
              "      <td>236.000000</td>\n",
              "      <td>236.000000</td>\n",
              "    </tr>\n",
              "    <tr>\n",
              "      <th>mean</th>\n",
              "      <td>3.295750e+07</td>\n",
              "      <td>1.099873</td>\n",
              "      <td>3.446214e+05</td>\n",
              "      <td>473.754237</td>\n",
              "      <td>5.512461e+05</td>\n",
              "      <td>5.351695</td>\n",
              "      <td>2.557203</td>\n",
              "      <td>29.097458</td>\n",
              "      <td>58.860169</td>\n",
              "      <td>0.423644</td>\n",
              "    </tr>\n",
              "    <tr>\n",
              "      <th>std</th>\n",
              "      <td>1.346715e+08</td>\n",
              "      <td>1.075761</td>\n",
              "      <td>1.126083e+06</td>\n",
              "      <td>2326.526605</td>\n",
              "      <td>1.684587e+06</td>\n",
              "      <td>113740.613982</td>\n",
              "      <td>1.212379</td>\n",
              "      <td>9.715256</td>\n",
              "      <td>23.815995</td>\n",
              "      <td>1.730252</td>\n",
              "    </tr>\n",
              "    <tr>\n",
              "      <th>min</th>\n",
              "      <td>8.010000e+02</td>\n",
              "      <td>-2.470000</td>\n",
              "      <td>-3.838400e+05</td>\n",
              "      <td>0.000000</td>\n",
              "      <td>0.000000e+00</td>\n",
              "      <td>-653249.000000</td>\n",
              "      <td>1.000000</td>\n",
              "      <td>15.000000</td>\n",
              "      <td>0.000000</td>\n",
              "      <td>0.000000</td>\n",
              "    </tr>\n",
              "    <tr>\n",
              "      <th>25%</th>\n",
              "      <td>3.952092e+05</td>\n",
              "      <td>0.315000</td>\n",
              "      <td>3.932500e+02</td>\n",
              "      <td>35.750000</td>\n",
              "      <td>2.382500e+03</td>\n",
              "      <td>-8480.500000</td>\n",
              "      <td>1.800000</td>\n",
              "      <td>19.000000</td>\n",
              "      <td>43.000000</td>\n",
              "      <td>0.010000</td>\n",
              "    </tr>\n",
              "    <tr>\n",
              "      <th>50%</th>\n",
              "      <td>5.435874e+06</td>\n",
              "      <td>0.970000</td>\n",
              "      <td>3.845600e+04</td>\n",
              "      <td>94.500000</td>\n",
              "      <td>7.579000e+04</td>\n",
              "      <td>0.000000</td>\n",
              "      <td>2.000000</td>\n",
              "      <td>28.000000</td>\n",
              "      <td>58.000000</td>\n",
              "      <td>0.070000</td>\n",
              "    </tr>\n",
              "    <tr>\n",
              "      <th>75%</th>\n",
              "      <td>2.028905e+07</td>\n",
              "      <td>1.850000</td>\n",
              "      <td>2.410415e+05</td>\n",
              "      <td>239.250000</td>\n",
              "      <td>4.005600e+05</td>\n",
              "      <td>4850.000000</td>\n",
              "      <td>3.100000</td>\n",
              "      <td>38.000000</td>\n",
              "      <td>78.250000</td>\n",
              "      <td>0.262500</td>\n",
              "    </tr>\n",
              "    <tr>\n",
              "      <th>max</th>\n",
              "      <td>1.438207e+09</td>\n",
              "      <td>3.840000</td>\n",
              "      <td>1.358663e+07</td>\n",
              "      <td>26337.000000</td>\n",
              "      <td>1.637687e+07</td>\n",
              "      <td>954806.000000</td>\n",
              "      <td>7.000000</td>\n",
              "      <td>69.000000</td>\n",
              "      <td>100.000000</td>\n",
              "      <td>18.470000</td>\n",
              "    </tr>\n",
              "  </tbody>\n",
              "</table>\n",
              "</div>"
            ],
            "text/plain": [
              "       Population (2020)  Yearly Change  ...  Urban Pop %  World Share\n",
              "count       2.360000e+02     236.000000  ...   236.000000   236.000000\n",
              "mean        3.295750e+07       1.099873  ...    58.860169     0.423644\n",
              "std         1.346715e+08       1.075761  ...    23.815995     1.730252\n",
              "min         8.010000e+02      -2.470000  ...     0.000000     0.000000\n",
              "25%         3.952092e+05       0.315000  ...    43.000000     0.010000\n",
              "50%         5.435874e+06       0.970000  ...    58.000000     0.070000\n",
              "75%         2.028905e+07       1.850000  ...    78.250000     0.262500\n",
              "max         1.438207e+09       3.840000  ...   100.000000    18.470000\n",
              "\n",
              "[8 rows x 10 columns]"
            ]
          },
          "metadata": {
            "tags": []
          },
          "execution_count": 29
        }
      ]
    },
    {
      "cell_type": "markdown",
      "metadata": {
        "id": "EOKO_VMHMU-G",
        "colab_type": "text"
      },
      "source": [
        "### Merging Dataset"
      ]
    },
    {
      "cell_type": "code",
      "metadata": {
        "id": "KHn_kI9IL9_G",
        "colab_type": "code",
        "colab": {}
      },
      "source": [
        "train = train.merge(df_population, how='left', left_on='Country', right_on='Country')\n",
        "test = test.merge(df_population, how='left', left_on='Country', right_on='Country')"
      ],
      "execution_count": 0,
      "outputs": []
    },
    {
      "cell_type": "code",
      "metadata": {
        "id": "_ErMpQqLMeQe",
        "colab_type": "code",
        "colab": {
          "base_uri": "https://localhost:8080/",
          "height": 425
        },
        "outputId": "14e2ba43-9151-4c57-8f1e-f82b358af2e8"
      },
      "source": [
        "train.info()\n",
        "#train.head()"
      ],
      "execution_count": 31,
      "outputs": [
        {
          "output_type": "stream",
          "text": [
            "<class 'pandas.core.frame.DataFrame'>\n",
            "Int64Index: 20580 entries, 0 to 20579\n",
            "Data columns (total 16 columns):\n",
            " #   Column             Non-Null Count  Dtype  \n",
            "---  ------             --------------  -----  \n",
            " 0   Id                 20580 non-null  int64  \n",
            " 1   Province_State     8750 non-null   object \n",
            " 2   Country            20580 non-null  object \n",
            " 3   Date               20580 non-null  object \n",
            " 4   ConfirmedCases     20580 non-null  float64\n",
            " 5   Fatalities         20580 non-null  float64\n",
            " 6   Population (2020)  20580 non-null  int64  \n",
            " 7   Yearly Change      20580 non-null  float64\n",
            " 8   Net Change         20580 non-null  int64  \n",
            " 9   Density (P/Km²)    20580 non-null  int64  \n",
            " 10  Land Area (Km²)    20580 non-null  int64  \n",
            " 11  Migrants (net)     20580 non-null  float64\n",
            " 12  Fert. Rate         20580 non-null  float64\n",
            " 13  Med. Age           20580 non-null  int64  \n",
            " 14  Urban Pop %        20580 non-null  int64  \n",
            " 15  World Share        20580 non-null  float64\n",
            "dtypes: float64(6), int64(7), object(3)\n",
            "memory usage: 2.7+ MB\n"
          ],
          "name": "stdout"
        }
      ]
    },
    {
      "cell_type": "code",
      "metadata": {
        "id": "R5xSa1a1MfV0",
        "colab_type": "code",
        "colab": {
          "base_uri": "https://localhost:8080/",
          "height": 390
        },
        "outputId": "af28b01a-9548-42b6-c173-500e613f9e7d"
      },
      "source": [
        "test.info()"
      ],
      "execution_count": 32,
      "outputs": [
        {
          "output_type": "stream",
          "text": [
            "<class 'pandas.core.frame.DataFrame'>\n",
            "Int64Index: 12642 entries, 0 to 12641\n",
            "Data columns (total 14 columns):\n",
            " #   Column             Non-Null Count  Dtype  \n",
            "---  ------             --------------  -----  \n",
            " 0   ForecastId         12642 non-null  int64  \n",
            " 1   Province_State     5375 non-null   object \n",
            " 2   Country            12642 non-null  object \n",
            " 3   Date               12642 non-null  object \n",
            " 4   Population (2020)  12642 non-null  int64  \n",
            " 5   Yearly Change      12642 non-null  float64\n",
            " 6   Net Change         12642 non-null  int64  \n",
            " 7   Density (P/Km²)    12642 non-null  int64  \n",
            " 8   Land Area (Km²)    12642 non-null  int64  \n",
            " 9   Migrants (net)     12642 non-null  float64\n",
            " 10  Fert. Rate         12642 non-null  float64\n",
            " 11  Med. Age           12642 non-null  int64  \n",
            " 12  Urban Pop %        12642 non-null  int64  \n",
            " 13  World Share        12642 non-null  float64\n",
            "dtypes: float64(4), int64(7), object(3)\n",
            "memory usage: 1.4+ MB\n"
          ],
          "name": "stdout"
        }
      ]
    },
    {
      "cell_type": "code",
      "metadata": {
        "id": "fE78AP2KMkXQ",
        "colab_type": "code",
        "colab": {}
      },
      "source": [
        "#df_population.info()"
      ],
      "execution_count": 0,
      "outputs": []
    },
    {
      "cell_type": "markdown",
      "metadata": {
        "id": "fL60y3w8M5u8",
        "colab_type": "text"
      },
      "source": [
        "###Complete Data Cleaning\n"
      ]
    },
    {
      "cell_type": "code",
      "metadata": {
        "id": "EgxJuVq9M7Mx",
        "colab_type": "code",
        "colab": {
          "base_uri": "https://localhost:8080/",
          "height": 725
        },
        "outputId": "da04132c-4b95-4d8c-90a3-b18015350baf"
      },
      "source": [
        "fig = plt.figure(figsize=(20,8))\n",
        "ax = fig.add_subplot(111)\n",
        "train.groupby('Date').mean().sort_values(by='ConfirmedCases', ascending=False)['ConfirmedCases'].plot(kind='bar', color='b',width=0.3,title='Date Confirmed Cases', fontsize=10)\n",
        "plt.xticks(rotation = 90)\n",
        "plt.ylabel('Date')\n",
        "ax.title.set_fontsize(20)\n",
        "ax.xaxis.label.set_fontsize(10)\n",
        "ax.yaxis.label.set_fontsize(10)\n",
        "print(train.groupby('Date').mean().sort_values(by='ConfirmedCases', ascending=False)['ConfirmedCases'][[1,2]])\n",
        "print(train.groupby('Date').mean().sort_values(by='ConfirmedCases', ascending=False)['ConfirmedCases'][[4,5,6]])"
      ],
      "execution_count": 33,
      "outputs": [
        {
          "output_type": "stream",
          "text": [
            "Date\n",
            "2020-03-30    2659.717687\n",
            "2020-03-29    2448.040816\n",
            "Name: ConfirmedCases, dtype: float64\n",
            "Date\n",
            "2020-03-27    2017.047619\n",
            "2020-03-26    1800.482993\n",
            "2020-03-25    1590.149660\n",
            "Name: ConfirmedCases, dtype: float64\n"
          ],
          "name": "stdout"
        },
        {
          "output_type": "display_data",
          "data": {
            "image/png": "[encoded data removed]",
            "text/plain": [
              "<Figure size 1440x576 with 1 Axes>"
            ]
          },
          "metadata": {
            "tags": [],
            "needs_background": "light"
          }
        }
      ]
    },
    {
      "cell_type": "markdown",
      "metadata": {
        "id": "GGqrRa-FPDH6",
        "colab_type": "text"
      },
      "source": [
        "**Date values**\n",
        "\n",
        "Avoid data leakage: train dataset has records till 31th March 2020 and test has partial intersection of records from 19th March - concise training data until 18 March 2020"
      ]
    },
    {
      "cell_type": "code",
      "metadata": {
        "id": "fGaEs9k7OXgC",
        "colab_type": "code",
        "colab": {
          "base_uri": "https://localhost:8080/",
          "height": 301
        },
        "outputId": "e6f1010a-d4b3-4396-8bce-6c95377eeaf9"
      },
      "source": [
        "#date values\n",
        "for col in train : \n",
        "    print(type(train[col][1]))"
      ],
      "execution_count": 34,
      "outputs": [
        {
          "output_type": "stream",
          "text": [
            "<class 'numpy.int64'>\n",
            "<class 'float'>\n",
            "<class 'str'>\n",
            "<class 'str'>\n",
            "<class 'numpy.float64'>\n",
            "<class 'numpy.float64'>\n",
            "<class 'numpy.int64'>\n",
            "<class 'numpy.float64'>\n",
            "<class 'numpy.int64'>\n",
            "<class 'numpy.int64'>\n",
            "<class 'numpy.int64'>\n",
            "<class 'numpy.float64'>\n",
            "<class 'numpy.float64'>\n",
            "<class 'numpy.int64'>\n",
            "<class 'numpy.int64'>\n",
            "<class 'numpy.float64'>\n"
          ],
          "name": "stdout"
        }
      ]
    },
    {
      "cell_type": "code",
      "metadata": {
        "id": "o27dgi_xPTgy",
        "colab_type": "code",
        "colab": {
          "base_uri": "https://localhost:8080/",
          "height": 34
        },
        "outputId": "07d9dd6c-a8b1-45f6-bf04-aa4c7b64d1a2"
      },
      "source": [
        "min_test_date = test.Date.min() #2020-03-19\n",
        "\n",
        "print('Start test data:', min_test_date, 'End of Train Data', train.Date.max())"
      ],
      "execution_count": 35,
      "outputs": [
        {
          "output_type": "stream",
          "text": [
            "Start test data: 2020-03-19 End of Train Data 2020-03-31\n"
          ],
          "name": "stdout"
        }
      ]
    },
    {
      "cell_type": "code",
      "metadata": {
        "id": "l4rDQAo8OilH",
        "colab_type": "code",
        "colab": {
          "base_uri": "https://localhost:8080/",
          "height": 550
        },
        "outputId": "c2356244-eee1-49c1-ce1c-63d13c1d70c1"
      },
      "source": [
        "#transform date value unto datetime \n",
        "train['Date'] = pd.to_datetime(train['Date'])\n",
        "test['Date'] = pd.to_datetime(test['Date'])\n",
        "\n",
        "for col in train : \n",
        "    print(type(train[col][1]))\n",
        "    \n",
        "for col in test : \n",
        "    print(type(test[col][1]))"
      ],
      "execution_count": 36,
      "outputs": [
        {
          "output_type": "stream",
          "text": [
            "<class 'numpy.int64'>\n",
            "<class 'float'>\n",
            "<class 'str'>\n",
            "<class 'pandas._libs.tslibs.timestamps.Timestamp'>\n",
            "<class 'numpy.float64'>\n",
            "<class 'numpy.float64'>\n",
            "<class 'numpy.int64'>\n",
            "<class 'numpy.float64'>\n",
            "<class 'numpy.int64'>\n",
            "<class 'numpy.int64'>\n",
            "<class 'numpy.int64'>\n",
            "<class 'numpy.float64'>\n",
            "<class 'numpy.float64'>\n",
            "<class 'numpy.int64'>\n",
            "<class 'numpy.int64'>\n",
            "<class 'numpy.float64'>\n",
            "<class 'numpy.int64'>\n",
            "<class 'float'>\n",
            "<class 'str'>\n",
            "<class 'pandas._libs.tslibs.timestamps.Timestamp'>\n",
            "<class 'numpy.int64'>\n",
            "<class 'numpy.float64'>\n",
            "<class 'numpy.int64'>\n",
            "<class 'numpy.int64'>\n",
            "<class 'numpy.int64'>\n",
            "<class 'numpy.float64'>\n",
            "<class 'numpy.float64'>\n",
            "<class 'numpy.int64'>\n",
            "<class 'numpy.int64'>\n",
            "<class 'numpy.float64'>\n"
          ],
          "name": "stdout"
        }
      ]
    },
    {
      "cell_type": "code",
      "metadata": {
        "id": "HGwOjmx1OtY0",
        "colab_type": "code",
        "colab": {
          "base_uri": "https://localhost:8080/",
          "height": 34
        },
        "outputId": "d36fe6dc-0ad3-4ea9-b47d-ae5f61bcdcf6"
      },
      "source": [
        "#end train data below min_test_date: 18th March 2020\n",
        "train = train.loc[train.Date < min_test_date, :]\n",
        "train.Date.max()"
      ],
      "execution_count": 37,
      "outputs": [
        {
          "output_type": "execute_result",
          "data": {
            "text/plain": [
              "Timestamp('2020-03-18 00:00:00')"
            ]
          },
          "metadata": {
            "tags": []
          },
          "execution_count": 37
        }
      ]
    },
    {
      "cell_type": "code",
      "metadata": {
        "id": "k_moBid4QTI9",
        "colab_type": "code",
        "colab": {}
      },
      "source": [
        "#transform timestamp into int\n",
        "\n",
        "train['year'] = train['Date'].dt.year\n",
        "train['month'] = train['Date'].dt.month\n",
        "train['week'] = train['Date'].dt.week\n",
        "train['day'] = train['Date'].dt.dayofyear\n",
        "train['dayofweek'] = train['Date'].dt.dayofweek\n",
        "\n",
        "test['year'] = test['Date'].dt.year\n",
        "test['month'] = test['Date'].dt.month\n",
        "test['week'] = test['Date'].dt.week\n",
        "test['day'] = test['Date'].dt.dayofyear\n",
        "test['dayofweek'] = test['Date'].dt.dayofweek"
      ],
      "execution_count": 0,
      "outputs": []
    },
    {
      "cell_type": "code",
      "metadata": {
        "id": "Wj9o40oIQ8lO",
        "colab_type": "code",
        "colab": {
          "base_uri": "https://localhost:8080/",
          "height": 301
        },
        "outputId": "076f21f3-06d5-4a66-a747-2e1d194c1fcc"
      },
      "source": [
        "#keep date? drop date? \n",
        "\n",
        "train.loc[:, 'Date'] = train.Date.dt.strftime(\"%m%d\")\n",
        "train[\"Date\"]  = train[\"Date\"].astype(int)\n",
        "\n",
        "#X_train.drop(columns=['Date'], axis=1, inplace=True)\n",
        "\n",
        "test.loc[:, 'Date'] = test.Date.dt.strftime(\"%m%d\")\n",
        "test[\"Date\"]  = test[\"Date\"].astype(int)\n",
        "\n",
        "#X_test.drop(columns=['Date'], axis=1, inplace=True)\n",
        "print(train.head(), '\\n', test.head())"
      ],
      "execution_count": 39,
      "outputs": [
        {
          "output_type": "stream",
          "text": [
            "   Id Province_State      Country  Date  ...  month  week  day  dayofweek\n",
            "0   1            NaN  Afghanistan   122  ...      1     4   22          2\n",
            "1   2            NaN  Afghanistan   123  ...      1     4   23          3\n",
            "2   3            NaN  Afghanistan   124  ...      1     4   24          4\n",
            "3   4            NaN  Afghanistan   125  ...      1     4   25          5\n",
            "4   5            NaN  Afghanistan   126  ...      1     4   26          6\n",
            "\n",
            "[5 rows x 21 columns] \n",
            "    ForecastId Province_State      Country  Date  ...  month  week  day  dayofweek\n",
            "0           1            NaN  Afghanistan   319  ...      3    12   79          3\n",
            "1           2            NaN  Afghanistan   320  ...      3    12   80          4\n",
            "2           3            NaN  Afghanistan   321  ...      3    12   81          5\n",
            "3           4            NaN  Afghanistan   322  ...      3    12   82          6\n",
            "4           5            NaN  Afghanistan   323  ...      3    13   83          0\n",
            "\n",
            "[5 rows x 19 columns]\n"
          ],
          "name": "stdout"
        }
      ]
    },
    {
      "cell_type": "markdown",
      "metadata": {
        "id": "8bqBnrPHRoIQ",
        "colab_type": "text"
      },
      "source": [
        "**NaN State values**\n",
        "\n",
        "remove NaN values and create new variable combining country name and state if available"
      ]
    },
    {
      "cell_type": "code",
      "metadata": {
        "id": "GfoZ1vExRPfq",
        "colab_type": "code",
        "colab": {
          "base_uri": "https://localhost:8080/",
          "height": 423
        },
        "outputId": "161b14de-81b1-47cd-877f-0f27c7fa74d1"
      },
      "source": [
        "#train.dropna()? - drops country values too\n",
        "#Fill NaN?\n",
        "# Undefined = \"UNDEFINED\"\n",
        "# X_train['Province_State'].fillna(Undefined, inplace=True)\n",
        "\n",
        "#join country_region and province_state\n",
        "train['Province_State'].fillna('', inplace=True)\n",
        "train['geo'] = ['_'.join(x) for x in zip(train['Country'], train['Province_State'])]\n",
        "X_train = train.copy()\n",
        "X_train"
      ],
      "execution_count": 40,
      "outputs": [
        {
          "output_type": "execute_result",
          "data": {
            "text/html": [
              "<div>\n",
              "<style scoped>\n",
              "    .dataframe tbody tr th:only-of-type {\n",
              "        vertical-align: middle;\n",
              "    }\n",
              "\n",
              "    .dataframe tbody tr th {\n",
              "        vertical-align: top;\n",
              "    }\n",
              "\n",
              "    .dataframe thead th {\n",
              "        text-align: right;\n",
              "    }\n",
              "</style>\n",
              "<table border=\"1\" class=\"dataframe\">\n",
              "  <thead>\n",
              "    <tr style=\"text-align: right;\">\n",
              "      <th></th>\n",
              "      <th>Id</th>\n",
              "      <th>Province_State</th>\n",
              "      <th>Country</th>\n",
              "      <th>Date</th>\n",
              "      <th>ConfirmedCases</th>\n",
              "      <th>Fatalities</th>\n",
              "      <th>Population (2020)</th>\n",
              "      <th>Yearly Change</th>\n",
              "      <th>Net Change</th>\n",
              "      <th>Density (P/Km²)</th>\n",
              "      <th>Land Area (Km²)</th>\n",
              "      <th>Migrants (net)</th>\n",
              "      <th>Fert. Rate</th>\n",
              "      <th>Med. Age</th>\n",
              "      <th>Urban Pop %</th>\n",
              "      <th>World Share</th>\n",
              "      <th>year</th>\n",
              "      <th>month</th>\n",
              "      <th>week</th>\n",
              "      <th>day</th>\n",
              "      <th>dayofweek</th>\n",
              "      <th>geo</th>\n",
              "    </tr>\n",
              "  </thead>\n",
              "  <tbody>\n",
              "    <tr>\n",
              "      <th>0</th>\n",
              "      <td>1</td>\n",
              "      <td></td>\n",
              "      <td>Afghanistan</td>\n",
              "      <td>122</td>\n",
              "      <td>0.0</td>\n",
              "      <td>0.0</td>\n",
              "      <td>38742911</td>\n",
              "      <td>2.33</td>\n",
              "      <td>886592</td>\n",
              "      <td>60</td>\n",
              "      <td>652860</td>\n",
              "      <td>-62920.0</td>\n",
              "      <td>4.6</td>\n",
              "      <td>18</td>\n",
              "      <td>25</td>\n",
              "      <td>0.50</td>\n",
              "      <td>2020</td>\n",
              "      <td>1</td>\n",
              "      <td>4</td>\n",
              "      <td>22</td>\n",
              "      <td>2</td>\n",
              "      <td>Afghanistan_</td>\n",
              "    </tr>\n",
              "    <tr>\n",
              "      <th>1</th>\n",
              "      <td>2</td>\n",
              "      <td></td>\n",
              "      <td>Afghanistan</td>\n",
              "      <td>123</td>\n",
              "      <td>0.0</td>\n",
              "      <td>0.0</td>\n",
              "      <td>38742911</td>\n",
              "      <td>2.33</td>\n",
              "      <td>886592</td>\n",
              "      <td>60</td>\n",
              "      <td>652860</td>\n",
              "      <td>-62920.0</td>\n",
              "      <td>4.6</td>\n",
              "      <td>18</td>\n",
              "      <td>25</td>\n",
              "      <td>0.50</td>\n",
              "      <td>2020</td>\n",
              "      <td>1</td>\n",
              "      <td>4</td>\n",
              "      <td>23</td>\n",
              "      <td>3</td>\n",
              "      <td>Afghanistan_</td>\n",
              "    </tr>\n",
              "    <tr>\n",
              "      <th>2</th>\n",
              "      <td>3</td>\n",
              "      <td></td>\n",
              "      <td>Afghanistan</td>\n",
              "      <td>124</td>\n",
              "      <td>0.0</td>\n",
              "      <td>0.0</td>\n",
              "      <td>38742911</td>\n",
              "      <td>2.33</td>\n",
              "      <td>886592</td>\n",
              "      <td>60</td>\n",
              "      <td>652860</td>\n",
              "      <td>-62920.0</td>\n",
              "      <td>4.6</td>\n",
              "      <td>18</td>\n",
              "      <td>25</td>\n",
              "      <td>0.50</td>\n",
              "      <td>2020</td>\n",
              "      <td>1</td>\n",
              "      <td>4</td>\n",
              "      <td>24</td>\n",
              "      <td>4</td>\n",
              "      <td>Afghanistan_</td>\n",
              "    </tr>\n",
              "    <tr>\n",
              "      <th>3</th>\n",
              "      <td>4</td>\n",
              "      <td></td>\n",
              "      <td>Afghanistan</td>\n",
              "      <td>125</td>\n",
              "      <td>0.0</td>\n",
              "      <td>0.0</td>\n",
              "      <td>38742911</td>\n",
              "      <td>2.33</td>\n",
              "      <td>886592</td>\n",
              "      <td>60</td>\n",
              "      <td>652860</td>\n",
              "      <td>-62920.0</td>\n",
              "      <td>4.6</td>\n",
              "      <td>18</td>\n",
              "      <td>25</td>\n",
              "      <td>0.50</td>\n",
              "      <td>2020</td>\n",
              "      <td>1</td>\n",
              "      <td>4</td>\n",
              "      <td>25</td>\n",
              "      <td>5</td>\n",
              "      <td>Afghanistan_</td>\n",
              "    </tr>\n",
              "    <tr>\n",
              "      <th>4</th>\n",
              "      <td>5</td>\n",
              "      <td></td>\n",
              "      <td>Afghanistan</td>\n",
              "      <td>126</td>\n",
              "      <td>0.0</td>\n",
              "      <td>0.0</td>\n",
              "      <td>38742911</td>\n",
              "      <td>2.33</td>\n",
              "      <td>886592</td>\n",
              "      <td>60</td>\n",
              "      <td>652860</td>\n",
              "      <td>-62920.0</td>\n",
              "      <td>4.6</td>\n",
              "      <td>18</td>\n",
              "      <td>25</td>\n",
              "      <td>0.50</td>\n",
              "      <td>2020</td>\n",
              "      <td>1</td>\n",
              "      <td>4</td>\n",
              "      <td>26</td>\n",
              "      <td>6</td>\n",
              "      <td>Afghanistan_</td>\n",
              "    </tr>\n",
              "    <tr>\n",
              "      <th>...</th>\n",
              "      <td>...</td>\n",
              "      <td>...</td>\n",
              "      <td>...</td>\n",
              "      <td>...</td>\n",
              "      <td>...</td>\n",
              "      <td>...</td>\n",
              "      <td>...</td>\n",
              "      <td>...</td>\n",
              "      <td>...</td>\n",
              "      <td>...</td>\n",
              "      <td>...</td>\n",
              "      <td>...</td>\n",
              "      <td>...</td>\n",
              "      <td>...</td>\n",
              "      <td>...</td>\n",
              "      <td>...</td>\n",
              "      <td>...</td>\n",
              "      <td>...</td>\n",
              "      <td>...</td>\n",
              "      <td>...</td>\n",
              "      <td>...</td>\n",
              "      <td>...</td>\n",
              "    </tr>\n",
              "    <tr>\n",
              "      <th>20562</th>\n",
              "      <td>29353</td>\n",
              "      <td></td>\n",
              "      <td>Zimbabwe</td>\n",
              "      <td>314</td>\n",
              "      <td>0.0</td>\n",
              "      <td>0.0</td>\n",
              "      <td>14818157</td>\n",
              "      <td>1.48</td>\n",
              "      <td>217456</td>\n",
              "      <td>38</td>\n",
              "      <td>386850</td>\n",
              "      <td>-116858.0</td>\n",
              "      <td>3.6</td>\n",
              "      <td>19</td>\n",
              "      <td>38</td>\n",
              "      <td>0.19</td>\n",
              "      <td>2020</td>\n",
              "      <td>3</td>\n",
              "      <td>11</td>\n",
              "      <td>74</td>\n",
              "      <td>5</td>\n",
              "      <td>Zimbabwe_</td>\n",
              "    </tr>\n",
              "    <tr>\n",
              "      <th>20563</th>\n",
              "      <td>29354</td>\n",
              "      <td></td>\n",
              "      <td>Zimbabwe</td>\n",
              "      <td>315</td>\n",
              "      <td>0.0</td>\n",
              "      <td>0.0</td>\n",
              "      <td>14818157</td>\n",
              "      <td>1.48</td>\n",
              "      <td>217456</td>\n",
              "      <td>38</td>\n",
              "      <td>386850</td>\n",
              "      <td>-116858.0</td>\n",
              "      <td>3.6</td>\n",
              "      <td>19</td>\n",
              "      <td>38</td>\n",
              "      <td>0.19</td>\n",
              "      <td>2020</td>\n",
              "      <td>3</td>\n",
              "      <td>11</td>\n",
              "      <td>75</td>\n",
              "      <td>6</td>\n",
              "      <td>Zimbabwe_</td>\n",
              "    </tr>\n",
              "    <tr>\n",
              "      <th>20564</th>\n",
              "      <td>29355</td>\n",
              "      <td></td>\n",
              "      <td>Zimbabwe</td>\n",
              "      <td>316</td>\n",
              "      <td>0.0</td>\n",
              "      <td>0.0</td>\n",
              "      <td>14818157</td>\n",
              "      <td>1.48</td>\n",
              "      <td>217456</td>\n",
              "      <td>38</td>\n",
              "      <td>386850</td>\n",
              "      <td>-116858.0</td>\n",
              "      <td>3.6</td>\n",
              "      <td>19</td>\n",
              "      <td>38</td>\n",
              "      <td>0.19</td>\n",
              "      <td>2020</td>\n",
              "      <td>3</td>\n",
              "      <td>12</td>\n",
              "      <td>76</td>\n",
              "      <td>0</td>\n",
              "      <td>Zimbabwe_</td>\n",
              "    </tr>\n",
              "    <tr>\n",
              "      <th>20565</th>\n",
              "      <td>29356</td>\n",
              "      <td></td>\n",
              "      <td>Zimbabwe</td>\n",
              "      <td>317</td>\n",
              "      <td>0.0</td>\n",
              "      <td>0.0</td>\n",
              "      <td>14818157</td>\n",
              "      <td>1.48</td>\n",
              "      <td>217456</td>\n",
              "      <td>38</td>\n",
              "      <td>386850</td>\n",
              "      <td>-116858.0</td>\n",
              "      <td>3.6</td>\n",
              "      <td>19</td>\n",
              "      <td>38</td>\n",
              "      <td>0.19</td>\n",
              "      <td>2020</td>\n",
              "      <td>3</td>\n",
              "      <td>12</td>\n",
              "      <td>77</td>\n",
              "      <td>1</td>\n",
              "      <td>Zimbabwe_</td>\n",
              "    </tr>\n",
              "    <tr>\n",
              "      <th>20566</th>\n",
              "      <td>29357</td>\n",
              "      <td></td>\n",
              "      <td>Zimbabwe</td>\n",
              "      <td>318</td>\n",
              "      <td>0.0</td>\n",
              "      <td>0.0</td>\n",
              "      <td>14818157</td>\n",
              "      <td>1.48</td>\n",
              "      <td>217456</td>\n",
              "      <td>38</td>\n",
              "      <td>386850</td>\n",
              "      <td>-116858.0</td>\n",
              "      <td>3.6</td>\n",
              "      <td>19</td>\n",
              "      <td>38</td>\n",
              "      <td>0.19</td>\n",
              "      <td>2020</td>\n",
              "      <td>3</td>\n",
              "      <td>12</td>\n",
              "      <td>78</td>\n",
              "      <td>2</td>\n",
              "      <td>Zimbabwe_</td>\n",
              "    </tr>\n",
              "  </tbody>\n",
              "</table>\n",
              "<p>16758 rows × 22 columns</p>\n",
              "</div>"
            ],
            "text/plain": [
              "          Id Province_State      Country  ...  day  dayofweek           geo\n",
              "0          1                 Afghanistan  ...   22          2  Afghanistan_\n",
              "1          2                 Afghanistan  ...   23          3  Afghanistan_\n",
              "2          3                 Afghanistan  ...   24          4  Afghanistan_\n",
              "3          4                 Afghanistan  ...   25          5  Afghanistan_\n",
              "4          5                 Afghanistan  ...   26          6  Afghanistan_\n",
              "...      ...            ...          ...  ...  ...        ...           ...\n",
              "20562  29353                    Zimbabwe  ...   74          5     Zimbabwe_\n",
              "20563  29354                    Zimbabwe  ...   75          6     Zimbabwe_\n",
              "20564  29355                    Zimbabwe  ...   76          0     Zimbabwe_\n",
              "20565  29356                    Zimbabwe  ...   77          1     Zimbabwe_\n",
              "20566  29357                    Zimbabwe  ...   78          2     Zimbabwe_\n",
              "\n",
              "[16758 rows x 22 columns]"
            ]
          },
          "metadata": {
            "tags": []
          },
          "execution_count": 40
        }
      ]
    },
    {
      "cell_type": "code",
      "metadata": {
        "id": "Q-rV4lQ3R-ZL",
        "colab_type": "code",
        "colab": {
          "base_uri": "https://localhost:8080/",
          "height": 406
        },
        "outputId": "877a65d9-411c-4b46-c873-fbf60c9802f9"
      },
      "source": [
        "#Test set\n",
        "test['Province_State'].fillna('', inplace=True)\n",
        "# test['Date'] = pd.to_datetime(test['Date'])\n",
        "# test['day'] = test.Date.dt.dayofyear\n",
        "test['geo'] = ['_'.join(x) for x in zip(test['Country'], test['Province_State'])]\n",
        "X_test = test.copy()\n",
        "X_test"
      ],
      "execution_count": 41,
      "outputs": [
        {
          "output_type": "execute_result",
          "data": {
            "text/html": [
              "<div>\n",
              "<style scoped>\n",
              "    .dataframe tbody tr th:only-of-type {\n",
              "        vertical-align: middle;\n",
              "    }\n",
              "\n",
              "    .dataframe tbody tr th {\n",
              "        vertical-align: top;\n",
              "    }\n",
              "\n",
              "    .dataframe thead th {\n",
              "        text-align: right;\n",
              "    }\n",
              "</style>\n",
              "<table border=\"1\" class=\"dataframe\">\n",
              "  <thead>\n",
              "    <tr style=\"text-align: right;\">\n",
              "      <th></th>\n",
              "      <th>ForecastId</th>\n",
              "      <th>Province_State</th>\n",
              "      <th>Country</th>\n",
              "      <th>Date</th>\n",
              "      <th>Population (2020)</th>\n",
              "      <th>Yearly Change</th>\n",
              "      <th>Net Change</th>\n",
              "      <th>Density (P/Km²)</th>\n",
              "      <th>Land Area (Km²)</th>\n",
              "      <th>Migrants (net)</th>\n",
              "      <th>Fert. Rate</th>\n",
              "      <th>Med. Age</th>\n",
              "      <th>Urban Pop %</th>\n",
              "      <th>World Share</th>\n",
              "      <th>year</th>\n",
              "      <th>month</th>\n",
              "      <th>week</th>\n",
              "      <th>day</th>\n",
              "      <th>dayofweek</th>\n",
              "      <th>geo</th>\n",
              "    </tr>\n",
              "  </thead>\n",
              "  <tbody>\n",
              "    <tr>\n",
              "      <th>0</th>\n",
              "      <td>1</td>\n",
              "      <td></td>\n",
              "      <td>Afghanistan</td>\n",
              "      <td>319</td>\n",
              "      <td>38742911</td>\n",
              "      <td>2.33</td>\n",
              "      <td>886592</td>\n",
              "      <td>60</td>\n",
              "      <td>652860</td>\n",
              "      <td>-62920.0</td>\n",
              "      <td>4.6</td>\n",
              "      <td>18</td>\n",
              "      <td>25</td>\n",
              "      <td>0.50</td>\n",
              "      <td>2020</td>\n",
              "      <td>3</td>\n",
              "      <td>12</td>\n",
              "      <td>79</td>\n",
              "      <td>3</td>\n",
              "      <td>Afghanistan_</td>\n",
              "    </tr>\n",
              "    <tr>\n",
              "      <th>1</th>\n",
              "      <td>2</td>\n",
              "      <td></td>\n",
              "      <td>Afghanistan</td>\n",
              "      <td>320</td>\n",
              "      <td>38742911</td>\n",
              "      <td>2.33</td>\n",
              "      <td>886592</td>\n",
              "      <td>60</td>\n",
              "      <td>652860</td>\n",
              "      <td>-62920.0</td>\n",
              "      <td>4.6</td>\n",
              "      <td>18</td>\n",
              "      <td>25</td>\n",
              "      <td>0.50</td>\n",
              "      <td>2020</td>\n",
              "      <td>3</td>\n",
              "      <td>12</td>\n",
              "      <td>80</td>\n",
              "      <td>4</td>\n",
              "      <td>Afghanistan_</td>\n",
              "    </tr>\n",
              "    <tr>\n",
              "      <th>2</th>\n",
              "      <td>3</td>\n",
              "      <td></td>\n",
              "      <td>Afghanistan</td>\n",
              "      <td>321</td>\n",
              "      <td>38742911</td>\n",
              "      <td>2.33</td>\n",
              "      <td>886592</td>\n",
              "      <td>60</td>\n",
              "      <td>652860</td>\n",
              "      <td>-62920.0</td>\n",
              "      <td>4.6</td>\n",
              "      <td>18</td>\n",
              "      <td>25</td>\n",
              "      <td>0.50</td>\n",
              "      <td>2020</td>\n",
              "      <td>3</td>\n",
              "      <td>12</td>\n",
              "      <td>81</td>\n",
              "      <td>5</td>\n",
              "      <td>Afghanistan_</td>\n",
              "    </tr>\n",
              "    <tr>\n",
              "      <th>3</th>\n",
              "      <td>4</td>\n",
              "      <td></td>\n",
              "      <td>Afghanistan</td>\n",
              "      <td>322</td>\n",
              "      <td>38742911</td>\n",
              "      <td>2.33</td>\n",
              "      <td>886592</td>\n",
              "      <td>60</td>\n",
              "      <td>652860</td>\n",
              "      <td>-62920.0</td>\n",
              "      <td>4.6</td>\n",
              "      <td>18</td>\n",
              "      <td>25</td>\n",
              "      <td>0.50</td>\n",
              "      <td>2020</td>\n",
              "      <td>3</td>\n",
              "      <td>12</td>\n",
              "      <td>82</td>\n",
              "      <td>6</td>\n",
              "      <td>Afghanistan_</td>\n",
              "    </tr>\n",
              "    <tr>\n",
              "      <th>4</th>\n",
              "      <td>5</td>\n",
              "      <td></td>\n",
              "      <td>Afghanistan</td>\n",
              "      <td>323</td>\n",
              "      <td>38742911</td>\n",
              "      <td>2.33</td>\n",
              "      <td>886592</td>\n",
              "      <td>60</td>\n",
              "      <td>652860</td>\n",
              "      <td>-62920.0</td>\n",
              "      <td>4.6</td>\n",
              "      <td>18</td>\n",
              "      <td>25</td>\n",
              "      <td>0.50</td>\n",
              "      <td>2020</td>\n",
              "      <td>3</td>\n",
              "      <td>13</td>\n",
              "      <td>83</td>\n",
              "      <td>0</td>\n",
              "      <td>Afghanistan_</td>\n",
              "    </tr>\n",
              "    <tr>\n",
              "      <th>...</th>\n",
              "      <td>...</td>\n",
              "      <td>...</td>\n",
              "      <td>...</td>\n",
              "      <td>...</td>\n",
              "      <td>...</td>\n",
              "      <td>...</td>\n",
              "      <td>...</td>\n",
              "      <td>...</td>\n",
              "      <td>...</td>\n",
              "      <td>...</td>\n",
              "      <td>...</td>\n",
              "      <td>...</td>\n",
              "      <td>...</td>\n",
              "      <td>...</td>\n",
              "      <td>...</td>\n",
              "      <td>...</td>\n",
              "      <td>...</td>\n",
              "      <td>...</td>\n",
              "      <td>...</td>\n",
              "      <td>...</td>\n",
              "    </tr>\n",
              "    <tr>\n",
              "      <th>12637</th>\n",
              "      <td>12638</td>\n",
              "      <td></td>\n",
              "      <td>Zimbabwe</td>\n",
              "      <td>426</td>\n",
              "      <td>14818157</td>\n",
              "      <td>1.48</td>\n",
              "      <td>217456</td>\n",
              "      <td>38</td>\n",
              "      <td>386850</td>\n",
              "      <td>-116858.0</td>\n",
              "      <td>3.6</td>\n",
              "      <td>19</td>\n",
              "      <td>38</td>\n",
              "      <td>0.19</td>\n",
              "      <td>2020</td>\n",
              "      <td>4</td>\n",
              "      <td>17</td>\n",
              "      <td>117</td>\n",
              "      <td>6</td>\n",
              "      <td>Zimbabwe_</td>\n",
              "    </tr>\n",
              "    <tr>\n",
              "      <th>12638</th>\n",
              "      <td>12639</td>\n",
              "      <td></td>\n",
              "      <td>Zimbabwe</td>\n",
              "      <td>427</td>\n",
              "      <td>14818157</td>\n",
              "      <td>1.48</td>\n",
              "      <td>217456</td>\n",
              "      <td>38</td>\n",
              "      <td>386850</td>\n",
              "      <td>-116858.0</td>\n",
              "      <td>3.6</td>\n",
              "      <td>19</td>\n",
              "      <td>38</td>\n",
              "      <td>0.19</td>\n",
              "      <td>2020</td>\n",
              "      <td>4</td>\n",
              "      <td>18</td>\n",
              "      <td>118</td>\n",
              "      <td>0</td>\n",
              "      <td>Zimbabwe_</td>\n",
              "    </tr>\n",
              "    <tr>\n",
              "      <th>12639</th>\n",
              "      <td>12640</td>\n",
              "      <td></td>\n",
              "      <td>Zimbabwe</td>\n",
              "      <td>428</td>\n",
              "      <td>14818157</td>\n",
              "      <td>1.48</td>\n",
              "      <td>217456</td>\n",
              "      <td>38</td>\n",
              "      <td>386850</td>\n",
              "      <td>-116858.0</td>\n",
              "      <td>3.6</td>\n",
              "      <td>19</td>\n",
              "      <td>38</td>\n",
              "      <td>0.19</td>\n",
              "      <td>2020</td>\n",
              "      <td>4</td>\n",
              "      <td>18</td>\n",
              "      <td>119</td>\n",
              "      <td>1</td>\n",
              "      <td>Zimbabwe_</td>\n",
              "    </tr>\n",
              "    <tr>\n",
              "      <th>12640</th>\n",
              "      <td>12641</td>\n",
              "      <td></td>\n",
              "      <td>Zimbabwe</td>\n",
              "      <td>429</td>\n",
              "      <td>14818157</td>\n",
              "      <td>1.48</td>\n",
              "      <td>217456</td>\n",
              "      <td>38</td>\n",
              "      <td>386850</td>\n",
              "      <td>-116858.0</td>\n",
              "      <td>3.6</td>\n",
              "      <td>19</td>\n",
              "      <td>38</td>\n",
              "      <td>0.19</td>\n",
              "      <td>2020</td>\n",
              "      <td>4</td>\n",
              "      <td>18</td>\n",
              "      <td>120</td>\n",
              "      <td>2</td>\n",
              "      <td>Zimbabwe_</td>\n",
              "    </tr>\n",
              "    <tr>\n",
              "      <th>12641</th>\n",
              "      <td>12642</td>\n",
              "      <td></td>\n",
              "      <td>Zimbabwe</td>\n",
              "      <td>430</td>\n",
              "      <td>14818157</td>\n",
              "      <td>1.48</td>\n",
              "      <td>217456</td>\n",
              "      <td>38</td>\n",
              "      <td>386850</td>\n",
              "      <td>-116858.0</td>\n",
              "      <td>3.6</td>\n",
              "      <td>19</td>\n",
              "      <td>38</td>\n",
              "      <td>0.19</td>\n",
              "      <td>2020</td>\n",
              "      <td>4</td>\n",
              "      <td>18</td>\n",
              "      <td>121</td>\n",
              "      <td>3</td>\n",
              "      <td>Zimbabwe_</td>\n",
              "    </tr>\n",
              "  </tbody>\n",
              "</table>\n",
              "<p>12642 rows × 20 columns</p>\n",
              "</div>"
            ],
            "text/plain": [
              "       ForecastId Province_State      Country  ...  day  dayofweek           geo\n",
              "0               1                 Afghanistan  ...   79          3  Afghanistan_\n",
              "1               2                 Afghanistan  ...   80          4  Afghanistan_\n",
              "2               3                 Afghanistan  ...   81          5  Afghanistan_\n",
              "3               4                 Afghanistan  ...   82          6  Afghanistan_\n",
              "4               5                 Afghanistan  ...   83          0  Afghanistan_\n",
              "...           ...            ...          ...  ...  ...        ...           ...\n",
              "12637       12638                    Zimbabwe  ...  117          6     Zimbabwe_\n",
              "12638       12639                    Zimbabwe  ...  118          0     Zimbabwe_\n",
              "12639       12640                    Zimbabwe  ...  119          1     Zimbabwe_\n",
              "12640       12641                    Zimbabwe  ...  120          2     Zimbabwe_\n",
              "12641       12642                    Zimbabwe  ...  121          3     Zimbabwe_\n",
              "\n",
              "[12642 rows x 20 columns]"
            ]
          },
          "metadata": {
            "tags": []
          },
          "execution_count": 41
        }
      ]
    },
    {
      "cell_type": "code",
      "metadata": {
        "id": "uevJYjBTS9N-",
        "colab_type": "code",
        "colab": {}
      },
      "source": [
        "#X_train.describe()"
      ],
      "execution_count": 0,
      "outputs": []
    },
    {
      "cell_type": "markdown",
      "metadata": {
        "id": "IblrTvsMSZi_",
        "colab_type": "text"
      },
      "source": [
        "**Correlation between attributes**"
      ]
    },
    {
      "cell_type": "code",
      "metadata": {
        "id": "WPf9i2eqheYP",
        "colab_type": "code",
        "colab": {
          "base_uri": "https://localhost:8080/",
          "height": 642
        },
        "outputId": "98ced29b-1226-441f-aff3-f6a2781352f9"
      },
      "source": [
        "plt.figure(figsize = (10,10))\n",
        "corr = X_train.corr()\n",
        "sns.heatmap(corr , mask=np.zeros_like(corr, dtype=np.bool) , cmap=sns.diverging_palette(-100,0,as_cmap=True) , square = True)"
      ],
      "execution_count": 42,
      "outputs": [
        {
          "output_type": "execute_result",
          "data": {
            "text/plain": [
              "<matplotlib.axes._subplots.AxesSubplot at 0x7f6ffae7f438>"
            ]
          },
          "metadata": {
            "tags": []
          },
          "execution_count": 42
        },
        {
          "output_type": "display_data",
          "data": {
            "image/png": "[encoded data removed]",
            "text/plain": [
              "<Figure size 720x720 with 2 Axes>"
            ]
          },
          "metadata": {
            "tags": [],
            "needs_background": "light"
          }
        }
      ]
    },
    {
      "cell_type": "code",
      "metadata": {
        "id": "TZYYEpkbiIMI",
        "colab_type": "code",
        "colab": {
          "base_uri": "https://localhost:8080/",
          "height": 692
        },
        "outputId": "738aecab-1d12-4251-b08d-8d8f0d7c47a8"
      },
      "source": [
        "# ConfirmedCases correlation matrix \n",
        "# k : number of variables for heatmap \n",
        "k = 50\n",
        "  \n",
        "cols = corrmat.nlargest(k, 'ConfirmedCases')['ConfirmedCases'].index \n",
        "  \n",
        "cm = np.corrcoef(X_train[cols].values.T) \n",
        "f, ax = plt.subplots(figsize =(10, 10)) \n",
        "  \n",
        "sns.heatmap(cm, ax = ax, cmap =sns.diverging_palette(-100,0,as_cmap=True), \n",
        "            linewidths = 0.1, yticklabels = cols.values,  \n",
        "                              xticklabels = cols.values) "
      ],
      "execution_count": 142,
      "outputs": [
        {
          "output_type": "execute_result",
          "data": {
            "text/plain": [
              "<matplotlib.axes._subplots.AxesSubplot at 0x7f2390bc5c88>"
            ]
          },
          "metadata": {
            "tags": []
          },
          "execution_count": 142
        },
        {
          "output_type": "display_data",
          "data": {
            "image/png": "[encoded data removed]",
            "text/plain": [
              "<Figure size 720x720 with 2 Axes>"
            ]
          },
          "metadata": {
            "tags": [],
            "needs_background": "light"
          }
        }
      ]
    },
    {
      "cell_type": "code",
      "metadata": {
        "id": "wYxVbQv4jGmD",
        "colab_type": "code",
        "colab": {
          "base_uri": "https://localhost:8080/",
          "height": 692
        },
        "outputId": "472e6fb5-9402-4761-f52e-aace074f1008"
      },
      "source": [
        "#Fatlities correlation matrix\n",
        "k = 50\n",
        "  \n",
        "cols = corrmat.nlargest(k, 'Fatalities')['Fatalities'].index \n",
        "  \n",
        "cm = np.corrcoef(X_train[cols].values.T) \n",
        "f, ax = plt.subplots(figsize =(10, 10)) \n",
        "  \n",
        "sns.heatmap(cm, ax = ax, cmap =sns.diverging_palette(-100,0,as_cmap=True), \n",
        "            linewidths = 0.1, yticklabels = cols.values,  \n",
        "                              xticklabels = cols.values) "
      ],
      "execution_count": 141,
      "outputs": [
        {
          "output_type": "execute_result",
          "data": {
            "text/plain": [
              "<matplotlib.axes._subplots.AxesSubplot at 0x7f2390ce1908>"
            ]
          },
          "metadata": {
            "tags": []
          },
          "execution_count": 141
        },
        {
          "output_type": "display_data",
          "data": {
            "image/png": "[encoded data removed]",
            "text/plain": [
              "<Figure size 720x720 with 2 Axes>"
            ]
          },
          "metadata": {
            "tags": [],
            "needs_background": "light"
          }
        }
      ]
    },
    {
      "cell_type": "code",
      "metadata": {
        "id": "88oJ9t0NkRsf",
        "colab_type": "code",
        "colab": {
          "base_uri": "https://localhost:8080/",
          "height": 745
        },
        "outputId": "4d3ce6ac-608b-4b57-80df-ede280de0455"
      },
      "source": [
        "corr_matrix = X_train.corr()\n",
        "print(corr_matrix['ConfirmedCases'].sort_values(),'\\n' '\\n',corr_matrix['Fatalities'].sort_values())"
      ],
      "execution_count": 43,
      "outputs": [
        {
          "output_type": "stream",
          "text": [
            "Migrants (net)      -0.075263\n",
            "Id                  -0.059069\n",
            "Yearly Change       -0.044777\n",
            "Fert. Rate          -0.042444\n",
            "Urban Pop %         -0.013675\n",
            "Density (P/Km²)     -0.003961\n",
            "dayofweek           -0.003404\n",
            "Med. Age             0.045943\n",
            "month                0.048047\n",
            "Date                 0.050580\n",
            "week                 0.054186\n",
            "day                  0.054460\n",
            "Land Area (Km²)      0.070278\n",
            "Net Change           0.127567\n",
            "World Share          0.152650\n",
            "Population (2020)    0.152664\n",
            "Fatalities           0.973960\n",
            "ConfirmedCases       1.000000\n",
            "year                      NaN\n",
            "Name: ConfirmedCases, dtype: float64 \n",
            "\n",
            " Migrants (net)      -0.060061\n",
            "Id                  -0.046956\n",
            "Yearly Change       -0.036597\n",
            "Fert. Rate          -0.033505\n",
            "Urban Pop %         -0.011948\n",
            "dayofweek           -0.003985\n",
            "Density (P/Km²)     -0.003896\n",
            "Med. Age             0.036326\n",
            "month                0.044137\n",
            "Date                 0.046743\n",
            "week                 0.050772\n",
            "day                  0.050933\n",
            "Land Area (Km²)      0.055380\n",
            "Net Change           0.100785\n",
            "World Share          0.120873\n",
            "Population (2020)    0.120881\n",
            "ConfirmedCases       0.973960\n",
            "Fatalities           1.000000\n",
            "year                      NaN\n",
            "Name: Fatalities, dtype: float64\n"
          ],
          "name": "stdout"
        }
      ]
    },
    {
      "cell_type": "markdown",
      "metadata": {
        "id": "iFXo0L5lmDfv",
        "colab_type": "text"
      },
      "source": [
        "**Comparing Correlation to ConfirmedCases and Fatalities**\n",
        "\n",
        "* Number of **Cases** and **Fatalities** are strongly correlated\n",
        "* **Cases** have small positive correlation with *Population size, world share contribution, net change of population*\n",
        "* **Fatalities** have small positive correlation with *Population size, World share contribution, net change of population size*\n",
        "\n",
        "* Least correlated dayofweek and Density\n"
      ]
    },
    {
      "cell_type": "markdown",
      "metadata": {
        "id": "OXA0qViBoNyh",
        "colab_type": "text"
      },
      "source": [
        "**Prepare Input Data**\n",
        "\n"
      ]
    },
    {
      "cell_type": "code",
      "metadata": {
        "id": "fzFbOiPgVPv3",
        "colab_type": "code",
        "colab": {
          "base_uri": "https://localhost:8080/",
          "height": 532
        },
        "outputId": "9fa1b50a-f766-4365-d339-97669013a54d"
      },
      "source": [
        "#Input with One-Hot-Encoder and StandardScaler\n",
        "target = X_train.iloc[:, 4:6]\n",
        "print(X_train.shape, target.shape)\n",
        "\n",
        "features_drop = ['ConfirmedCases', 'Province_State','Fatalities', 'Id', 'Density (P/Km²)', 'dayofweek']\n",
        "X = X_train.drop(features_drop, axis=1)\n",
        "Y= X_test.drop(['ForecastId', 'Province_State', 'Density (P/Km²)', 'dayofweek'], axis = 1)\n",
        "print (X, '\\n', Y)"
      ],
      "execution_count": 44,
      "outputs": [
        {
          "output_type": "stream",
          "text": [
            "(16758, 22) (16758, 2)\n",
            "           Country  Date  Population (2020)  ...  week  day           geo\n",
            "0      Afghanistan   122           38742911  ...     4   22  Afghanistan_\n",
            "1      Afghanistan   123           38742911  ...     4   23  Afghanistan_\n",
            "2      Afghanistan   124           38742911  ...     4   24  Afghanistan_\n",
            "3      Afghanistan   125           38742911  ...     4   25  Afghanistan_\n",
            "4      Afghanistan   126           38742911  ...     4   26  Afghanistan_\n",
            "...            ...   ...                ...  ...   ...  ...           ...\n",
            "20562     Zimbabwe   314           14818157  ...    11   74     Zimbabwe_\n",
            "20563     Zimbabwe   315           14818157  ...    11   75     Zimbabwe_\n",
            "20564     Zimbabwe   316           14818157  ...    12   76     Zimbabwe_\n",
            "20565     Zimbabwe   317           14818157  ...    12   77     Zimbabwe_\n",
            "20566     Zimbabwe   318           14818157  ...    12   78     Zimbabwe_\n",
            "\n",
            "[16758 rows x 16 columns] \n",
            "            Country  Date  Population (2020)  ...  week  day           geo\n",
            "0      Afghanistan   319           38742911  ...    12   79  Afghanistan_\n",
            "1      Afghanistan   320           38742911  ...    12   80  Afghanistan_\n",
            "2      Afghanistan   321           38742911  ...    12   81  Afghanistan_\n",
            "3      Afghanistan   322           38742911  ...    12   82  Afghanistan_\n",
            "4      Afghanistan   323           38742911  ...    13   83  Afghanistan_\n",
            "...            ...   ...                ...  ...   ...  ...           ...\n",
            "12637     Zimbabwe   426           14818157  ...    17  117     Zimbabwe_\n",
            "12638     Zimbabwe   427           14818157  ...    18  118     Zimbabwe_\n",
            "12639     Zimbabwe   428           14818157  ...    18  119     Zimbabwe_\n",
            "12640     Zimbabwe   429           14818157  ...    18  120     Zimbabwe_\n",
            "12641     Zimbabwe   430           14818157  ...    18  121     Zimbabwe_\n",
            "\n",
            "[12642 rows x 16 columns]\n"
          ],
          "name": "stdout"
        }
      ]
    },
    {
      "cell_type": "code",
      "metadata": {
        "id": "ZhaRAUPdoMVf",
        "colab_type": "code",
        "colab": {}
      },
      "source": [
        "#Input with label endoding and MinMaxScaler\n",
        "y_cases = X_train['ConfirmedCases']\n",
        "y_fatalities = X_train['Fatalities']\n",
        "\n",
        "features_drop = ['ConfirmedCases', 'Province_State','Fatalities', 'Id', 'Density (P/Km²)', 'dayofweek']\n",
        "X_train_full = X_train.drop(features_drop, axis=1)\n",
        "\n",
        "forecastId = X_test['ForecastId']\n",
        "X_test_full = X_test.drop(['ForecastId', 'Province_State', 'Density (P/Km²)', 'dayofweek'], axis=1)"
      ],
      "execution_count": 0,
      "outputs": []
    },
    {
      "cell_type": "markdown",
      "metadata": {
        "id": "S3udHMie6dwF",
        "colab_type": "text"
      },
      "source": [
        "**Categrocial Encoding**"
      ]
    },
    {
      "cell_type": "code",
      "metadata": {
        "id": "KCc_xTm36cn1",
        "colab_type": "code",
        "colab": {
          "base_uri": "https://localhost:8080/",
          "height": 301
        },
        "outputId": "2c1d087f-914a-4129-ea85-90b2d1e0dda2"
      },
      "source": [
        "label_encoding = preprocessing.LabelEncoder()\n",
        "\n",
        "X_train_full.Country = label_encoding.fit_transform(X_train_full.Country)\n",
        "X_train_full.geo = label_encoding.fit_transform(X_train_full.geo)\n",
        "X_test_full.Country = label_encoding.fit_transform(X_test_full.Country)\n",
        "X_test_full.geo = label_encoding.fit_transform(X_test_full.geo)\n",
        "\n",
        "print(X_train_full.head(), '\\n', X_test_full.head())"
      ],
      "execution_count": 47,
      "outputs": [
        {
          "output_type": "stream",
          "text": [
            "   Country  Date  Population (2020)  Yearly Change  ...  month  week  day  geo\n",
            "0        0   122           38742911           2.33  ...      1     4   22    0\n",
            "1        0   123           38742911           2.33  ...      1     4   23    0\n",
            "2        0   124           38742911           2.33  ...      1     4   24    0\n",
            "3        0   125           38742911           2.33  ...      1     4   25    0\n",
            "4        0   126           38742911           2.33  ...      1     4   26    0\n",
            "\n",
            "[5 rows x 16 columns] \n",
            "    Country  Date  Population (2020)  Yearly Change  ...  month  week  day  geo\n",
            "0        0   319           38742911           2.33  ...      3    12   79    0\n",
            "1        0   320           38742911           2.33  ...      3    12   80    0\n",
            "2        0   321           38742911           2.33  ...      3    12   81    0\n",
            "3        0   322           38742911           2.33  ...      3    12   82    0\n",
            "4        0   323           38742911           2.33  ...      3    13   83    0\n",
            "\n",
            "[5 rows x 16 columns]\n"
          ],
          "name": "stdout"
        }
      ]
    },
    {
      "cell_type": "markdown",
      "metadata": {
        "id": "IcqkC7fgVQ4U",
        "colab_type": "text"
      },
      "source": [
        "**Data Scaling**: Handling disparities in units!<br>\n",
        "https://medium.com/@stallonejacob/data-science-scaling-of-data-in-python-ec7ad220b339\n",
        "\n",
        "*MinMax Scaler*: scales and translates each feature individually such that it is in the given range on the training set, e.g. between zero and one."
      ]
    },
    {
      "cell_type": "code",
      "metadata": {
        "id": "ZJ3ZzTl67cfO",
        "colab_type": "code",
        "colab": {
          "base_uri": "https://localhost:8080/",
          "height": 52
        },
        "outputId": "0c9c8fef-b1b7-4249-a0d5-03095ff82d5f"
      },
      "source": [
        "scaler = MinMaxScaler()\n",
        "X_train_full = scaler.fit_transform(X_train_full.values)\n",
        "X_test_full = scaler.transform(X_test_full.values)\n",
        "\n",
        "# scaler = StandardScaler()\n",
        "# X_train = scaler.fit_transform(X_train.values)\n",
        "# X_test = scaler.transform(X_test.values)\n",
        "print (X_train_full.mean(), X_train_full.std(), '\\n', X_test_full.mean(), X_test_full.std())"
      ],
      "execution_count": 50,
      "outputs": [
        {
          "output_type": "stream",
          "text": [
            "0.3745159677805236 0.3217915268487367 \n",
            " 0.5854152180865211 0.5365351528137888\n"
          ],
          "name": "stdout"
        }
      ]
    },
    {
      "cell_type": "code",
      "metadata": {
        "id": "8tTLAGoZe1Dk",
        "colab_type": "code",
        "colab": {
          "base_uri": "https://localhost:8080/",
          "height": 52
        },
        "outputId": "6ad177bf-74b5-4de6-bb80-3f9634a61c5e"
      },
      "source": [
        "# # scaler = StandardScaler()\n",
        "# # X_train_full = scaler.fit_transform(X_train_full.values)\n",
        "# # X_test_full = scaler.transform(X_test_full.values)\n",
        "# print (X_train_full.mean(), X_train_full.std(), '\\n', X_test_full.mean(), X_test_full.std())"
      ],
      "execution_count": 153,
      "outputs": [
        {
          "output_type": "stream",
          "text": [
            "-3.015126114800653e-17 0.9718253158075499 \n",
            " 0.6009100935591666 1.4561004277748089\n"
          ],
          "name": "stdout"
        }
      ]
    },
    {
      "cell_type": "markdown",
      "metadata": {
        "id": "vn3SXjhO8Y7j",
        "colab_type": "text"
      },
      "source": [
        "**Train and validation set**"
      ]
    },
    {
      "cell_type": "code",
      "metadata": {
        "id": "27GEFqI6rL1n",
        "colab_type": "code",
        "colab": {}
      },
      "source": [
        "xtrain, xtest, ytrain, ytest = train_test_split(X_train_full, target, test_size = 0.2, random_state = 0)"
      ],
      "execution_count": 0,
      "outputs": []
    },
    {
      "cell_type": "markdown",
      "metadata": {
        "id": "_-sUoreifGS1",
        "colab_type": "text"
      },
      "source": [
        "## Decision Tree Regressor\n",
        "\n",
        "The decision trees is used to predict simultaneously the noisy x and y observations of a circle given a single underlying feature. As a result, it learns local linear regressions approximating the circle.\n",
        "\n",
        "We can see that if the maximum depth of the tree (controlled by the max_depth parameter) is set too high, the decision trees learn too fine details of the training data and learn from the noise, i.e. they overfit.\n"
      ]
    },
    {
      "cell_type": "code",
      "metadata": {
        "id": "PS0DUcA4rZfW",
        "colab_type": "code",
        "colab": {
          "base_uri": "https://localhost:8080/",
          "height": 87
        },
        "outputId": "149681f0-6d9a-44dc-8e22-1671957155a8"
      },
      "source": [
        "# # Fit regression model : MODEL USING STANDARDSCALER INSTEAD OF MINMAX SCALER \n",
        "# tree_1 = DecisionTreeRegressor(max_depth=2)\n",
        "# tree_2 = DecisionTreeRegressor(max_depth=10)\n",
        "# tree_3 = DecisionTreeRegressor(max_depth=20)\n",
        "# tree_1.fit(xtrain, ytrain)\n",
        "# tree_2.fit(xtrain, ytrain)\n",
        "# tree_3.fit(xtrain, ytrain)\n",
        "\n",
        "# # Predict\n",
        "# y_1 = tree_1.predict(xtest)\n",
        "# y_2 = tree_2.predict(xtest)\n",
        "# y_3 = tree_3.predict(xtest)\n",
        "\n",
        "# mse_1 = mean_squared_error(ytest, y_1)\n",
        "# mse_2 = mean_squared_error(ytest, y_2)\n",
        "# mse_3 = mean_squared_error(ytest, y_3)\n",
        "# rmse1 = np.sqrt(mse_1)\n",
        "# rmse2 = np.sqrt(mse_2)\n",
        "# rmse3 = np.sqrt(mse_3)\n",
        "# rmsle1 = np.sqrt(mean_squared_log_error( ytest, y_1 ))\n",
        "# rmsle2 = np.sqrt(mean_squared_log_error( ytest, y_2 ))\n",
        "# rmsle3 = np.sqrt(mean_squared_log_error( ytest, y_3 ))\n",
        "\n",
        "# # The coefficients\n",
        "# #print('Coefficients: \\n', tree_1.coef_, tree_2.coef_, tree_3.coef_)\n",
        "# # The mean squared error\n",
        "# print(\"Mean squared error: %.2f\" % mse_1, mse_2, mse_3)\n",
        "# # Root Mean Squared Error\n",
        "# print(\"Root Mean Squared Error: \", rmse1, rmse2, rmse3)\n",
        "# #Root Mean Saure Log Error\n",
        "# print(\"RMSLE: \", rmsle1, rmsle2, rmsle3)\n",
        "# # Explained variance score: 1 is perfect prediction\n",
        "# print('Variance score:', r2_score(ytest, y_1),\n",
        "#       r2_score(ytest, y_2),\n",
        "#       r2_score(ytest, y_3))"
      ],
      "execution_count": 179,
      "outputs": [
        {
          "output_type": "stream",
          "text": [
            "Mean squared error: 5394357.68 33781.04000946297 21729.636653336038\n",
            "Root Mean Squared Error:  2322.5756574939583 183.7961914987984 147.40975765985112\n",
            "RMSLE:  2.325332349518997 0.6382759382676386 0.30423528786636866\n",
            "Variance score: 0.05269693173272533 0.9916931200946189 0.9926298496951558\n"
          ],
          "name": "stdout"
        }
      ]
    },
    {
      "cell_type": "code",
      "metadata": {
        "id": "ds5rR1t08oUT",
        "colab_type": "code",
        "colab": {
          "base_uri": "https://localhost:8080/",
          "height": 87
        },
        "outputId": "c18a5e09-5834-4a0d-c706-9deadf3d5335"
      },
      "source": [
        "# Fit regression model\n",
        "tree_1 = DecisionTreeRegressor(max_depth=2)\n",
        "tree_2 = DecisionTreeRegressor(max_depth=10)\n",
        "tree_3 = DecisionTreeRegressor(max_depth=20)\n",
        "tree_1.fit(xtrain, ytrain)\n",
        "tree_2.fit(xtrain, ytrain)\n",
        "tree_3.fit(xtrain, ytrain)\n",
        "\n",
        "# Predict\n",
        "y_1 = tree_1.predict(xtest)\n",
        "y_2 = tree_2.predict(xtest)\n",
        "y_3 = tree_3.predict(xtest)\n",
        "\n",
        "mse_1 = mean_squared_error(ytest, y_1)\n",
        "mse_2 = mean_squared_error(ytest, y_2)\n",
        "mse_3 = mean_squared_error(ytest, y_3)\n",
        "rmse1 = np.sqrt(mse_1)\n",
        "rmse2 = np.sqrt(mse_2)\n",
        "rmse3 = np.sqrt(mse_3)\n",
        "rmsle1 = np.sqrt(mean_squared_log_error( ytest, y_1 ))\n",
        "rmsle2 = np.sqrt(mean_squared_log_error( ytest, y_2 ))\n",
        "rmsle3 = np.sqrt(mean_squared_log_error( ytest, y_3 ))\n",
        "\n",
        "# The coefficients\n",
        "#print('Coefficients: \\n', tree_1.coef_, tree_2.coef_, tree_3.coef_)\n",
        "# The mean squared error\n",
        "print(\"Mean squared error: %.2f\" % mse_1, mse_2, mse_3)\n",
        "# Root Mean Squared Error\n",
        "print(\"Root Mean Squared Error: \", rmse1, rmse2, rmse3)\n",
        "#Root Mean Saure Log Error\n",
        "print(\"RMSLE: \", rmsle1, rmsle2, rmsle3)\n",
        "# Explained variance score: 1 is perfect prediction\n",
        "print('Variance score:', r2_score(ytest, y_1),\n",
        "      r2_score(ytest, y_2),\n",
        "      r2_score(ytest, y_3))"
      ],
      "execution_count": 54,
      "outputs": [
        {
          "output_type": "stream",
          "text": [
            "Mean squared error: 4980938.41 12483.09172811224 9480.693042909581\n",
            "Root Mean Squared Error:  2231.8016053040014 111.727757196286 97.36885047544507\n",
            "RMSLE:  2.539611426270808 0.7864281104560578 0.3550370144204417\n",
            "Variance score: 0.06103050416344952 0.9976441420884643 0.9980039449220998\n"
          ],
          "name": "stdout"
        }
      ]
    },
    {
      "cell_type": "code",
      "metadata": {
        "id": "fwHVhfEzvbOG",
        "colab_type": "code",
        "colab": {
          "base_uri": "https://localhost:8080/",
          "height": 34
        },
        "outputId": "4a4e8b06-f9aa-46b3-8a48-b1051c49dba3"
      },
      "source": [
        "tree_4 = DecisionTreeRegressor(max_depth=100)\n",
        "tree_4.fit(xtrain, ytrain)\n",
        "y_4 = tree_4.predict(xtest)\n",
        "mse_4 = mean_squared_error(ytest, y_4)\n",
        "rmse4 = np.sqrt(mse_4)\n",
        "rmsle4 = np.sqrt(mean_squared_log_error( ytest, y_4 ))\n",
        "\n",
        "print(mse_4, rmse4, rmsle4) #higher max depth reduces error score"
      ],
      "execution_count": 56,
      "outputs": [
        {
          "output_type": "stream",
          "text": [
            "9396.514170644392 96.93561868912991 0.3365344034678863\n"
          ],
          "name": "stdout"
        }
      ]
    },
    {
      "cell_type": "markdown",
      "metadata": {
        "id": "Kh3nMCSYYEUf",
        "colab_type": "text"
      },
      "source": [
        "## Random Forest Regressor\n",
        "\n",
        "Making pipeline\n",
        "* StandardScaler to standardize numericals features.\n",
        "* OneHotEncoder to make dummies in categorical features.\n",
        "* ColumnTransformer to run previus two steps.\n",
        "* The estimator RandomForestRegressor.\n"
      ]
    },
    {
      "cell_type": "code",
      "metadata": {
        "id": "oBMjcgnoWXhs",
        "colab_type": "code",
        "colab": {}
      },
      "source": [
        "xt, xv, yt, yv = train_test_split(X, target, test_size = 0.2, random_state = 0)"
      ],
      "execution_count": 0,
      "outputs": []
    },
    {
      "cell_type": "code",
      "metadata": {
        "id": "T2Ft-ViHX-jr",
        "colab_type": "code",
        "colab": {
          "base_uri": "https://localhost:8080/",
          "height": 125
        },
        "outputId": "ecfc4e50-bc60-43f1-c0cf-bb800feab9d7"
      },
      "source": [
        "Nums = Pipeline( #standardize numerical features\n",
        "    steps = [\n",
        "        ('imputer', SimpleImputer(strategy = 'median')), \n",
        "        ('scaler' , StandardScaler())\n",
        "    ])\n",
        "\n",
        "Cat = Pipeline( #dummies for categorical features\n",
        "    steps = [\n",
        "        ('imputer', SimpleImputer(strategy = 'constant', fill_value = 'missing')), \n",
        "        ('onehot' , OneHotEncoder(handle_unknown = 'ignore'))\n",
        "    ])\n",
        "\n",
        "Transformer = ColumnTransformer( #combine standardscale and onehotencoder\n",
        "    n_jobs = -1\n",
        "    , transformers = [\n",
        "        ('num', Nums, xt.select_dtypes(include = ['int64','float64']).columns)\n",
        "        , ('cat', Cat, xt.select_dtypes(include = ['object']).columns)\n",
        "    ])\n",
        "\n",
        "Model = Pipeline(\n",
        "    steps = [\n",
        "        ('Prepo', Transformer)\n",
        "        , ('Clf', RandomForestRegressor(n_jobs = -1\n",
        "                                        , random_state = 42)) \n",
        "    ])\n",
        "\n",
        "Model.fit(xt, yt)\n",
        "\n",
        "Model.score(xt, yt)\n",
        "\n",
        "#Future Warning: sklearn.metrics.r2_score - R^2 (coefficient of determination) regression score function.\n",
        "#Best possible score is 1.0 and it can be negative (because the model can be arbitrarily worse). A constant model that always predicts the expected value of y, disregarding the input features, would get a R^2 score of 0.0.\n",
        "#from sklearn.metrics import r2_score\n",
        "#r2_score[y_true, y_pred]"
      ],
      "execution_count": 58,
      "outputs": [
        {
          "output_type": "stream",
          "text": [
            "/usr/local/lib/python3.6/dist-packages/sklearn/base.py:434: FutureWarning:\n",
            "\n",
            "The default value of multioutput (not exposed in score method) will change from 'variance_weighted' to 'uniform_average' in 0.23 to keep consistent with 'metrics.r2_score'. To specify the default value manually and avoid the warning, please either call 'metrics.r2_score' directly or make a custom scorer with 'metrics.make_scorer' (the built-in scorer 'r2' uses multioutput='uniform_average').\n",
            "\n"
          ],
          "name": "stderr"
        },
        {
          "output_type": "execute_result",
          "data": {
            "text/plain": [
              "0.9996292714988755"
            ]
          },
          "metadata": {
            "tags": []
          },
          "execution_count": 58
        }
      ]
    },
    {
      "cell_type": "code",
      "metadata": {
        "id": "mbs7mgFsYXLs",
        "colab_type": "code",
        "colab": {
          "base_uri": "https://localhost:8080/",
          "height": 52
        },
        "outputId": "94543af9-8d6e-466f-8e8f-0c975d9114b7"
      },
      "source": [
        "y_pred  = Model.predict(xv)\n",
        "\n",
        "# The coefficients\n",
        "# print('Coefficients: \\n', Model.coef_)\n",
        "# The mean squared error\n",
        "print(\"Mean squared error: %.2f\"\n",
        "      % mean_squared_error(yv, y_pred))\n",
        "# Explained variance score: 1 is perfect prediction\n",
        "print('Variance score: %.2f' % r2_score(yv, y_pred))"
      ],
      "execution_count": 59,
      "outputs": [
        {
          "output_type": "stream",
          "text": [
            "Mean squared error: 4657.06\n",
            "Variance score: 1.00\n"
          ],
          "name": "stdout"
        }
      ]
    },
    {
      "cell_type": "code",
      "metadata": {
        "id": "lgU7h58ad0Hb",
        "colab_type": "code",
        "colab": {
          "base_uri": "https://localhost:8080/",
          "height": 52
        },
        "outputId": "f1da03ec-bfd0-4df0-aba2-1134e212dbbe"
      },
      "source": [
        "rf_mse = mean_squared_error(yv, y_pred)\n",
        "rf_rmse = np.sqrt(rf_mse)\n",
        "rf_rmsle = np.sqrt(mean_squared_log_error( yv, y_pred ))\n",
        "\n",
        "print('RMSE', rf_rmse, '\\n', 'RMSLE', rf_rmsle)"
      ],
      "execution_count": 60,
      "outputs": [
        {
          "output_type": "stream",
          "text": [
            "RMSE 68.24267590086365 \n",
            " RMSLE 0.19930721842626192\n"
          ],
          "name": "stdout"
        }
      ]
    },
    {
      "cell_type": "markdown",
      "metadata": {
        "id": "-Xrmzf-7yw24",
        "colab_type": "text"
      },
      "source": [
        "**Second attempt**"
      ]
    },
    {
      "cell_type": "code",
      "metadata": {
        "id": "bYBGATc1-KC7",
        "colab_type": "code",
        "colab": {
          "base_uri": "https://localhost:8080/",
          "height": 87
        },
        "outputId": "01bf302d-2f41-4b6d-fe43-4bab9abb90df"
      },
      "source": [
        "###MIN MAX SCALER###\n",
        "max_depth = 30\n",
        "regr_multirf = MultiOutputRegressor(RandomForestRegressor(n_estimators=100,\n",
        "                                                          max_depth=max_depth,\n",
        "                                                          random_state=0))\n",
        "\n",
        "regr_multirf.fit(xtrain, ytrain)\n",
        "\n",
        "regr_rf = RandomForestRegressor(n_estimators=100, max_depth=max_depth,\n",
        "                                random_state=2)\n",
        "regr_rf.fit(xtrain, ytrain)\n",
        "\n",
        "# Predict on new data\n",
        "y_multirf = regr_multirf.predict(xtest)\n",
        "y_rf = regr_rf.predict(xtest)\n",
        "\n",
        "mse1_multi = mean_squared_error(ytest, y_multirf)\n",
        "mse2_rf = mean_squared_error(ytest, y_rf)\n",
        "rmse1_multi = np.sqrt(mse1_multi)\n",
        "rmse2_rf = np.sqrt(mse2_rf)\n",
        "rmsle1_multi = np.sqrt(mean_squared_log_error( ytest, y_multirf ))\n",
        "rmsle2_rf = np.sqrt(mean_squared_log_error( ytest, y_rf ))\n",
        "\n",
        "# The mean squared error\n",
        "print(\"Mean squared error: %.2f\" % mse1_multi, mse2_rf)\n",
        "# Root Mean Squared Error\n",
        "print(\"Root Mean Squared Error: \", rmse1_multi, rmse2_rf)\n",
        "#Root Mean Saure Log Error\n",
        "print(\"RMSLE: \", rmsle1_multi, rmsle2_rf)\n",
        "# Explained variance score: 1 is perfect prediction\n",
        "print('Variance score:', r2_score(ytest, y_multirf),\n",
        "      r2_score(ytest, y_rf))"
      ],
      "execution_count": 61,
      "outputs": [
        {
          "output_type": "stream",
          "text": [
            "Mean squared error: 19915.61 19297.00910712839\n",
            "Root Mean Squared Error:  141.12268521024836 138.91367501843865\n",
            "RMSLE:  0.40998693309349576 0.40699283201269826\n",
            "Variance score: 0.9868765333197869 0.9930686988159676\n"
          ],
          "name": "stdout"
        }
      ]
    },
    {
      "cell_type": "code",
      "metadata": {
        "id": "NCF59dh4yQjK",
        "colab_type": "code",
        "colab": {
          "base_uri": "https://localhost:8080/",
          "height": 87
        },
        "outputId": "4ed713c3-1485-43cd-da40-e355fb3311f0"
      },
      "source": [
        "####STANDARD SCALER###\n",
        "# max_depth = 30\n",
        "# regr_multirf = MultiOutputRegressor(RandomForestRegressor(n_estimators=100,\n",
        "#                                                           max_depth=max_depth,\n",
        "#                                                           random_state=0))\n",
        "\n",
        "# regr_multirf.fit(xtrain, ytrain)\n",
        "\n",
        "# regr_rf = RandomForestRegressor(n_estimators=100, max_depth=max_depth,\n",
        "#                                 random_state=2)\n",
        "# regr_rf.fit(xtrain, ytrain)\n",
        "\n",
        "# # Predict on new data\n",
        "# y_multirf = regr_multirf.predict(xtest)\n",
        "# y_rf = regr_rf.predict(xtest)\n",
        "\n",
        "# mse1_multi = mean_squared_error(ytest, y_multirf)\n",
        "# mse2_rf = mean_squared_error(ytest, y_rf)\n",
        "# rmse1_multi = np.sqrt(mse1_multi)\n",
        "# rmse2_rf = np.sqrt(mse2_rf)\n",
        "# rmsle1_multi = np.sqrt(mean_squared_log_error( ytest, y_multirf ))\n",
        "# rmsle2_rf = np.sqrt(mean_squared_log_error( ytest, y_rf ))\n",
        "\n",
        "# # The mean squared error\n",
        "# print(\"Mean squared error: %.2f\" % mse1_multi, mse2_rf)\n",
        "# # Root Mean Squared Error\n",
        "# print(\"Root Mean Squared Error: \", rmse1_multi, rmse2_rf)\n",
        "# #Root Mean Saure Log Error\n",
        "# print(\"RMSLE: \", rmsle1_multi, rmsle2_rf)\n",
        "# # Explained variance score: 1 is perfect prediction\n",
        "# print('Variance score:', r2_score(ytest, y_multirf),\n",
        "#       r2_score(ytest, y_rf))"
      ],
      "execution_count": 184,
      "outputs": [
        {
          "output_type": "stream",
          "text": [
            "Mean squared error: 28408.64 31507.70882318546\n",
            "Root Mean Squared Error:  168.5486309484313 177.5041093135183\n",
            "RMSLE:  0.4099794139425258 0.417136315594266\n",
            "Variance score: 0.988961278361373 0.9894564955999965\n"
          ],
          "name": "stdout"
        }
      ]
    },
    {
      "cell_type": "markdown",
      "metadata": {
        "id": "KbATsUGR0yxi",
        "colab_type": "text"
      },
      "source": [
        "### Linear Regression"
      ]
    },
    {
      "cell_type": "code",
      "metadata": {
        "id": "O1RhfPAT0xog",
        "colab_type": "code",
        "colab": {
          "base_uri": "https://localhost:8080/",
          "height": 34
        },
        "outputId": "203d8fce-9a94-406a-fd91-d03aa36a24aa"
      },
      "source": [
        "lin_reg = LinearRegression()\n",
        "\n",
        "lin_reg.fit(xtrain, ytrain)\n",
        "\n",
        "y_pred = lin_reg.predict(xtest)\n",
        "lin_mse = mean_squared_error(ytest, y_pred)\n",
        "lin_rmse = np.sqrt(lin_mse)\n",
        "#lin_rmsle= np.sqrt(mean_squared_log_error( ytest, y_pred )) #negative predictions - set predictions to 0?\n",
        "lin_r2_score = r2_score(ytest, y_pred)\n",
        "\n",
        "print(lin_mse, lin_rmse, lin_r2_score) #neg predictions - rmsle doens't work (could set neg predictions to 0, but lin_reg performs worst so far)"
      ],
      "execution_count": 62,
      "outputs": [
        {
          "output_type": "stream",
          "text": [
            "5162720.668580555 2272.16211318219 0.028039500338433332\n"
          ],
          "name": "stdout"
        }
      ]
    },
    {
      "cell_type": "markdown",
      "metadata": {
        "id": "IU5Tiz8H2bTa",
        "colab_type": "text"
      },
      "source": [
        "## Neural Network\n",
        "\n"
      ]
    },
    {
      "cell_type": "markdown",
      "metadata": {
        "id": "ijyO7v6l2bPm",
        "colab_type": "text"
      },
      "source": [
        "**Multi-output Regression with Keras Sequential Model** <br>\n",
        "\n",
        " Multi-output regression data contains more than one output value for a given input data. We can easily fit and predict this type of regression data with Keras neural networks API\n",
        " <br> https://www.datatechnotes.com/2019/12/multi-output-regression-example-with.html"
      ]
    },
    {
      "cell_type": "code",
      "metadata": {
        "id": "Js0X0-CT2WZT",
        "colab_type": "code",
        "colab": {
          "base_uri": "https://localhost:8080/",
          "height": 34
        },
        "outputId": "d8caf9ab-00ce-4137-ea3b-cd779c239cd0"
      },
      "source": [
        "#data prep\n",
        "\n",
        "print(\"input shape:\", xtrain.shape, \"output shape:\", ytrain.shape)\n",
        "in_shape = xtrain.shape[1]\n",
        "out_shape = ytrain.shape[1]"
      ],
      "execution_count": 64,
      "outputs": [
        {
          "output_type": "stream",
          "text": [
            "input shape: (13406, 16) output shape: (13406, 2)\n"
          ],
          "name": "stdout"
        }
      ]
    },
    {
      "cell_type": "code",
      "metadata": {
        "id": "qpISSsIu4jzN",
        "colab_type": "code",
        "colab": {
          "base_uri": "https://localhost:8080/",
          "height": 34
        },
        "outputId": "0f8f0bb0-de33-4993-a34b-84158b8ee515"
      },
      "source": [
        "#define Model\n",
        "from keras.models import Sequential\n",
        "from keras.layers import Dense\n",
        "from numpy.random import uniform\n",
        "from numpy import hstack\n",
        "model = Sequential()\n",
        "model.add(Dense(100, input_dim=in_shape, activation=\"relu\"))\n",
        "model.add(Dense(32, activation=\"relu\"))\n",
        "model.add(Dense(out_shape))\n",
        "model.compile(loss=\"mse\", optimizer=\"adam\")"
      ],
      "execution_count": 65,
      "outputs": [
        {
          "output_type": "stream",
          "text": [
            "Using TensorFlow backend.\n"
          ],
          "name": "stderr"
        }
      ]
    },
    {
      "cell_type": "code",
      "metadata": {
        "id": "mmm-6sxO5VMF",
        "colab_type": "code",
        "colab": {
          "base_uri": "https://localhost:8080/",
          "height": 265
        },
        "outputId": "6e68db80-a553-46bf-ca7d-bda8ce9a6a9c"
      },
      "source": [
        "model.summary()"
      ],
      "execution_count": 66,
      "outputs": [
        {
          "output_type": "stream",
          "text": [
            "Model: \"sequential_1\"\n",
            "_________________________________________________________________\n",
            "Layer (type)                 Output Shape              Param #   \n",
            "=================================================================\n",
            "dense_1 (Dense)              (None, 100)               1700      \n",
            "_________________________________________________________________\n",
            "dense_2 (Dense)              (None, 32)                3232      \n",
            "_________________________________________________________________\n",
            "dense_3 (Dense)              (None, 2)                 66        \n",
            "=================================================================\n",
            "Total params: 4,998\n",
            "Trainable params: 4,998\n",
            "Non-trainable params: 0\n",
            "_________________________________________________________________\n"
          ],
          "name": "stdout"
        }
      ]
    },
    {
      "cell_type": "code",
      "metadata": {
        "id": "SWidfxa85aJW",
        "colab_type": "code",
        "colab": {
          "base_uri": "https://localhost:8080/",
          "height": 34
        },
        "outputId": "76ec9eb1-a3fb-4945-aac5-64bb0254cbce"
      },
      "source": [
        "model.fit(xtrain, ytrain, epochs=100, batch_size=12, verbose=0)"
      ],
      "execution_count": 67,
      "outputs": [
        {
          "output_type": "execute_result",
          "data": {
            "text/plain": [
              "<keras.callbacks.callbacks.History at 0x7f6ff81f6e48>"
            ]
          },
          "metadata": {
            "tags": []
          },
          "execution_count": 67
        }
      ]
    },
    {
      "cell_type": "code",
      "metadata": {
        "id": "23D4B9iH6Apa",
        "colab_type": "code",
        "colab": {}
      },
      "source": [
        "ypred = model.predict(xtest)\n",
        "# print(\"y1 MSE:%.4f\" % mean_squared_error(ytest[:,0], ypred[:,0])) \n",
        "# print(\"y2 MSE:%.4f\" % mean_squared_error(ytest[:,1], ypred[:,1]))"
      ],
      "execution_count": 0,
      "outputs": []
    },
    {
      "cell_type": "code",
      "metadata": {
        "id": "bklw3VIc6Lsa",
        "colab_type": "code",
        "colab": {
          "base_uri": "https://localhost:8080/",
          "height": 34
        },
        "outputId": "db0b5a02-ee8c-4afb-dd7d-23eaf69a2fe6"
      },
      "source": [
        "nn_mse = mean_squared_error(ytest, ypred)\n",
        "nn_rmse = np.sqrt(nn_mse)\n",
        "#nn_rmsle = np.sqrt(mean_squared_log_error( ytest, ypred))\n",
        "\n",
        "print(nn_mse, nn_rmse)"
      ],
      "execution_count": 69,
      "outputs": [
        {
          "output_type": "stream",
          "text": [
            "5121983.522700779 2263.179958090116\n"
          ],
          "name": "stdout"
        }
      ]
    },
    {
      "cell_type": "markdown",
      "metadata": {
        "id": "4z_x2cN6_TsT",
        "colab_type": "text"
      },
      "source": [
        "**Neural Network Multioutput Regression** \n",
        "1. Input Layer\n",
        "2. Hidden Layer (Multiple = Deep Neural network)  \n",
        "3. Output Layers\n",
        "\n",
        "Use of backpropagation training algorithm: Efficient technique for computing gradients of network's error automatically\n",
        "= Finds out how each connection weight and bias term should be altered to reduce error\n"
      ]
    },
    {
      "cell_type": "code",
      "metadata": {
        "id": "OS7Akk1S_1Ku",
        "colab_type": "code",
        "colab": {}
      },
      "source": [
        "#split train set in train, valid, test \n",
        "x_train, x_valid, y_train, y_valid = train_test_split(xtrain, ytrain, test_size = 0.2, random_state = 0)"
      ],
      "execution_count": 0,
      "outputs": []
    },
    {
      "cell_type": "code",
      "metadata": {
        "id": "i2NvZpy-ASGj",
        "colab_type": "code",
        "colab": {}
      },
      "source": [
        "input_ = keras.layers.Input(shape=in_shape)\n",
        "hidden1 = keras.layers.Dense(300, activation=\"relu\")(input_)\n",
        "hidden2 = keras.layers.Dense(100, activation =\"relu\")(hidden1)\n",
        "concat= keras.layers.concatenate([input_, hidden2])\n",
        "output = keras.layers.Dense(1, name=\"main_output\")(concat)\n",
        "aux_output = keras.layers.Dense(1, name=\"aux_output\")(hidden2)\n",
        "MLP_model = keras.Model(inputs=[input_], outputs=[output, aux_output])"
      ],
      "execution_count": 0,
      "outputs": []
    },
    {
      "cell_type": "code",
      "metadata": {
        "id": "Hqyaiol7ASh_",
        "colab_type": "code",
        "colab": {
          "base_uri": "https://localhost:8080/",
          "height": 390
        },
        "outputId": "d9d359de-2ca8-4a1b-a1f8-35279ac53344"
      },
      "source": [
        "MLP_model.summary()"
      ],
      "execution_count": 74,
      "outputs": [
        {
          "output_type": "stream",
          "text": [
            "Model: \"model\"\n",
            "__________________________________________________________________________________________________\n",
            "Layer (type)                    Output Shape         Param #     Connected to                     \n",
            "==================================================================================================\n",
            "input_1 (InputLayer)            [(None, 16)]         0                                            \n",
            "__________________________________________________________________________________________________\n",
            "dense (Dense)                   (None, 300)          5100        input_1[0][0]                    \n",
            "__________________________________________________________________________________________________\n",
            "dense_1 (Dense)                 (None, 100)          30100       dense[0][0]                      \n",
            "__________________________________________________________________________________________________\n",
            "concatenate (Concatenate)       (None, 116)          0           input_1[0][0]                    \n",
            "                                                                 dense_1[0][0]                    \n",
            "__________________________________________________________________________________________________\n",
            "main_output (Dense)             (None, 1)            117         concatenate[0][0]                \n",
            "__________________________________________________________________________________________________\n",
            "aux_output (Dense)              (None, 1)            101         dense_1[0][0]                    \n",
            "==================================================================================================\n",
            "Total params: 35,418\n",
            "Trainable params: 35,418\n",
            "Non-trainable params: 0\n",
            "__________________________________________________________________________________________________\n"
          ],
          "name": "stdout"
        }
      ]
    },
    {
      "cell_type": "code",
      "metadata": {
        "id": "pyZT4f_7ASwP",
        "colab_type": "code",
        "colab": {}
      },
      "source": [
        "MLP_model.compile(loss=[\"mse\", \"mse\"], loss_weights=[0.5, 0.5], optimizer=\"adam\")"
      ],
      "execution_count": 0,
      "outputs": []
    },
    {
      "cell_type": "code",
      "metadata": {
        "id": "gqM1o9bgAknP",
        "colab_type": "code",
        "colab": {
          "base_uri": "https://localhost:8080/",
          "height": 1000
        },
        "outputId": "4641f78a-8230-48ff-80ba-96c33be665d3"
      },
      "source": [
        "MLP_model.fit(x_train, [y_train['ConfirmedCases'], y_train['Fatalities']], epochs=100, validation_data=(x_valid, [y_valid['ConfirmedCases'], y_valid['Fatalities']]))"
      ],
      "execution_count": 76,
      "outputs": [
        {
          "output_type": "stream",
          "text": [
            "Epoch 1/100\n",
            "336/336 [==============================] - 1s 3ms/step - loss: 5575223.0000 - main_output_loss: 11131023.0000 - aux_output_loss: 19421.7754 - val_loss: 1388350.7500 - val_main_output_loss: 2771698.2500 - val_aux_output_loss: 5002.8101\n",
            "Epoch 2/100\n",
            "336/336 [==============================] - 1s 2ms/step - loss: 5478911.0000 - main_output_loss: 10938616.0000 - aux_output_loss: 19203.6230 - val_loss: 1392453.6250 - val_main_output_loss: 2779556.0000 - val_aux_output_loss: 5351.7031\n",
            "Epoch 3/100\n",
            "336/336 [==============================] - 1s 2ms/step - loss: 5420710.5000 - main_output_loss: 10822284.0000 - aux_output_loss: 19134.1875 - val_loss: 1411270.0000 - val_main_output_loss: 2817497.7500 - val_aux_output_loss: 5042.0659\n",
            "Epoch 4/100\n",
            "336/336 [==============================] - 1s 2ms/step - loss: 5402550.5000 - main_output_loss: 10785963.0000 - aux_output_loss: 19137.2695 - val_loss: 1441767.7500 - val_main_output_loss: 2878141.7500 - val_aux_output_loss: 5392.6587\n",
            "Epoch 5/100\n",
            "336/336 [==============================] - 1s 2ms/step - loss: 5394314.5000 - main_output_loss: 10769514.0000 - aux_output_loss: 19118.8672 - val_loss: 1494172.0000 - val_main_output_loss: 2981550.0000 - val_aux_output_loss: 6793.4229\n",
            "Epoch 6/100\n",
            "336/336 [==============================] - 1s 2ms/step - loss: 5388064.0000 - main_output_loss: 10757011.0000 - aux_output_loss: 19117.9922 - val_loss: 1431698.2500 - val_main_output_loss: 2858377.7500 - val_aux_output_loss: 5018.4795\n",
            "Epoch 7/100\n",
            "336/336 [==============================] - 1s 2ms/step - loss: 5387181.5000 - main_output_loss: 10755249.0000 - aux_output_loss: 19113.8477 - val_loss: 1457060.7500 - val_main_output_loss: 2908639.7500 - val_aux_output_loss: 5481.4146\n",
            "Epoch 8/100\n",
            "336/336 [==============================] - 1s 2ms/step - loss: 5384277.0000 - main_output_loss: 10749456.0000 - aux_output_loss: 19100.4980 - val_loss: 1486589.2500 - val_main_output_loss: 2967182.7500 - val_aux_output_loss: 5996.2061\n",
            "Epoch 9/100\n",
            "336/336 [==============================] - 1s 2ms/step - loss: 5380378.0000 - main_output_loss: 10741713.0000 - aux_output_loss: 19041.1562 - val_loss: 1446242.2500 - val_main_output_loss: 2887411.2500 - val_aux_output_loss: 5072.9946\n",
            "Epoch 10/100\n",
            "336/336 [==============================] - 1s 2ms/step - loss: 5369917.5000 - main_output_loss: 10720910.0000 - aux_output_loss: 18923.2871 - val_loss: 1526696.2500 - val_main_output_loss: 3046850.2500 - val_aux_output_loss: 6542.8462\n",
            "Epoch 11/100\n",
            "336/336 [==============================] - 1s 2ms/step - loss: 5383823.5000 - main_output_loss: 10748490.0000 - aux_output_loss: 19158.5645 - val_loss: 1506972.1250 - val_main_output_loss: 3008049.0000 - val_aux_output_loss: 5894.5010\n",
            "Epoch 12/100\n",
            "336/336 [==============================] - 1s 2ms/step - loss: 5379579.0000 - main_output_loss: 10740049.0000 - aux_output_loss: 19108.9453 - val_loss: 1487909.3750 - val_main_output_loss: 2970366.7500 - val_aux_output_loss: 5452.6035\n",
            "Epoch 13/100\n",
            "336/336 [==============================] - 1s 2ms/step - loss: 5374367.0000 - main_output_loss: 10729677.0000 - aux_output_loss: 19055.5723 - val_loss: 1465987.7500 - val_main_output_loss: 2926649.7500 - val_aux_output_loss: 5325.6348\n",
            "Epoch 14/100\n",
            "336/336 [==============================] - 1s 2ms/step - loss: 5373108.5000 - main_output_loss: 10727176.0000 - aux_output_loss: 19044.3926 - val_loss: 1493363.6250 - val_main_output_loss: 2980778.5000 - val_aux_output_loss: 5949.4253\n",
            "Epoch 15/100\n",
            "336/336 [==============================] - 1s 2ms/step - loss: 5374802.0000 - main_output_loss: 10730526.0000 - aux_output_loss: 19081.9883 - val_loss: 1447918.7500 - val_main_output_loss: 2890670.7500 - val_aux_output_loss: 5166.7690\n",
            "Epoch 16/100\n",
            "336/336 [==============================] - 1s 2ms/step - loss: 5368672.0000 - main_output_loss: 10718328.0000 - aux_output_loss: 19014.7852 - val_loss: 1441851.5000 - val_main_output_loss: 2878534.2500 - val_aux_output_loss: 5167.9180\n",
            "Epoch 17/100\n",
            "336/336 [==============================] - 1s 2ms/step - loss: 5373480.5000 - main_output_loss: 10727883.0000 - aux_output_loss: 19073.5000 - val_loss: 1476843.2500 - val_main_output_loss: 2948307.0000 - val_aux_output_loss: 5379.2451\n",
            "Epoch 18/100\n",
            "336/336 [==============================] - 1s 2ms/step - loss: 5369950.0000 - main_output_loss: 10720851.0000 - aux_output_loss: 19054.2598 - val_loss: 1451751.1250 - val_main_output_loss: 2898264.5000 - val_aux_output_loss: 5237.8994\n",
            "Epoch 19/100\n",
            "336/336 [==============================] - 1s 2ms/step - loss: 5368675.0000 - main_output_loss: 10718312.0000 - aux_output_loss: 19034.9844 - val_loss: 1460797.2500 - val_main_output_loss: 2916311.2500 - val_aux_output_loss: 5283.1978\n",
            "Epoch 20/100\n",
            "336/336 [==============================] - 1s 2ms/step - loss: 5369084.5000 - main_output_loss: 10719104.0000 - aux_output_loss: 19064.6348 - val_loss: 1448993.3750 - val_main_output_loss: 2892860.2500 - val_aux_output_loss: 5126.6704\n",
            "Epoch 21/100\n",
            "336/336 [==============================] - 1s 2ms/step - loss: 5366545.0000 - main_output_loss: 10714063.0000 - aux_output_loss: 19024.7031 - val_loss: 1452488.8750 - val_main_output_loss: 2899823.5000 - val_aux_output_loss: 5154.3892\n",
            "Epoch 22/100\n",
            "336/336 [==============================] - 1s 2ms/step - loss: 5366859.0000 - main_output_loss: 10714660.0000 - aux_output_loss: 19052.0215 - val_loss: 1459833.6250 - val_main_output_loss: 2914473.2500 - val_aux_output_loss: 5194.5576\n",
            "Epoch 23/100\n",
            "336/336 [==============================] - 1s 2ms/step - loss: 5366344.0000 - main_output_loss: 10713656.0000 - aux_output_loss: 19031.7070 - val_loss: 1471990.1250 - val_main_output_loss: 2938324.0000 - val_aux_output_loss: 5656.3462\n",
            "Epoch 24/100\n",
            "336/336 [==============================] - 1s 2ms/step - loss: 5366981.0000 - main_output_loss: 10714900.0000 - aux_output_loss: 19053.6816 - val_loss: 1475034.2500 - val_main_output_loss: 2944539.7500 - val_aux_output_loss: 5528.9849\n",
            "Epoch 25/100\n",
            "336/336 [==============================] - 1s 2ms/step - loss: 5365892.0000 - main_output_loss: 10712742.0000 - aux_output_loss: 19045.5254 - val_loss: 1460861.0000 - val_main_output_loss: 2916448.5000 - val_aux_output_loss: 5274.0195\n",
            "Epoch 26/100\n",
            "336/336 [==============================] - 1s 2ms/step - loss: 5359662.5000 - main_output_loss: 10700344.0000 - aux_output_loss: 18978.0117 - val_loss: 1449729.3750 - val_main_output_loss: 2894290.2500 - val_aux_output_loss: 5167.7861\n",
            "Epoch 27/100\n",
            "336/336 [==============================] - 1s 2ms/step - loss: 5362414.0000 - main_output_loss: 10705803.0000 - aux_output_loss: 19019.8770 - val_loss: 1442330.1250 - val_main_output_loss: 2879534.7500 - val_aux_output_loss: 5125.8164\n",
            "Epoch 28/100\n",
            "336/336 [==============================] - 1s 2ms/step - loss: 5365457.0000 - main_output_loss: 10711867.0000 - aux_output_loss: 19048.0586 - val_loss: 1441031.1250 - val_main_output_loss: 2876913.0000 - val_aux_output_loss: 5149.3330\n",
            "Epoch 29/100\n",
            "336/336 [==============================] - 1s 2ms/step - loss: 5361926.0000 - main_output_loss: 10704862.0000 - aux_output_loss: 18996.6289 - val_loss: 1452940.7500 - val_main_output_loss: 2900721.0000 - val_aux_output_loss: 5160.0557\n",
            "Epoch 30/100\n",
            "336/336 [==============================] - 1s 2ms/step - loss: 5367021.0000 - main_output_loss: 10714959.0000 - aux_output_loss: 19084.5547 - val_loss: 1463406.3750 - val_main_output_loss: 2921400.7500 - val_aux_output_loss: 5411.4282\n",
            "Epoch 31/100\n",
            "336/336 [==============================] - 1s 2ms/step - loss: 5365586.0000 - main_output_loss: 10712127.0000 - aux_output_loss: 19043.8008 - val_loss: 1462287.2500 - val_main_output_loss: 2919270.5000 - val_aux_output_loss: 5303.7310\n",
            "Epoch 32/100\n",
            "336/336 [==============================] - 1s 2ms/step - loss: 5366029.5000 - main_output_loss: 10712975.0000 - aux_output_loss: 19083.8184 - val_loss: 1461440.8750 - val_main_output_loss: 2917622.0000 - val_aux_output_loss: 5260.1689\n",
            "Epoch 33/100\n",
            "336/336 [==============================] - 1s 2ms/step - loss: 5360188.0000 - main_output_loss: 10701393.0000 - aux_output_loss: 18982.6133 - val_loss: 1480203.2500 - val_main_output_loss: 2954812.5000 - val_aux_output_loss: 5593.9536\n",
            "Epoch 34/100\n",
            "336/336 [==============================] - 1s 2ms/step - loss: 5363233.5000 - main_output_loss: 10707427.0000 - aux_output_loss: 19039.3828 - val_loss: 1480479.7500 - val_main_output_loss: 2955638.0000 - val_aux_output_loss: 5321.5479\n",
            "Epoch 35/100\n",
            "336/336 [==============================] - 1s 2ms/step - loss: 5361309.0000 - main_output_loss: 10703572.0000 - aux_output_loss: 19048.2637 - val_loss: 1451820.6250 - val_main_output_loss: 2898471.7500 - val_aux_output_loss: 5168.8945\n",
            "Epoch 36/100\n",
            "336/336 [==============================] - 1s 2ms/step - loss: 5360106.5000 - main_output_loss: 10701182.0000 - aux_output_loss: 19022.0977 - val_loss: 1453296.5000 - val_main_output_loss: 2901348.7500 - val_aux_output_loss: 5244.4033\n",
            "Epoch 37/100\n",
            "336/336 [==============================] - 1s 2ms/step - loss: 5361427.0000 - main_output_loss: 10703843.0000 - aux_output_loss: 19005.1738 - val_loss: 1475127.7500 - val_main_output_loss: 2944863.7500 - val_aux_output_loss: 5391.7759\n",
            "Epoch 38/100\n",
            "336/336 [==============================] - 1s 2ms/step - loss: 5361979.5000 - main_output_loss: 10704930.0000 - aux_output_loss: 19027.3242 - val_loss: 1449924.0000 - val_main_output_loss: 2894731.2500 - val_aux_output_loss: 5117.1426\n",
            "Epoch 39/100\n",
            "336/336 [==============================] - 1s 2ms/step - loss: 5361645.5000 - main_output_loss: 10704247.0000 - aux_output_loss: 19040.7773 - val_loss: 1485254.8750 - val_main_output_loss: 2965068.2500 - val_aux_output_loss: 5441.1348\n",
            "Epoch 40/100\n",
            "336/336 [==============================] - 1s 2ms/step - loss: 5361551.5000 - main_output_loss: 10704074.0000 - aux_output_loss: 19028.5918 - val_loss: 1465296.1250 - val_main_output_loss: 2925356.7500 - val_aux_output_loss: 5235.9619\n",
            "Epoch 41/100\n",
            "336/336 [==============================] - 1s 2ms/step - loss: 5362976.5000 - main_output_loss: 10706898.0000 - aux_output_loss: 19050.9336 - val_loss: 1470016.3750 - val_main_output_loss: 2934715.7500 - val_aux_output_loss: 5317.3467\n",
            "Epoch 42/100\n",
            "336/336 [==============================] - 1s 2ms/step - loss: 5358652.0000 - main_output_loss: 10698311.0000 - aux_output_loss: 18992.4180 - val_loss: 1471865.2500 - val_main_output_loss: 2938512.0000 - val_aux_output_loss: 5219.0923\n",
            "Epoch 43/100\n",
            "336/336 [==============================] - 1s 2ms/step - loss: 5356873.0000 - main_output_loss: 10694756.0000 - aux_output_loss: 18983.3770 - val_loss: 1450210.7500 - val_main_output_loss: 2895283.7500 - val_aux_output_loss: 5137.3701\n",
            "Epoch 44/100\n",
            "336/336 [==============================] - 1s 2ms/step - loss: 5358346.0000 - main_output_loss: 10697679.0000 - aux_output_loss: 19015.4609 - val_loss: 1465206.8750 - val_main_output_loss: 2925206.2500 - val_aux_output_loss: 5207.4224\n",
            "Epoch 45/100\n",
            "336/336 [==============================] - 1s 2ms/step - loss: 5360250.0000 - main_output_loss: 10701462.0000 - aux_output_loss: 19038.3594 - val_loss: 1468112.0000 - val_main_output_loss: 2930840.5000 - val_aux_output_loss: 5383.9976\n",
            "Epoch 46/100\n",
            "336/336 [==============================] - 1s 2ms/step - loss: 5359000.0000 - main_output_loss: 10698978.0000 - aux_output_loss: 19019.2832 - val_loss: 1469295.8750 - val_main_output_loss: 2933249.2500 - val_aux_output_loss: 5342.4658\n",
            "Epoch 47/100\n",
            "336/336 [==============================] - 1s 2ms/step - loss: 5358455.5000 - main_output_loss: 10697909.0000 - aux_output_loss: 19002.6895 - val_loss: 1468253.2500 - val_main_output_loss: 2931363.5000 - val_aux_output_loss: 5143.0693\n",
            "Epoch 48/100\n",
            "336/336 [==============================] - 1s 2ms/step - loss: 5356819.5000 - main_output_loss: 10694642.0000 - aux_output_loss: 19000.8828 - val_loss: 1473900.8750 - val_main_output_loss: 2942468.7500 - val_aux_output_loss: 5332.6489\n",
            "Epoch 49/100\n",
            "336/336 [==============================] - 1s 2ms/step - loss: 5356909.0000 - main_output_loss: 10694830.0000 - aux_output_loss: 18992.8457 - val_loss: 1469611.2500 - val_main_output_loss: 2933891.5000 - val_aux_output_loss: 5331.3950\n",
            "Epoch 50/100\n",
            "336/336 [==============================] - 1s 2ms/step - loss: 5359230.0000 - main_output_loss: 10699427.0000 - aux_output_loss: 19029.9512 - val_loss: 1462802.2500 - val_main_output_loss: 2920361.5000 - val_aux_output_loss: 5242.7559\n",
            "Epoch 51/100\n",
            "336/336 [==============================] - 1s 2ms/step - loss: 5359713.5000 - main_output_loss: 10700388.0000 - aux_output_loss: 19038.6641 - val_loss: 1471706.2500 - val_main_output_loss: 2938090.5000 - val_aux_output_loss: 5322.2266\n",
            "Epoch 52/100\n",
            "336/336 [==============================] - 1s 2ms/step - loss: 5358569.0000 - main_output_loss: 10698097.0000 - aux_output_loss: 19044.9785 - val_loss: 1456275.1250 - val_main_output_loss: 2907230.0000 - val_aux_output_loss: 5320.0215\n",
            "Epoch 53/100\n",
            "336/336 [==============================] - 1s 2ms/step - loss: 5357784.0000 - main_output_loss: 10696538.0000 - aux_output_loss: 19035.0469 - val_loss: 1464837.8750 - val_main_output_loss: 2924465.0000 - val_aux_output_loss: 5211.0005\n",
            "Epoch 54/100\n",
            "336/336 [==============================] - 1s 2ms/step - loss: 5357188.5000 - main_output_loss: 10695380.0000 - aux_output_loss: 18995.5605 - val_loss: 1466139.6250 - val_main_output_loss: 2926911.5000 - val_aux_output_loss: 5367.9663\n",
            "Epoch 55/100\n",
            "336/336 [==============================] - 1s 2ms/step - loss: 5355955.5000 - main_output_loss: 10692895.0000 - aux_output_loss: 19012.9414 - val_loss: 1491441.0000 - val_main_output_loss: 2977392.2500 - val_aux_output_loss: 5489.7046\n",
            "Epoch 56/100\n",
            "336/336 [==============================] - 1s 3ms/step - loss: 5355593.5000 - main_output_loss: 10692196.0000 - aux_output_loss: 18999.4062 - val_loss: 1477700.3750 - val_main_output_loss: 2950032.5000 - val_aux_output_loss: 5367.3696\n",
            "Epoch 57/100\n",
            "336/336 [==============================] - 1s 2ms/step - loss: 5354627.5000 - main_output_loss: 10690274.0000 - aux_output_loss: 18980.4531 - val_loss: 1466389.1250 - val_main_output_loss: 2927555.7500 - val_aux_output_loss: 5222.3037\n",
            "Epoch 58/100\n",
            "336/336 [==============================] - 1s 2ms/step - loss: 5352348.0000 - main_output_loss: 10685739.0000 - aux_output_loss: 18952.4141 - val_loss: 1490991.7500 - val_main_output_loss: 2976157.0000 - val_aux_output_loss: 5826.6479\n",
            "Epoch 59/100\n",
            "336/336 [==============================] - 1s 2ms/step - loss: 5355480.5000 - main_output_loss: 10691943.0000 - aux_output_loss: 19010.0449 - val_loss: 1494506.7500 - val_main_output_loss: 2983235.2500 - val_aux_output_loss: 5778.7686\n",
            "Epoch 60/100\n",
            "336/336 [==============================] - 1s 2ms/step - loss: 5357036.5000 - main_output_loss: 10695062.0000 - aux_output_loss: 19007.0117 - val_loss: 1481159.1250 - val_main_output_loss: 2956940.0000 - val_aux_output_loss: 5377.6055\n",
            "Epoch 61/100\n",
            "336/336 [==============================] - 1s 2ms/step - loss: 5356306.0000 - main_output_loss: 10693590.0000 - aux_output_loss: 19020.0059 - val_loss: 1467384.3750 - val_main_output_loss: 2929548.0000 - val_aux_output_loss: 5220.5527\n",
            "Epoch 62/100\n",
            "336/336 [==============================] - 1s 2ms/step - loss: 5353318.0000 - main_output_loss: 10687633.0000 - aux_output_loss: 19004.0098 - val_loss: 1483495.6250 - val_main_output_loss: 2961600.5000 - val_aux_output_loss: 5390.7856\n",
            "Epoch 63/100\n",
            "336/336 [==============================] - 1s 2ms/step - loss: 5355675.0000 - main_output_loss: 10692351.0000 - aux_output_loss: 19003.8555 - val_loss: 1471311.0000 - val_main_output_loss: 2937088.5000 - val_aux_output_loss: 5533.7612\n",
            "Epoch 64/100\n",
            "336/336 [==============================] - 1s 2ms/step - loss: 5355198.0000 - main_output_loss: 10691363.0000 - aux_output_loss: 19039.4512 - val_loss: 1455376.3750 - val_main_output_loss: 2905680.7500 - val_aux_output_loss: 5071.7412\n",
            "Epoch 65/100\n",
            "336/336 [==============================] - 1s 2ms/step - loss: 5354998.5000 - main_output_loss: 10690992.0000 - aux_output_loss: 19013.8730 - val_loss: 1457121.1250 - val_main_output_loss: 2909005.0000 - val_aux_output_loss: 5237.6299\n",
            "Epoch 66/100\n",
            "336/336 [==============================] - 1s 2ms/step - loss: 5353513.5000 - main_output_loss: 10688026.0000 - aux_output_loss: 19003.7305 - val_loss: 1465710.8750 - val_main_output_loss: 2926204.7500 - val_aux_output_loss: 5217.4390\n",
            "Epoch 67/100\n",
            "336/336 [==============================] - 1s 2ms/step - loss: 5355252.5000 - main_output_loss: 10691508.0000 - aux_output_loss: 18997.5820 - val_loss: 1475246.7500 - val_main_output_loss: 2945331.0000 - val_aux_output_loss: 5162.7002\n",
            "Epoch 68/100\n",
            "336/336 [==============================] - 1s 2ms/step - loss: 5354147.0000 - main_output_loss: 10689277.0000 - aux_output_loss: 19017.0449 - val_loss: 1459684.8750 - val_main_output_loss: 2914154.2500 - val_aux_output_loss: 5215.4712\n",
            "Epoch 69/100\n",
            "336/336 [==============================] - 1s 2ms/step - loss: 5350342.5000 - main_output_loss: 10681716.0000 - aux_output_loss: 18966.0762 - val_loss: 1491812.5000 - val_main_output_loss: 2978039.0000 - val_aux_output_loss: 5585.9629\n",
            "Epoch 70/100\n",
            "336/336 [==============================] - 1s 2ms/step - loss: 5352723.0000 - main_output_loss: 10686450.0000 - aux_output_loss: 18997.1914 - val_loss: 1469211.2500 - val_main_output_loss: 2933084.2500 - val_aux_output_loss: 5339.2046\n",
            "Epoch 71/100\n",
            "336/336 [==============================] - 1s 2ms/step - loss: 5353265.5000 - main_output_loss: 10687534.0000 - aux_output_loss: 18993.1836 - val_loss: 1471002.5000 - val_main_output_loss: 2936429.5000 - val_aux_output_loss: 5575.4419\n",
            "Epoch 72/100\n",
            "336/336 [==============================] - 1s 2ms/step - loss: 5352723.5000 - main_output_loss: 10686420.0000 - aux_output_loss: 19029.5586 - val_loss: 1467312.7500 - val_main_output_loss: 2929382.0000 - val_aux_output_loss: 5243.8467\n",
            "Epoch 73/100\n",
            "336/336 [==============================] - 1s 2ms/step - loss: 5352998.5000 - main_output_loss: 10686997.0000 - aux_output_loss: 18999.5898 - val_loss: 1476230.6250 - val_main_output_loss: 2947192.5000 - val_aux_output_loss: 5269.2778\n",
            "Epoch 74/100\n",
            "336/336 [==============================] - 1s 2ms/step - loss: 5352347.5000 - main_output_loss: 10685696.0000 - aux_output_loss: 19000.8984 - val_loss: 1465179.7500 - val_main_output_loss: 2925027.2500 - val_aux_output_loss: 5332.3242\n",
            "Epoch 75/100\n",
            "336/336 [==============================] - 1s 2ms/step - loss: 5352233.0000 - main_output_loss: 10685476.0000 - aux_output_loss: 18991.0430 - val_loss: 1469638.7500 - val_main_output_loss: 2933850.7500 - val_aux_output_loss: 5426.3921\n",
            "Epoch 76/100\n",
            "336/336 [==============================] - 1s 2ms/step - loss: 5350327.0000 - main_output_loss: 10681709.0000 - aux_output_loss: 18942.9629 - val_loss: 1459105.6250 - val_main_output_loss: 2913069.7500 - val_aux_output_loss: 5141.6880\n",
            "Epoch 77/100\n",
            "336/336 [==============================] - 1s 2ms/step - loss: 5350083.5000 - main_output_loss: 10681191.0000 - aux_output_loss: 18973.3242 - val_loss: 1456808.5000 - val_main_output_loss: 2908433.5000 - val_aux_output_loss: 5184.0649\n",
            "Epoch 78/100\n",
            "336/336 [==============================] - 1s 2ms/step - loss: 5346225.0000 - main_output_loss: 10673504.0000 - aux_output_loss: 18951.9590 - val_loss: 1437052.1250 - val_main_output_loss: 2869077.7500 - val_aux_output_loss: 5026.3110\n",
            "Epoch 79/100\n",
            "336/336 [==============================] - 1s 2ms/step - loss: 5352311.5000 - main_output_loss: 10685631.0000 - aux_output_loss: 18991.7891 - val_loss: 1454083.2500 - val_main_output_loss: 2902935.5000 - val_aux_output_loss: 5230.0229\n",
            "Epoch 80/100\n",
            "336/336 [==============================] - 1s 2ms/step - loss: 5345242.0000 - main_output_loss: 10671568.0000 - aux_output_loss: 18916.6094 - val_loss: 1440749.2500 - val_main_output_loss: 2876495.5000 - val_aux_output_loss: 5002.5298\n",
            "Epoch 81/100\n",
            "336/336 [==============================] - 1s 2ms/step - loss: 5348710.5000 - main_output_loss: 10678459.0000 - aux_output_loss: 18965.3223 - val_loss: 1480201.2500 - val_main_output_loss: 2954908.7500 - val_aux_output_loss: 5493.6538\n",
            "Epoch 82/100\n",
            "336/336 [==============================] - 1s 2ms/step - loss: 5350751.5000 - main_output_loss: 10682523.0000 - aux_output_loss: 18979.7227 - val_loss: 1468892.5000 - val_main_output_loss: 2932621.0000 - val_aux_output_loss: 5163.8320\n",
            "Epoch 83/100\n",
            "336/336 [==============================] - 1s 2ms/step - loss: 5350017.5000 - main_output_loss: 10681072.0000 - aux_output_loss: 18963.2441 - val_loss: 1483700.3750 - val_main_output_loss: 2961636.5000 - val_aux_output_loss: 5764.1636\n",
            "Epoch 84/100\n",
            "336/336 [==============================] - 1s 2ms/step - loss: 5346945.5000 - main_output_loss: 10674932.0000 - aux_output_loss: 18954.0059 - val_loss: 1488042.2500 - val_main_output_loss: 2970471.7500 - val_aux_output_loss: 5612.3716\n",
            "Epoch 85/100\n",
            "336/336 [==============================] - 1s 2ms/step - loss: 5346923.5000 - main_output_loss: 10674915.0000 - aux_output_loss: 18934.1523 - val_loss: 1485800.3750 - val_main_output_loss: 2965892.2500 - val_aux_output_loss: 5708.7324\n",
            "Epoch 86/100\n",
            "336/336 [==============================] - 1s 2ms/step - loss: 5351668.0000 - main_output_loss: 10684339.0000 - aux_output_loss: 18998.1484 - val_loss: 1466796.8750 - val_main_output_loss: 2928363.0000 - val_aux_output_loss: 5231.0669\n",
            "Epoch 87/100\n",
            "336/336 [==============================] - 1s 2ms/step - loss: 5354932.0000 - main_output_loss: 10690813.0000 - aux_output_loss: 19049.1309 - val_loss: 1478644.7500 - val_main_output_loss: 2951630.2500 - val_aux_output_loss: 5659.1885\n",
            "Epoch 88/100\n",
            "336/336 [==============================] - 1s 2ms/step - loss: 5344872.0000 - main_output_loss: 10670817.0000 - aux_output_loss: 18928.3184 - val_loss: 1457955.5000 - val_main_output_loss: 2910772.7500 - val_aux_output_loss: 5138.1782\n",
            "Epoch 89/100\n",
            "336/336 [==============================] - 1s 2ms/step - loss: 5349927.0000 - main_output_loss: 10680872.0000 - aux_output_loss: 18981.7031 - val_loss: 1482041.2500 - val_main_output_loss: 2958269.5000 - val_aux_output_loss: 5812.3496\n",
            "Epoch 90/100\n",
            "336/336 [==============================] - 1s 2ms/step - loss: 5348995.0000 - main_output_loss: 10679011.0000 - aux_output_loss: 18972.5742 - val_loss: 1491479.5000 - val_main_output_loss: 2977293.0000 - val_aux_output_loss: 5665.6772\n",
            "Epoch 91/100\n",
            "336/336 [==============================] - 1s 2ms/step - loss: 5347888.5000 - main_output_loss: 10676786.0000 - aux_output_loss: 18989.0020 - val_loss: 1460945.1250 - val_main_output_loss: 2916689.2500 - val_aux_output_loss: 5201.2646\n",
            "Epoch 92/100\n",
            "336/336 [==============================] - 1s 2ms/step - loss: 5346233.5000 - main_output_loss: 10673514.0000 - aux_output_loss: 18950.3281 - val_loss: 1447438.5000 - val_main_output_loss: 2889803.2500 - val_aux_output_loss: 5073.4336\n",
            "Epoch 93/100\n",
            "336/336 [==============================] - 1s 2ms/step - loss: 5345109.5000 - main_output_loss: 10671272.0000 - aux_output_loss: 18947.3496 - val_loss: 1460131.8750 - val_main_output_loss: 2914919.2500 - val_aux_output_loss: 5344.7236\n",
            "Epoch 94/100\n",
            "336/336 [==============================] - 1s 2ms/step - loss: 5346290.0000 - main_output_loss: 10673623.0000 - aux_output_loss: 18965.9180 - val_loss: 1458003.8750 - val_main_output_loss: 2910757.5000 - val_aux_output_loss: 5250.4438\n",
            "Epoch 95/100\n",
            "336/336 [==============================] - 1s 2ms/step - loss: 5345148.0000 - main_output_loss: 10671345.0000 - aux_output_loss: 18951.8594 - val_loss: 1458830.7500 - val_main_output_loss: 2912342.2500 - val_aux_output_loss: 5319.1694\n",
            "Epoch 96/100\n",
            "336/336 [==============================] - 1s 2ms/step - loss: 5345920.0000 - main_output_loss: 10672877.0000 - aux_output_loss: 18957.0469 - val_loss: 1471890.0000 - val_main_output_loss: 2938420.2500 - val_aux_output_loss: 5359.8799\n",
            "Epoch 97/100\n",
            "336/336 [==============================] - 1s 2ms/step - loss: 5344231.0000 - main_output_loss: 10669538.0000 - aux_output_loss: 18925.4023 - val_loss: 1470850.6250 - val_main_output_loss: 2936598.5000 - val_aux_output_loss: 5103.0254\n",
            "Epoch 98/100\n",
            "336/336 [==============================] - 1s 2ms/step - loss: 5346708.5000 - main_output_loss: 10674429.0000 - aux_output_loss: 18987.0898 - val_loss: 1476572.2500 - val_main_output_loss: 2947617.2500 - val_aux_output_loss: 5527.5474\n",
            "Epoch 99/100\n",
            "336/336 [==============================] - 1s 2ms/step - loss: 5342340.5000 - main_output_loss: 10665751.0000 - aux_output_loss: 18920.7031 - val_loss: 1460035.2500 - val_main_output_loss: 2914854.2500 - val_aux_output_loss: 5215.3164\n",
            "Epoch 100/100\n",
            "336/336 [==============================] - 1s 2ms/step - loss: 5343283.0000 - main_output_loss: 10667630.0000 - aux_output_loss: 18937.7988 - val_loss: 1451310.3750 - val_main_output_loss: 2897502.0000 - val_aux_output_loss: 5118.6797\n"
          ],
          "name": "stdout"
        },
        {
          "output_type": "execute_result",
          "data": {
            "text/plain": [
              "<tensorflow.python.keras.callbacks.History at 0x7f6fefc6cf60>"
            ]
          },
          "metadata": {
            "tags": []
          },
          "execution_count": 76
        }
      ]
    },
    {
      "cell_type": "code",
      "metadata": {
        "id": "vbmdGcWCBA-Z",
        "colab_type": "code",
        "colab": {
          "base_uri": "https://localhost:8080/",
          "height": 34
        },
        "outputId": "62f8b18b-3390-4de4-dfca-083997d2eb95"
      },
      "source": [
        "total_loss, main_loss, aux_loss = MLP_model.evaluate([xtest], [ytest['ConfirmedCases'], ytest['Fatalities']])"
      ],
      "execution_count": 77,
      "outputs": [
        {
          "output_type": "stream",
          "text": [
            "105/105 [==============================] - 0s 1ms/step - loss: 5107125.5000 - main_output_loss: 10196837.0000 - aux_output_loss: 17417.1758\n"
          ],
          "name": "stdout"
        }
      ]
    },
    {
      "cell_type": "code",
      "metadata": {
        "id": "s1qQGrMsBPEq",
        "colab_type": "code",
        "colab": {
          "base_uri": "https://localhost:8080/",
          "height": 34
        },
        "outputId": "854caeae-77b4-457d-8283-6823b5b0dabe"
      },
      "source": [
        "rmse_net = np.sqrt(total_loss)\n",
        "print(rmse_net, np.sqrt(main_loss), np.sqrt(aux_loss))"
      ],
      "execution_count": 78,
      "outputs": [
        {
          "output_type": "stream",
          "text": [
            "2259.895019685649 3193.248659281015 131.97414815504587\n"
          ],
          "name": "stdout"
        }
      ]
    },
    {
      "cell_type": "markdown",
      "metadata": {
        "id": "Q2fqMarBLKm8",
        "colab_type": "text"
      },
      "source": [
        "## Model selection and Fine Tuning\n",
        "\n",
        "**Random Forest Regressor** - lowest error rate: higher max_depth improved prediction score\n"
      ]
    },
    {
      "cell_type": "code",
      "metadata": {
        "id": "B6V7929uCuDc",
        "colab_type": "code",
        "colab": {
          "base_uri": "https://localhost:8080/",
          "height": 35
        },
        "outputId": "5155e14d-888b-4d8a-c464-b3679ac4c22f"
      },
      "source": [
        "# tree_4 = DecisionTreeRegressor(max_depth=100)\n",
        "# tree_4.fit(xtrain, ytrain)\n",
        "# y_4 = tree_4.predict(xtest)\n",
        "# mse_4 = mean_squared_error(ytest, y_4)\n",
        "# rmse4 = np.sqrt(mse_4)\n",
        "# rmsle4 = np.sqrt(mean_squared_log_error( ytest, y_4 ))\n",
        "\n",
        "print('MSE:', mse_4, 'RMSE:', rmse4, 'RMSLE:', rmsle4) #higher max depth reduces error score"
      ],
      "execution_count": 81,
      "outputs": [
        {
          "output_type": "stream",
          "text": [
            "MSE: 9396.514170644392 RMSE: 96.93561868912991 RMSLE: 0.3365344034678863\n"
          ],
          "name": "stdout"
        }
      ]
    },
    {
      "cell_type": "code",
      "metadata": {
        "id": "HfqkiuH5DWDa",
        "colab_type": "code",
        "colab": {
          "base_uri": "https://localhost:8080/",
          "height": 550
        },
        "outputId": "53bdee67-4b38-4c0d-9791-1ff9e51ca4fb"
      },
      "source": [
        "Model #current RandomForestRegressor"
      ],
      "execution_count": 83,
      "outputs": [
        {
          "output_type": "execute_result",
          "data": {
            "text/plain": [
              "Pipeline(memory=None,\n",
              "         steps=[('Prepo',\n",
              "                 ColumnTransformer(n_jobs=-1, remainder='drop',\n",
              "                                   sparse_threshold=0.3,\n",
              "                                   transformer_weights=None,\n",
              "                                   transformers=[('num',\n",
              "                                                  Pipeline(memory=None,\n",
              "                                                           steps=[('imputer',\n",
              "                                                                   SimpleImputer(add_indicator=False,\n",
              "                                                                                 copy=True,\n",
              "                                                                                 fill_value=None,\n",
              "                                                                                 missing_values=nan,\n",
              "                                                                                 strategy='median',\n",
              "                                                                                 verbose=0)),\n",
              "                                                                  ('scaler',\n",
              "                                                                   StandardScaler(copy=True,\n",
              "                                                                                  with_mean=True,\n",
              "                                                                                  wit...\n",
              "                 RandomForestRegressor(bootstrap=True, ccp_alpha=0.0,\n",
              "                                       criterion='mse', max_depth=None,\n",
              "                                       max_features='auto', max_leaf_nodes=None,\n",
              "                                       max_samples=None,\n",
              "                                       min_impurity_decrease=0.0,\n",
              "                                       min_impurity_split=None,\n",
              "                                       min_samples_leaf=1, min_samples_split=2,\n",
              "                                       min_weight_fraction_leaf=0.0,\n",
              "                                       n_estimators=100, n_jobs=-1,\n",
              "                                       oob_score=False, random_state=42,\n",
              "                                       verbose=0, warm_start=False))],\n",
              "         verbose=False)"
            ]
          },
          "metadata": {
            "tags": []
          },
          "execution_count": 83
        }
      ]
    },
    {
      "cell_type": "markdown",
      "metadata": {
        "id": "2WsmFHT9EMyp",
        "colab_type": "text"
      },
      "source": [
        "* n_estimators = number of trees in the foreset\n",
        "* max_features = max number of features considered for splitting a node\n",
        "* max_depth = max number of levels in each decision tree\n",
        "* min_samples_split = min number of data points placed in a node before the node is split\n",
        "* min_samples_leaf = min number of data points allowed in a leaf node\n",
        "* bootstrap = method for sampling data points (with or without replacement)"
      ]
    },
    {
      "cell_type": "code",
      "metadata": {
        "id": "Mu8GearvEKUQ",
        "colab_type": "code",
        "colab": {
          "base_uri": "https://localhost:8080/",
          "height": 230
        },
        "outputId": "230e1ed4-c371-40ca-9679-3ac92b78b24e"
      },
      "source": [
        "from sklearn.model_selection import RandomizedSearchCV\n",
        "from pprint import pprint\n",
        "\n",
        "rf = RandomForestRegressor(random_state = 42)\n",
        "# Number of trees in random forest\n",
        "n_estimators = [int(x) for x in np.linspace(start = 200, stop = 2000, num = 10)]\n",
        "# Number of features to consider at every split\n",
        "max_features = ['auto', 'sqrt']\n",
        "# Maximum number of levels in tree\n",
        "max_depth = [int(x) for x in np.linspace(10, 110, num = 11)]\n",
        "max_depth.append(None)\n",
        "# Minimum number of samples required to split a node\n",
        "min_samples_split = [2, 5, 10]\n",
        "# Minimum number of samples required at each leaf node\n",
        "min_samples_leaf = [1, 2, 4]\n",
        "# Method of selecting samples for training each tree\n",
        "bootstrap = [True, False]\n",
        "# Create the random grid\n",
        "random_grid = {'n_estimators': n_estimators,\n",
        "               'max_features': max_features,\n",
        "               'max_depth': max_depth,\n",
        "               'min_samples_split': min_samples_split,\n",
        "               'min_samples_leaf': min_samples_leaf,\n",
        "               'bootstrap': bootstrap}\n",
        "pprint(random_grid)\n",
        "{'bootstrap': [True, False],\n",
        " 'max_depth': [10, 20, 30, 40, 50, 60, 70, 80, 90, 100, None],\n",
        " 'max_features': ['auto', 'sqrt'],\n",
        " 'min_samples_leaf': [1, 2, 4],\n",
        " 'min_samples_split': [2, 5, 10],\n",
        " 'n_estimators': [200, 400, 600, 800, 1000, 1200, 1400, 1600, 1800, 2000]}"
      ],
      "execution_count": 85,
      "outputs": [
        {
          "output_type": "stream",
          "text": [
            "{'bootstrap': [True, False],\n",
            " 'max_depth': [10, 20, 30, 40, 50, 60, 70, 80, 90, 100, 110, None],\n",
            " 'max_features': ['auto', 'sqrt'],\n",
            " 'min_samples_leaf': [1, 2, 4],\n",
            " 'min_samples_split': [2, 5, 10],\n",
            " 'n_estimators': [200, 400, 600, 800, 1000, 1200, 1400, 1600, 1800, 2000]}\n"
          ],
          "name": "stdout"
        },
        {
          "output_type": "execute_result",
          "data": {
            "text/plain": [
              "{'bootstrap': [True, False],\n",
              " 'max_depth': [10, 20, 30, 40, 50, 60, 70, 80, 90, 100, None],\n",
              " 'max_features': ['auto', 'sqrt'],\n",
              " 'min_samples_leaf': [1, 2, 4],\n",
              " 'min_samples_split': [2, 5, 10],\n",
              " 'n_estimators': [200, 400, 600, 800, 1000, 1200, 1400, 1600, 1800, 2000]}"
            ]
          },
          "metadata": {
            "tags": []
          },
          "execution_count": 85
        }
      ]
    },
    {
      "cell_type": "code",
      "metadata": {
        "id": "1imnv10yExNZ",
        "colab_type": "code",
        "colab": {
          "base_uri": "https://localhost:8080/",
          "height": 656
        },
        "outputId": "9dacf569-6b04-48fe-bfe4-0abfd49112a9"
      },
      "source": [
        "# Use the random grid to search for best hyperparameters\n",
        "rf = RandomForestRegressor()\n",
        "# Random search of parameters, using 3 fold cross validation, \n",
        "# search across 100 different combinations, and use all available cores\n",
        "rf_random = RandomizedSearchCV(estimator = rf, param_distributions = random_grid, n_iter = 100, cv = 3, verbose=2, random_state=42, n_jobs = -1)\n",
        "# Fit the random search model\n",
        "rf_random.fit(xtrain, ytrain)"
      ],
      "execution_count": 86,
      "outputs": [
        {
          "output_type": "stream",
          "text": [
            "Fitting 3 folds for each of 100 candidates, totalling 300 fits\n"
          ],
          "name": "stdout"
        },
        {
          "output_type": "stream",
          "text": [
            "[Parallel(n_jobs=-1)]: Using backend LokyBackend with 2 concurrent workers.\n",
            "/usr/local/lib/python3.6/dist-packages/joblib/externals/loky/process_executor.py:706: UserWarning:\n",
            "\n",
            "A worker stopped while some jobs were given to the executor. This can be caused by a too short worker timeout or by a memory leak.\n",
            "\n",
            "[Parallel(n_jobs=-1)]: Done  37 tasks      | elapsed: 15.0min\n",
            "[Parallel(n_jobs=-1)]: Done 158 tasks      | elapsed: 68.1min\n",
            "[Parallel(n_jobs=-1)]: Done 300 out of 300 | elapsed: 128.4min finished\n"
          ],
          "name": "stderr"
        },
        {
          "output_type": "execute_result",
          "data": {
            "text/plain": [
              "RandomizedSearchCV(cv=3, error_score=nan,\n",
              "                   estimator=RandomForestRegressor(bootstrap=True,\n",
              "                                                   ccp_alpha=0.0,\n",
              "                                                   criterion='mse',\n",
              "                                                   max_depth=None,\n",
              "                                                   max_features='auto',\n",
              "                                                   max_leaf_nodes=None,\n",
              "                                                   max_samples=None,\n",
              "                                                   min_impurity_decrease=0.0,\n",
              "                                                   min_impurity_split=None,\n",
              "                                                   min_samples_leaf=1,\n",
              "                                                   min_samples_split=2,\n",
              "                                                   min_weight_fraction_leaf=0.0,\n",
              "                                                   n_estimators=100,\n",
              "                                                   n_jobs=None, oob_score=Fals...\n",
              "                   param_distributions={'bootstrap': [True, False],\n",
              "                                        'max_depth': [10, 20, 30, 40, 50, 60,\n",
              "                                                      70, 80, 90, 100, 110,\n",
              "                                                      None],\n",
              "                                        'max_features': ['auto', 'sqrt'],\n",
              "                                        'min_samples_leaf': [1, 2, 4],\n",
              "                                        'min_samples_split': [2, 5, 10],\n",
              "                                        'n_estimators': [200, 400, 600, 800,\n",
              "                                                         1000, 1200, 1400, 1600,\n",
              "                                                         1800, 2000]},\n",
              "                   pre_dispatch='2*n_jobs', random_state=42, refit=True,\n",
              "                   return_train_score=False, scoring=None, verbose=2)"
            ]
          },
          "metadata": {
            "tags": []
          },
          "execution_count": 86
        }
      ]
    },
    {
      "cell_type": "code",
      "metadata": {
        "id": "X6P1JGHVFDT4",
        "colab_type": "code",
        "colab": {
          "base_uri": "https://localhost:8080/",
          "height": 123
        },
        "outputId": "7f4dd1df-6663-4521-855e-716742262d56"
      },
      "source": [
        "rf_random.best_params_ #best_parms"
      ],
      "execution_count": 87,
      "outputs": [
        {
          "output_type": "execute_result",
          "data": {
            "text/plain": [
              "{'bootstrap': True,\n",
              " 'max_depth': 100,\n",
              " 'max_features': 'auto',\n",
              " 'min_samples_leaf': 1,\n",
              " 'min_samples_split': 2,\n",
              " 'n_estimators': 800}"
            ]
          },
          "metadata": {
            "tags": []
          },
          "execution_count": 87
        }
      ]
    },
    {
      "cell_type": "markdown",
      "metadata": {
        "id": "W39yqQZX3hLt",
        "colab_type": "text"
      },
      "source": [
        "Test base_model and best_random model: WITH MINMAX SCALER AND featureEncoding\n"
      ]
    },
    {
      "cell_type": "code",
      "metadata": {
        "id": "ycEH3WuK3eeW",
        "colab_type": "code",
        "colab": {}
      },
      "source": [
        ""
      ],
      "execution_count": 0,
      "outputs": []
    },
    {
      "cell_type": "code",
      "metadata": {
        "id": "u4eDhyn5iyC3",
        "colab_type": "code",
        "colab": {
          "base_uri": "https://localhost:8080/",
          "height": 52
        },
        "outputId": "31a09119-790f-49cd-f274-0116cbae93ba"
      },
      "source": [
        "# def evaluate(model, test_features, test_labels):\n",
        "#     predictions = model.predict(test_features)\n",
        "#     errors = abs(predictions - test_labels)\n",
        "#     mape = 100 * np.mean(errors / test_labels)\n",
        "#     accuracy = 100 - mape\n",
        "#     print('Model Performance')\n",
        "#     #print('Average Error: {:0.4f} degrees.'.format(np.mean(errors)))\n",
        "#     print('Accuracy = {:0.2f}%.'.format(accuracy))\n",
        "    \n",
        "#     return accuracy\n",
        "\n",
        "base_model = RandomForestRegressor(n_jobs = -1, random_state = 42)\n",
        "base_model.fit(xtrain, ytrain)\n",
        "predictions = base_model.predict(xtest)\n",
        "base_rmse= np.sqrt(mean_squared_error(ytest, predictions))\n",
        "base_rmsle = np.sqrt(mean_squared_log_error(ytest, predictions))\n",
        "\n",
        "print('Model Performance')\n",
        "print('RMSE:', base_rmse, 'RMSLE:', base_rmsle)\n",
        "\n",
        "# mse_4 = mean_squared_error(ytest, y_4)\n",
        "# rmse4 = np.sqrt(mse_4)\n",
        "# rmsle4 = np.sqrt(mean_squared_log_error( ytest, y_4 ))\n"
      ],
      "execution_count": 94,
      "outputs": [
        {
          "output_type": "stream",
          "text": [
            "Model Performance\n",
            "RMSE: 140.35914705683308 RMSLE: 0.41265968233831274\n"
          ],
          "name": "stdout"
        }
      ]
    },
    {
      "cell_type": "code",
      "metadata": {
        "id": "H_oe6SHalGET",
        "colab_type": "code",
        "colab": {
          "base_uri": "https://localhost:8080/",
          "height": 52
        },
        "outputId": "e45b6a85-4408-45f7-cf18-39dcc64abcdb"
      },
      "source": [
        "best_random = rf_random.best_estimator_\n",
        "best_random.fit(xtrain, ytrain)\n",
        "best_pred = best_random.predict(xtest)\n",
        "best_rmse = np.sqrt(mean_squared_error(ytest, best_pred))\n",
        "best_rmsle = np.sqrt(mean_squared_log_error(ytest, best_pred))\n",
        "\n",
        "print('Model Performance')\n",
        "print('RMSE:', best_rmse, 'RMSLE:', best_rmsle) #does not perform better?"
      ],
      "execution_count": 95,
      "outputs": [
        {
          "output_type": "stream",
          "text": [
            "Model Performance\n",
            "RMSE: 155.56985284254705 RMSLE: 0.42305555637709313\n"
          ],
          "name": "stdout"
        }
      ]
    },
    {
      "cell_type": "code",
      "metadata": {
        "id": "eHc_vJnMlyvw",
        "colab_type": "code",
        "colab": {
          "base_uri": "https://localhost:8080/",
          "height": 141
        },
        "outputId": "bd3c3f9c-724b-40ce-cebc-4390230dbd7e"
      },
      "source": [
        "best_random"
      ],
      "execution_count": 96,
      "outputs": [
        {
          "output_type": "execute_result",
          "data": {
            "text/plain": [
              "RandomForestRegressor(bootstrap=True, ccp_alpha=0.0, criterion='mse',\n",
              "                      max_depth=100, max_features='auto', max_leaf_nodes=None,\n",
              "                      max_samples=None, min_impurity_decrease=0.0,\n",
              "                      min_impurity_split=None, min_samples_leaf=1,\n",
              "                      min_samples_split=2, min_weight_fraction_leaf=0.0,\n",
              "                      n_estimators=800, n_jobs=None, oob_score=False,\n",
              "                      random_state=None, verbose=0, warm_start=False)"
            ]
          },
          "metadata": {
            "tags": []
          },
          "execution_count": 96
        }
      ]
    },
    {
      "cell_type": "markdown",
      "metadata": {
        "id": "0Dv0_l2G3uvp",
        "colab_type": "text"
      },
      "source": [
        "Test RandomForestRegressor with StandardScaler and OneHotEncoder\n"
      ]
    },
    {
      "cell_type": "code",
      "metadata": {
        "id": "ecTkwZeimEjM",
        "colab_type": "code",
        "colab": {
          "base_uri": "https://localhost:8080/",
          "height": 125
        },
        "outputId": "726ef481-7888-49e3-bd57-08aac24a6daa"
      },
      "source": [
        "Nums = Pipeline( #standardize numerical features\n",
        "    steps = [\n",
        "        ('imputer', SimpleImputer(strategy = 'median')), \n",
        "        ('scaler' , StandardScaler())\n",
        "    ])\n",
        "\n",
        "Cat = Pipeline( #dummies for categorical features\n",
        "    steps = [\n",
        "        ('imputer', SimpleImputer(strategy = 'constant', fill_value = 'missing')), \n",
        "        ('onehot' , OneHotEncoder(handle_unknown = 'ignore'))\n",
        "    ])\n",
        "\n",
        "Transformer = ColumnTransformer( #combine standardscale and onehotencoder\n",
        "    n_jobs = -1\n",
        "    , transformers = [\n",
        "        ('num', Nums, xt.select_dtypes(include = ['int64','float64']).columns)\n",
        "        , ('cat', Cat, xt.select_dtypes(include = ['object']).columns)\n",
        "    ])\n",
        "\n",
        "Model = Pipeline(\n",
        "    steps = [\n",
        "        ('Prepo', Transformer)\n",
        "        , ('Clf', best_random) \n",
        "    ])\n",
        "\n",
        "Model.fit(xt, yt)\n",
        "\n",
        "Model.score(xt, yt)\n"
      ],
      "execution_count": 97,
      "outputs": [
        {
          "output_type": "stream",
          "text": [
            "/usr/local/lib/python3.6/dist-packages/sklearn/base.py:434: FutureWarning:\n",
            "\n",
            "The default value of multioutput (not exposed in score method) will change from 'variance_weighted' to 'uniform_average' in 0.23 to keep consistent with 'metrics.r2_score'. To specify the default value manually and avoid the warning, please either call 'metrics.r2_score' directly or make a custom scorer with 'metrics.make_scorer' (the built-in scorer 'r2' uses multioutput='uniform_average').\n",
            "\n"
          ],
          "name": "stderr"
        },
        {
          "output_type": "execute_result",
          "data": {
            "text/plain": [
              "0.9996729047803775"
            ]
          },
          "metadata": {
            "tags": []
          },
          "execution_count": 97
        }
      ]
    },
    {
      "cell_type": "code",
      "metadata": {
        "id": "2t6U8QumnBby",
        "colab_type": "code",
        "colab": {
          "base_uri": "https://localhost:8080/",
          "height": 52
        },
        "outputId": "72ecf4f3-d54d-4f38-d89e-66796b619ad8"
      },
      "source": [
        "y_pred  = Model.predict(xv)\n",
        "rf_mse = mean_squared_error(yv, y_pred)\n",
        "rf_rmse = np.sqrt(rf_mse)\n",
        "rf_rmsle = np.sqrt(mean_squared_log_error( yv, y_pred ))\n",
        "\n",
        "print('RMSE', rf_rmse, '\\n', 'RMSLE', rf_rmsle) #improved score !!"
      ],
      "execution_count": 98,
      "outputs": [
        {
          "output_type": "stream",
          "text": [
            "RMSE 63.61136984756107 \n",
            " RMSLE 0.1976256990145833\n"
          ],
          "name": "stdout"
        }
      ]
    },
    {
      "cell_type": "code",
      "metadata": {
        "id": "TkmNzIXC1C-n",
        "colab_type": "code",
        "colab": {
          "base_uri": "https://localhost:8080/",
          "height": 34
        },
        "outputId": "161313e9-82d9-417b-83b8-205b7863af40"
      },
      "source": [
        "mean_squared_error(yv, y_pred)"
      ],
      "execution_count": 114,
      "outputs": [
        {
          "output_type": "execute_result",
          "data": {
            "text/plain": [
              "4046.406373883202"
            ]
          },
          "metadata": {
            "tags": []
          },
          "execution_count": 114
        }
      ]
    },
    {
      "cell_type": "markdown",
      "metadata": {
        "id": "SPzOcoj64Hmf",
        "colab_type": "text"
      },
      "source": [
        "**Final Model**: Random Forest Regressor using best_params\n",
        "Improved score with OneHotEncoder of Categorical variables and StandardScaler instead of MinMaxScaler"
      ]
    },
    {
      "cell_type": "markdown",
      "metadata": {
        "id": "xWHoFEGc4Bzw",
        "colab_type": "text"
      },
      "source": [
        "**Submission**\n"
      ]
    },
    {
      "cell_type": "code",
      "metadata": {
        "id": "Q06VAhfzn2kr",
        "colab_type": "code",
        "colab": {
          "base_uri": "https://localhost:8080/",
          "height": 406
        },
        "outputId": "c1aba516-3ee0-4b86-9e40-19641b320524"
      },
      "source": [
        "final_test = X_test.drop(['ForecastId', 'Province_State', 'Density (P/Km²)', 'dayofweek'], axis =1)\n",
        "final_test"
      ],
      "execution_count": 105,
      "outputs": [
        {
          "output_type": "execute_result",
          "data": {
            "text/html": [
              "<div>\n",
              "<style scoped>\n",
              "    .dataframe tbody tr th:only-of-type {\n",
              "        vertical-align: middle;\n",
              "    }\n",
              "\n",
              "    .dataframe tbody tr th {\n",
              "        vertical-align: top;\n",
              "    }\n",
              "\n",
              "    .dataframe thead th {\n",
              "        text-align: right;\n",
              "    }\n",
              "</style>\n",
              "<table border=\"1\" class=\"dataframe\">\n",
              "  <thead>\n",
              "    <tr style=\"text-align: right;\">\n",
              "      <th></th>\n",
              "      <th>Country</th>\n",
              "      <th>Date</th>\n",
              "      <th>Population (2020)</th>\n",
              "      <th>Yearly Change</th>\n",
              "      <th>Net Change</th>\n",
              "      <th>Land Area (Km²)</th>\n",
              "      <th>Migrants (net)</th>\n",
              "      <th>Fert. Rate</th>\n",
              "      <th>Med. Age</th>\n",
              "      <th>Urban Pop %</th>\n",
              "      <th>World Share</th>\n",
              "      <th>year</th>\n",
              "      <th>month</th>\n",
              "      <th>week</th>\n",
              "      <th>day</th>\n",
              "      <th>geo</th>\n",
              "    </tr>\n",
              "  </thead>\n",
              "  <tbody>\n",
              "    <tr>\n",
              "      <th>0</th>\n",
              "      <td>Afghanistan</td>\n",
              "      <td>319</td>\n",
              "      <td>38742911</td>\n",
              "      <td>2.33</td>\n",
              "      <td>886592</td>\n",
              "      <td>652860</td>\n",
              "      <td>-62920.0</td>\n",
              "      <td>4.6</td>\n",
              "      <td>18</td>\n",
              "      <td>25</td>\n",
              "      <td>0.50</td>\n",
              "      <td>2020</td>\n",
              "      <td>3</td>\n",
              "      <td>12</td>\n",
              "      <td>79</td>\n",
              "      <td>Afghanistan_</td>\n",
              "    </tr>\n",
              "    <tr>\n",
              "      <th>1</th>\n",
              "      <td>Afghanistan</td>\n",
              "      <td>320</td>\n",
              "      <td>38742911</td>\n",
              "      <td>2.33</td>\n",
              "      <td>886592</td>\n",
              "      <td>652860</td>\n",
              "      <td>-62920.0</td>\n",
              "      <td>4.6</td>\n",
              "      <td>18</td>\n",
              "      <td>25</td>\n",
              "      <td>0.50</td>\n",
              "      <td>2020</td>\n",
              "      <td>3</td>\n",
              "      <td>12</td>\n",
              "      <td>80</td>\n",
              "      <td>Afghanistan_</td>\n",
              "    </tr>\n",
              "    <tr>\n",
              "      <th>2</th>\n",
              "      <td>Afghanistan</td>\n",
              "      <td>321</td>\n",
              "      <td>38742911</td>\n",
              "      <td>2.33</td>\n",
              "      <td>886592</td>\n",
              "      <td>652860</td>\n",
              "      <td>-62920.0</td>\n",
              "      <td>4.6</td>\n",
              "      <td>18</td>\n",
              "      <td>25</td>\n",
              "      <td>0.50</td>\n",
              "      <td>2020</td>\n",
              "      <td>3</td>\n",
              "      <td>12</td>\n",
              "      <td>81</td>\n",
              "      <td>Afghanistan_</td>\n",
              "    </tr>\n",
              "    <tr>\n",
              "      <th>3</th>\n",
              "      <td>Afghanistan</td>\n",
              "      <td>322</td>\n",
              "      <td>38742911</td>\n",
              "      <td>2.33</td>\n",
              "      <td>886592</td>\n",
              "      <td>652860</td>\n",
              "      <td>-62920.0</td>\n",
              "      <td>4.6</td>\n",
              "      <td>18</td>\n",
              "      <td>25</td>\n",
              "      <td>0.50</td>\n",
              "      <td>2020</td>\n",
              "      <td>3</td>\n",
              "      <td>12</td>\n",
              "      <td>82</td>\n",
              "      <td>Afghanistan_</td>\n",
              "    </tr>\n",
              "    <tr>\n",
              "      <th>4</th>\n",
              "      <td>Afghanistan</td>\n",
              "      <td>323</td>\n",
              "      <td>38742911</td>\n",
              "      <td>2.33</td>\n",
              "      <td>886592</td>\n",
              "      <td>652860</td>\n",
              "      <td>-62920.0</td>\n",
              "      <td>4.6</td>\n",
              "      <td>18</td>\n",
              "      <td>25</td>\n",
              "      <td>0.50</td>\n",
              "      <td>2020</td>\n",
              "      <td>3</td>\n",
              "      <td>13</td>\n",
              "      <td>83</td>\n",
              "      <td>Afghanistan_</td>\n",
              "    </tr>\n",
              "    <tr>\n",
              "      <th>...</th>\n",
              "      <td>...</td>\n",
              "      <td>...</td>\n",
              "      <td>...</td>\n",
              "      <td>...</td>\n",
              "      <td>...</td>\n",
              "      <td>...</td>\n",
              "      <td>...</td>\n",
              "      <td>...</td>\n",
              "      <td>...</td>\n",
              "      <td>...</td>\n",
              "      <td>...</td>\n",
              "      <td>...</td>\n",
              "      <td>...</td>\n",
              "      <td>...</td>\n",
              "      <td>...</td>\n",
              "      <td>...</td>\n",
              "    </tr>\n",
              "    <tr>\n",
              "      <th>12637</th>\n",
              "      <td>Zimbabwe</td>\n",
              "      <td>426</td>\n",
              "      <td>14818157</td>\n",
              "      <td>1.48</td>\n",
              "      <td>217456</td>\n",
              "      <td>386850</td>\n",
              "      <td>-116858.0</td>\n",
              "      <td>3.6</td>\n",
              "      <td>19</td>\n",
              "      <td>38</td>\n",
              "      <td>0.19</td>\n",
              "      <td>2020</td>\n",
              "      <td>4</td>\n",
              "      <td>17</td>\n",
              "      <td>117</td>\n",
              "      <td>Zimbabwe_</td>\n",
              "    </tr>\n",
              "    <tr>\n",
              "      <th>12638</th>\n",
              "      <td>Zimbabwe</td>\n",
              "      <td>427</td>\n",
              "      <td>14818157</td>\n",
              "      <td>1.48</td>\n",
              "      <td>217456</td>\n",
              "      <td>386850</td>\n",
              "      <td>-116858.0</td>\n",
              "      <td>3.6</td>\n",
              "      <td>19</td>\n",
              "      <td>38</td>\n",
              "      <td>0.19</td>\n",
              "      <td>2020</td>\n",
              "      <td>4</td>\n",
              "      <td>18</td>\n",
              "      <td>118</td>\n",
              "      <td>Zimbabwe_</td>\n",
              "    </tr>\n",
              "    <tr>\n",
              "      <th>12639</th>\n",
              "      <td>Zimbabwe</td>\n",
              "      <td>428</td>\n",
              "      <td>14818157</td>\n",
              "      <td>1.48</td>\n",
              "      <td>217456</td>\n",
              "      <td>386850</td>\n",
              "      <td>-116858.0</td>\n",
              "      <td>3.6</td>\n",
              "      <td>19</td>\n",
              "      <td>38</td>\n",
              "      <td>0.19</td>\n",
              "      <td>2020</td>\n",
              "      <td>4</td>\n",
              "      <td>18</td>\n",
              "      <td>119</td>\n",
              "      <td>Zimbabwe_</td>\n",
              "    </tr>\n",
              "    <tr>\n",
              "      <th>12640</th>\n",
              "      <td>Zimbabwe</td>\n",
              "      <td>429</td>\n",
              "      <td>14818157</td>\n",
              "      <td>1.48</td>\n",
              "      <td>217456</td>\n",
              "      <td>386850</td>\n",
              "      <td>-116858.0</td>\n",
              "      <td>3.6</td>\n",
              "      <td>19</td>\n",
              "      <td>38</td>\n",
              "      <td>0.19</td>\n",
              "      <td>2020</td>\n",
              "      <td>4</td>\n",
              "      <td>18</td>\n",
              "      <td>120</td>\n",
              "      <td>Zimbabwe_</td>\n",
              "    </tr>\n",
              "    <tr>\n",
              "      <th>12641</th>\n",
              "      <td>Zimbabwe</td>\n",
              "      <td>430</td>\n",
              "      <td>14818157</td>\n",
              "      <td>1.48</td>\n",
              "      <td>217456</td>\n",
              "      <td>386850</td>\n",
              "      <td>-116858.0</td>\n",
              "      <td>3.6</td>\n",
              "      <td>19</td>\n",
              "      <td>38</td>\n",
              "      <td>0.19</td>\n",
              "      <td>2020</td>\n",
              "      <td>4</td>\n",
              "      <td>18</td>\n",
              "      <td>121</td>\n",
              "      <td>Zimbabwe_</td>\n",
              "    </tr>\n",
              "  </tbody>\n",
              "</table>\n",
              "<p>12642 rows × 16 columns</p>\n",
              "</div>"
            ],
            "text/plain": [
              "           Country  Date  Population (2020)  ...  week  day           geo\n",
              "0      Afghanistan   319           38742911  ...    12   79  Afghanistan_\n",
              "1      Afghanistan   320           38742911  ...    12   80  Afghanistan_\n",
              "2      Afghanistan   321           38742911  ...    12   81  Afghanistan_\n",
              "3      Afghanistan   322           38742911  ...    12   82  Afghanistan_\n",
              "4      Afghanistan   323           38742911  ...    13   83  Afghanistan_\n",
              "...            ...   ...                ...  ...   ...  ...           ...\n",
              "12637     Zimbabwe   426           14818157  ...    17  117     Zimbabwe_\n",
              "12638     Zimbabwe   427           14818157  ...    18  118     Zimbabwe_\n",
              "12639     Zimbabwe   428           14818157  ...    18  119     Zimbabwe_\n",
              "12640     Zimbabwe   429           14818157  ...    18  120     Zimbabwe_\n",
              "12641     Zimbabwe   430           14818157  ...    18  121     Zimbabwe_\n",
              "\n",
              "[12642 rows x 16 columns]"
            ]
          },
          "metadata": {
            "tags": []
          },
          "execution_count": 105
        }
      ]
    },
    {
      "cell_type": "code",
      "metadata": {
        "id": "amfWFsYMojKX",
        "colab_type": "code",
        "colab": {}
      },
      "source": [
        "final_pred = Model.predict(final_test)"
      ],
      "execution_count": 0,
      "outputs": []
    },
    {
      "cell_type": "code",
      "metadata": {
        "id": "w_BRer7Fozcu",
        "colab_type": "code",
        "colab": {
          "base_uri": "https://localhost:8080/",
          "height": 406
        },
        "outputId": "4060fb2b-1bd9-420d-a967-e84b2f89b3b2"
      },
      "source": [
        "final_pred = pd.DataFrame(final_pred)\n",
        "final_pred"
      ],
      "execution_count": 109,
      "outputs": [
        {
          "output_type": "execute_result",
          "data": {
            "text/html": [
              "<div>\n",
              "<style scoped>\n",
              "    .dataframe tbody tr th:only-of-type {\n",
              "        vertical-align: middle;\n",
              "    }\n",
              "\n",
              "    .dataframe tbody tr th {\n",
              "        vertical-align: top;\n",
              "    }\n",
              "\n",
              "    .dataframe thead th {\n",
              "        text-align: right;\n",
              "    }\n",
              "</style>\n",
              "<table border=\"1\" class=\"dataframe\">\n",
              "  <thead>\n",
              "    <tr style=\"text-align: right;\">\n",
              "      <th></th>\n",
              "      <th>0</th>\n",
              "      <th>1</th>\n",
              "    </tr>\n",
              "  </thead>\n",
              "  <tbody>\n",
              "    <tr>\n",
              "      <th>0</th>\n",
              "      <td>21.2125</td>\n",
              "      <td>0.0075</td>\n",
              "    </tr>\n",
              "    <tr>\n",
              "      <th>1</th>\n",
              "      <td>21.2125</td>\n",
              "      <td>0.0075</td>\n",
              "    </tr>\n",
              "    <tr>\n",
              "      <th>2</th>\n",
              "      <td>21.2125</td>\n",
              "      <td>0.0075</td>\n",
              "    </tr>\n",
              "    <tr>\n",
              "      <th>3</th>\n",
              "      <td>21.2125</td>\n",
              "      <td>0.0075</td>\n",
              "    </tr>\n",
              "    <tr>\n",
              "      <th>4</th>\n",
              "      <td>21.2125</td>\n",
              "      <td>0.0075</td>\n",
              "    </tr>\n",
              "    <tr>\n",
              "      <th>...</th>\n",
              "      <td>...</td>\n",
              "      <td>...</td>\n",
              "    </tr>\n",
              "    <tr>\n",
              "      <th>12637</th>\n",
              "      <td>3.2625</td>\n",
              "      <td>0.0525</td>\n",
              "    </tr>\n",
              "    <tr>\n",
              "      <th>12638</th>\n",
              "      <td>3.2625</td>\n",
              "      <td>0.0525</td>\n",
              "    </tr>\n",
              "    <tr>\n",
              "      <th>12639</th>\n",
              "      <td>3.2625</td>\n",
              "      <td>0.0525</td>\n",
              "    </tr>\n",
              "    <tr>\n",
              "      <th>12640</th>\n",
              "      <td>3.2625</td>\n",
              "      <td>0.0525</td>\n",
              "    </tr>\n",
              "    <tr>\n",
              "      <th>12641</th>\n",
              "      <td>3.2625</td>\n",
              "      <td>0.0525</td>\n",
              "    </tr>\n",
              "  </tbody>\n",
              "</table>\n",
              "<p>12642 rows × 2 columns</p>\n",
              "</div>"
            ],
            "text/plain": [
              "             0       1\n",
              "0      21.2125  0.0075\n",
              "1      21.2125  0.0075\n",
              "2      21.2125  0.0075\n",
              "3      21.2125  0.0075\n",
              "4      21.2125  0.0075\n",
              "...        ...     ...\n",
              "12637   3.2625  0.0525\n",
              "12638   3.2625  0.0525\n",
              "12639   3.2625  0.0525\n",
              "12640   3.2625  0.0525\n",
              "12641   3.2625  0.0525\n",
              "\n",
              "[12642 rows x 2 columns]"
            ]
          },
          "metadata": {
            "tags": []
          },
          "execution_count": 109
        }
      ]
    },
    {
      "cell_type": "code",
      "metadata": {
        "id": "5yNBHsNnpBQ1",
        "colab_type": "code",
        "colab": {
          "base_uri": "https://localhost:8080/",
          "height": 406
        },
        "outputId": "bebd5e1b-6ef7-486e-a2b7-354b10c44a96"
      },
      "source": [
        "tuned_output = pd.DataFrame({'ForecastId': test.ForecastId, 'ConfirmedCases': final_pred[0], 'Fatalities': final_pred[1]})\n",
        "tuned_output"
      ],
      "execution_count": 111,
      "outputs": [
        {
          "output_type": "execute_result",
          "data": {
            "text/html": [
              "<div>\n",
              "<style scoped>\n",
              "    .dataframe tbody tr th:only-of-type {\n",
              "        vertical-align: middle;\n",
              "    }\n",
              "\n",
              "    .dataframe tbody tr th {\n",
              "        vertical-align: top;\n",
              "    }\n",
              "\n",
              "    .dataframe thead th {\n",
              "        text-align: right;\n",
              "    }\n",
              "</style>\n",
              "<table border=\"1\" class=\"dataframe\">\n",
              "  <thead>\n",
              "    <tr style=\"text-align: right;\">\n",
              "      <th></th>\n",
              "      <th>ForecastId</th>\n",
              "      <th>ConfirmedCases</th>\n",
              "      <th>Fatalities</th>\n",
              "    </tr>\n",
              "  </thead>\n",
              "  <tbody>\n",
              "    <tr>\n",
              "      <th>0</th>\n",
              "      <td>1</td>\n",
              "      <td>21.2125</td>\n",
              "      <td>0.0075</td>\n",
              "    </tr>\n",
              "    <tr>\n",
              "      <th>1</th>\n",
              "      <td>2</td>\n",
              "      <td>21.2125</td>\n",
              "      <td>0.0075</td>\n",
              "    </tr>\n",
              "    <tr>\n",
              "      <th>2</th>\n",
              "      <td>3</td>\n",
              "      <td>21.2125</td>\n",
              "      <td>0.0075</td>\n",
              "    </tr>\n",
              "    <tr>\n",
              "      <th>3</th>\n",
              "      <td>4</td>\n",
              "      <td>21.2125</td>\n",
              "      <td>0.0075</td>\n",
              "    </tr>\n",
              "    <tr>\n",
              "      <th>4</th>\n",
              "      <td>5</td>\n",
              "      <td>21.2125</td>\n",
              "      <td>0.0075</td>\n",
              "    </tr>\n",
              "    <tr>\n",
              "      <th>...</th>\n",
              "      <td>...</td>\n",
              "      <td>...</td>\n",
              "      <td>...</td>\n",
              "    </tr>\n",
              "    <tr>\n",
              "      <th>12637</th>\n",
              "      <td>12638</td>\n",
              "      <td>3.2625</td>\n",
              "      <td>0.0525</td>\n",
              "    </tr>\n",
              "    <tr>\n",
              "      <th>12638</th>\n",
              "      <td>12639</td>\n",
              "      <td>3.2625</td>\n",
              "      <td>0.0525</td>\n",
              "    </tr>\n",
              "    <tr>\n",
              "      <th>12639</th>\n",
              "      <td>12640</td>\n",
              "      <td>3.2625</td>\n",
              "      <td>0.0525</td>\n",
              "    </tr>\n",
              "    <tr>\n",
              "      <th>12640</th>\n",
              "      <td>12641</td>\n",
              "      <td>3.2625</td>\n",
              "      <td>0.0525</td>\n",
              "    </tr>\n",
              "    <tr>\n",
              "      <th>12641</th>\n",
              "      <td>12642</td>\n",
              "      <td>3.2625</td>\n",
              "      <td>0.0525</td>\n",
              "    </tr>\n",
              "  </tbody>\n",
              "</table>\n",
              "<p>12642 rows × 3 columns</p>\n",
              "</div>"
            ],
            "text/plain": [
              "       ForecastId  ConfirmedCases  Fatalities\n",
              "0               1         21.2125      0.0075\n",
              "1               2         21.2125      0.0075\n",
              "2               3         21.2125      0.0075\n",
              "3               4         21.2125      0.0075\n",
              "4               5         21.2125      0.0075\n",
              "...           ...             ...         ...\n",
              "12637       12638          3.2625      0.0525\n",
              "12638       12639          3.2625      0.0525\n",
              "12639       12640          3.2625      0.0525\n",
              "12640       12641          3.2625      0.0525\n",
              "12641       12642          3.2625      0.0525\n",
              "\n",
              "[12642 rows x 3 columns]"
            ]
          },
          "metadata": {
            "tags": []
          },
          "execution_count": 111
        }
      ]
    },
    {
      "cell_type": "code",
      "metadata": {
        "id": "Ghp5v70lpQvr",
        "colab_type": "code",
        "colab": {
          "base_uri": "https://localhost:8080/",
          "height": 125
        },
        "outputId": "9468f5aa-c5b1-45da-a146-93d940249712"
      },
      "source": [
        "tuned_output.to_csv('second_sub.csv', index = False)\n",
        "\n",
        "from google.colab import drive\n",
        "drive.mount('drive')"
      ],
      "execution_count": 112,
      "outputs": [
        {
          "output_type": "stream",
          "text": [
            "Go to this URL in a browser: https://accounts.google.com/o/oauth2/auth?client_id=947318989803-6bn6qk8qdgf4n4g3pfee6491hc0brc4i.apps.googleusercontent.com&redirect_uri=urn%3aietf%3awg%3aoauth%3a2.0%3aoob&response_type=code&scope=email%20https%3a%2f%2fwww.googleapis.com%2fauth%2fdocs.test%20https%3a%2f%2fwww.googleapis.com%2fauth%2fdrive%20https%3a%2f%2fwww.googleapis.com%2fauth%2fdrive.photos.readonly%20https%3a%2f%2fwww.googleapis.com%2fauth%2fpeopleapi.readonly\n",
            "\n",
            "Enter your authorization code:\n",
            "··········\n",
            "Mounted at drive\n"
          ],
          "name": "stdout"
        }
      ]
    },
    {
      "cell_type": "code",
      "metadata": {
        "id": "kKudE_86pequ",
        "colab_type": "code",
        "colab": {}
      },
      "source": [
        "!cp second_sub.csv \"drive/My Drive/\""
      ],
      "execution_count": 0,
      "outputs": []
    }
  ]
}